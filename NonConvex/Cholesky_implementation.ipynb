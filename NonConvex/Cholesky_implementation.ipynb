{
  "nbformat": 4,
  "nbformat_minor": 0,
  "metadata": {
    "colab": {
      "provenance": [],
      "authorship_tag": "ABX9TyM5NdeOzT/nLYqT0Uv/OMq9",
      "include_colab_link": true
    },
    "kernelspec": {
      "name": "python3",
      "display_name": "Python 3"
    },
    "language_info": {
      "name": "python"
    }
  },
  "cells": [
    {
      "cell_type": "markdown",
      "metadata": {
        "id": "view-in-github",
        "colab_type": "text"
      },
      "source": [
        "<a href=\"https://colab.research.google.com/github/garfield-gray/Optimization/blob/main/NonConvex/Cholesky_implementation.ipynb\" target=\"_parent\"><img src=\"https://colab.research.google.com/assets/colab-badge.svg\" alt=\"Open In Colab\"/></a>"
      ]
    },
    {
      "cell_type": "code",
      "execution_count": 174,
      "metadata": {
        "id": "OrsAPUlQdtbf"
      },
      "outputs": [],
      "source": [
        "import numpy as np"
      ]
    },
    {
      "cell_type": "markdown",
      "source": [
        "#Implementations"
      ],
      "metadata": {
        "id": "m67ekw7uhe5l"
      }
    },
    {
      "cell_type": "code",
      "source": [
        "\n",
        "def choleskyFactorization(A):\n",
        "    \"\"\"\n",
        "    Recursive Cholesky decomposition of a symmetric positive definite matrix.\n",
        "\n",
        "    Parameters:\n",
        "    A (numpy.ndarray): Input matrix.\n",
        "\n",
        "    Returns:\n",
        "    numpy.ndarray: Lower triangular matrix (L) such that A = LL^T.\n",
        "    \"\"\"\n",
        "    n = A.shape[0]\n",
        "    L = np.zeros_like(A, dtype=np.float64)\n",
        "\n",
        "    if n == 1:\n",
        "        # l11 in the book\n",
        "        L[0, 0] = np.sqrt(A[0, 0])\n",
        "    else:\n",
        "        # l11 in the book\n",
        "        L[0, 0] = np.sqrt(A[0, 0])\n",
        "        # l21 in the book\n",
        "        L[1:n, 0] = A[1:n, 0] / L[0, 0]\n",
        "        # l22 in the book\n",
        "        L[1:n, 1:n] = choleskyFactorization(A[1:n, 1:n] - np.outer(L[1:n, 0], L[1:n, 0]))\n",
        "\n",
        "    return L\n"
      ],
      "metadata": {
        "id": "ffAwhhsnzD3z"
      },
      "execution_count": 175,
      "outputs": []
    },
    {
      "cell_type": "code",
      "source": [
        "import numpy as np\n",
        "\n",
        "def forward_substitution(L, b):\n",
        "    \"\"\"\n",
        "    Solve Ly = b for y using forward substitution.\n",
        "\n",
        "    Parameters:\n",
        "    L (numpy.ndarray): Lower triangular matrix.\n",
        "    b (numpy.ndarray): Right-hand side vector.\n",
        "\n",
        "    Returns:\n",
        "    numpy.ndarray: Solution vector y.\n",
        "    \"\"\"\n",
        "    n = L.shape[0]\n",
        "    y = np.zeros_like(b, dtype=np.float64)\n",
        "\n",
        "    for i in range(n):\n",
        "        y[i] = (b[i] - np.dot(L[i,:i], y[:i])) / L[i,i]\n",
        "\n",
        "    return y\n",
        "\n",
        "def back_substitution(L, y):\n",
        "    \"\"\"\n",
        "    Solve L^Tx = y for x using back substitution.\n",
        "\n",
        "    Parameters:\n",
        "    L (numpy.ndarray): Lower triangular matrix.\n",
        "    y (numpy.ndarray): Right-hand side vector.\n",
        "\n",
        "    Returns:\n",
        "    numpy.ndarray: Solution vector x.\n",
        "    \"\"\"\n",
        "    n = L.shape[0]\n",
        "    x = np.zeros_like(y, dtype=np.float64)\n",
        "\n",
        "    for i in range(n-1, -1, -1):\n",
        "        x[i] = (y[i] - np.dot(L[i,i+1:], x[i+1:])) / L[i,i]\n",
        "\n",
        "    return x\n",
        "\n",
        "def solveEquation(A, b):\n",
        "    \"\"\"\n",
        "    Solve the equation Ax = b using the Cholesky decomposition.\n",
        "\n",
        "    Parameters:\n",
        "    A (numpy.ndarray): Left-hand side matrix\n",
        "    b (numpy.ndarray): Right-hand side vector.\n",
        "\n",
        "    Returns:\n",
        "    numpy.ndarray: Solution vector x.\n",
        "    \"\"\"\n",
        "    # Step 0: calculating L (numpy.ndarray): Lower triangular matrix (Cholesky decomposition of A).\n",
        "    L = choleskyFactorization(A)\n",
        "\n",
        "    # Step 1: Solve Ly = b for y using forward substitution\n",
        "    y = forward_substitution(L, b)\n",
        "\n",
        "    # Step 2: Solve L^Tx = y for x using back substitution\n",
        "    x = back_substitution(L.T, y)\n",
        "\n",
        "    return x\n"
      ],
      "metadata": {
        "id": "xWO6uqh9hmNh"
      },
      "execution_count": 176,
      "outputs": []
    },
    {
      "cell_type": "code",
      "source": [
        "def MSE(H) -> int:\n",
        "  return np.mean((H)**2)"
      ],
      "metadata": {
        "id": "8v8sqJ5WvBgq"
      },
      "execution_count": 177,
      "outputs": []
    },
    {
      "cell_type": "markdown",
      "source": [
        "#Tests"
      ],
      "metadata": {
        "id": "tyQVqzwEhmla"
      }
    },
    {
      "cell_type": "markdown",
      "source": [
        "##CholeskeyTest"
      ],
      "metadata": {
        "id": "PcNHlcXcwj7k"
      }
    },
    {
      "cell_type": "code",
      "source": [
        "M = np.array([[9, 4, 3],\n",
        "              [4, 17, 21],\n",
        "              [9, 21, 100]])\n",
        "np.linalg.cholesky(M)"
      ],
      "metadata": {
        "colab": {
          "base_uri": "https://localhost:8080/"
        },
        "id": "1BSS1GSUeoOQ",
        "outputId": "14e6fdfb-818d-487a-f6aa-f58d3aa97035"
      },
      "execution_count": 178,
      "outputs": [
        {
          "output_type": "execute_result",
          "data": {
            "text/plain": [
              "array([[3.        , 0.        , 0.        ],\n",
              "       [1.33333333, 3.90156664, 0.        ],\n",
              "       [3.        , 4.35722405, 8.48614156]])"
            ]
          },
          "metadata": {},
          "execution_count": 178
        }
      ]
    },
    {
      "cell_type": "code",
      "source": [
        "choleskyFactorization(M)"
      ],
      "metadata": {
        "colab": {
          "base_uri": "https://localhost:8080/"
        },
        "id": "0lM3Bnx8g3Z3",
        "outputId": "1b027804-9869-4abc-9616-f49af3cec65f"
      },
      "execution_count": 179,
      "outputs": [
        {
          "output_type": "execute_result",
          "data": {
            "text/plain": [
              "array([[3.        , 0.        , 0.        ],\n",
              "       [1.33333333, 3.90156664, 0.        ],\n",
              "       [3.        , 4.35722405, 8.48614156]])"
            ]
          },
          "metadata": {},
          "execution_count": 179
        }
      ]
    },
    {
      "cell_type": "code",
      "source": [
        "mse = MSE(np.linalg.cholesky(M) - choleskyFactorization(M))\n",
        "print(mse)"
      ],
      "metadata": {
        "colab": {
          "base_uri": "https://localhost:8080/"
        },
        "id": "yj0yKUolg5VN",
        "outputId": "25d269c5-3571-4834-ac1d-30919bde82a4"
      },
      "execution_count": 180,
      "outputs": [
        {
          "output_type": "stream",
          "name": "stdout",
          "text": [
            "8.765121169122353e-32\n"
          ]
        }
      ]
    },
    {
      "cell_type": "markdown",
      "source": [
        "##EquationTest"
      ],
      "metadata": {
        "id": "nhYQZFhJwoxM"
      }
    },
    {
      "cell_type": "code",
      "source": [
        "b = ([3, 3.0030, 4.0010])\n",
        "A = np.array([[1, 1, 1],\n",
        "              [1, 1.001, 1.001],\n",
        "              [1, 1.001, 2]])"
      ],
      "metadata": {
        "id": "Yzn55VdvipDf"
      },
      "execution_count": 181,
      "outputs": []
    },
    {
      "cell_type": "code",
      "source": [
        "np.linalg.solve(A, b)"
      ],
      "metadata": {
        "colab": {
          "base_uri": "https://localhost:8080/"
        },
        "id": "IGbosSEOkKs6",
        "outputId": "99d2f731-affe-40b0-9c68-2dc3d48957b2"
      },
      "execution_count": 182,
      "outputs": [
        {
          "output_type": "execute_result",
          "data": {
            "text/plain": [
              "array([-4.44533299e-13,  2.00100100e+00,  9.98998999e-01])"
            ]
          },
          "metadata": {},
          "execution_count": 182
        }
      ]
    },
    {
      "cell_type": "code",
      "source": [
        "solveEquation(A, b)"
      ],
      "metadata": {
        "colab": {
          "base_uri": "https://localhost:8080/"
        },
        "id": "czedRVnJv3Tb",
        "outputId": "c009c105-53d3-45df-8dab-0fc0fae72286"
      },
      "execution_count": 183,
      "outputs": [
        {
          "output_type": "execute_result",
          "data": {
            "text/plain": [
              "array([-4.44089210e-13,  2.00100100e+00,  9.98998999e-01])"
            ]
          },
          "metadata": {},
          "execution_count": 183
        }
      ]
    },
    {
      "cell_type": "code",
      "source": [
        "mse = MSE(np.linalg.solve(A, b) - solveEquation(A, b))\n",
        "print(mse)"
      ],
      "metadata": {
        "colab": {
          "base_uri": "https://localhost:8080/"
        },
        "id": "L8rzYW1kxh24",
        "outputId": "b1c7f1bb-202b-49b2-c891-1d184db9b89d"
      },
      "execution_count": 184,
      "outputs": [
        {
          "output_type": "stream",
          "name": "stdout",
          "text": [
            "6.573840876841765e-32\n"
          ]
        }
      ]
    },
    {
      "cell_type": "code",
      "source": [],
      "metadata": {
        "id": "ITcg69ImxrK7"
      },
      "execution_count": null,
      "outputs": []
    }
  ]
}