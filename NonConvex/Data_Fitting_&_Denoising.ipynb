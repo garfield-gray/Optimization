{
  "nbformat": 4,
  "nbformat_minor": 0,
  "metadata": {
    "colab": {
      "provenance": [],
      "authorship_tag": "ABX9TyO3ub3YH2UMDx0fngQPweP6",
      "include_colab_link": true
    },
    "kernelspec": {
      "name": "python3",
      "display_name": "Python 3"
    },
    "language_info": {
      "name": "python"
    }
  },
  "cells": [
    {
      "cell_type": "markdown",
      "metadata": {
        "id": "view-in-github",
        "colab_type": "text"
      },
      "source": [
        "<a href=\"https://colab.research.google.com/github/garfield-gray/Optimization/blob/main/NonConvex/Data_Fitting_%26_Denoising.ipynb\" target=\"_parent\"><img src=\"https://colab.research.google.com/assets/colab-badge.svg\" alt=\"Open In Colab\"/></a>"
      ]
    },
    {
      "cell_type": "markdown",
      "source": [
        "# Data Fitting & Denoising\n",
        "### Abbas Mohamadiyan\n",
        "### 810898059"
      ],
      "metadata": {
        "id": "qk11zLQ1Iv3W"
      }
    },
    {
      "cell_type": "markdown",
      "source": [
        "### Auxiliary functions\n"
      ],
      "metadata": {
        "id": "fNVGH21nJKCh"
      }
    },
    {
      "cell_type": "code",
      "execution_count": 1,
      "metadata": {
        "id": "kQdCFMcBIuS1"
      },
      "outputs": [],
      "source": [
        "import cv2\n",
        "import matplotlib.pyplot as plt\n",
        "\n",
        "def load_image(path,size = (256,256)):\n",
        "    img = cv2.imread(path,0)\n",
        "    img = cv2.resize(img, size)\n",
        "    return img\n",
        "\n",
        "def show_image(image):\n",
        "    plt.imshow(image,cmap='gray')\n",
        "\n",
        "def load_data(path):\n",
        "    file = open(path).read().split('\\n')\n",
        "    lines = [line.split() for line in file]\n",
        "    return [(eval(x[0]),eval(x[1])) for x in lines ]"
      ]
    },
    {
      "cell_type": "code",
      "source": [],
      "metadata": {
        "id": "impVCYq7JPT7"
      },
      "execution_count": null,
      "outputs": []
    },
    {
      "cell_type": "markdown",
      "source": [
        "# Q1"
      ],
      "metadata": {
        "id": "XgHAoJn8JZba"
      }
    },
    {
      "cell_type": "markdown",
      "source": [
        "### Q1.1"
      ],
      "metadata": {
        "id": "ITIzwGOoJeTE"
      }
    },
    {
      "cell_type": "code",
      "source": [],
      "metadata": {
        "id": "IuqwtuLcJZtj"
      },
      "execution_count": null,
      "outputs": []
    },
    {
      "cell_type": "markdown",
      "source": [
        "### Q1.2"
      ],
      "metadata": {
        "id": "SaudkcNoJZ7A"
      }
    },
    {
      "cell_type": "code",
      "source": [],
      "metadata": {
        "id": "gh72baCHJody"
      },
      "execution_count": null,
      "outputs": []
    },
    {
      "cell_type": "code",
      "source": [],
      "metadata": {
        "id": "ehgITMWPJ4fG"
      },
      "execution_count": null,
      "outputs": []
    },
    {
      "cell_type": "markdown",
      "source": [
        "### Q1.3"
      ],
      "metadata": {
        "id": "_GTGaqqSJ_pM"
      }
    },
    {
      "cell_type": "code",
      "source": [],
      "metadata": {
        "id": "v7O8FkFcKDfW"
      },
      "execution_count": null,
      "outputs": []
    },
    {
      "cell_type": "markdown",
      "source": [
        "### Q1.4"
      ],
      "metadata": {
        "id": "Da3D4bhoKEEm"
      }
    },
    {
      "cell_type": "code",
      "source": [],
      "metadata": {
        "id": "jcrNt_HHKFh5"
      },
      "execution_count": null,
      "outputs": []
    },
    {
      "cell_type": "markdown",
      "source": [
        "### Q1.5"
      ],
      "metadata": {
        "id": "aqvkVD0gKGcq"
      }
    },
    {
      "cell_type": "code",
      "source": [],
      "metadata": {
        "id": "ofXQOmR6KIGG"
      },
      "execution_count": null,
      "outputs": []
    },
    {
      "cell_type": "code",
      "source": [],
      "metadata": {
        "id": "SzijFVQFKMJs"
      },
      "execution_count": null,
      "outputs": []
    },
    {
      "cell_type": "markdown",
      "source": [
        "# Q2"
      ],
      "metadata": {
        "id": "_4M2mAnFKLeu"
      }
    },
    {
      "cell_type": "code",
      "source": [],
      "metadata": {
        "id": "Ll5efzIyKNZd"
      },
      "execution_count": null,
      "outputs": []
    },
    {
      "cell_type": "markdown",
      "source": [
        "### Q2.1"
      ],
      "metadata": {
        "id": "3KwwUBuRKPwi"
      }
    },
    {
      "cell_type": "code",
      "source": [],
      "metadata": {
        "id": "R4eo7_7MKSgo"
      },
      "execution_count": null,
      "outputs": []
    },
    {
      "cell_type": "markdown",
      "source": [
        "### Q2.2"
      ],
      "metadata": {
        "id": "k7BkSD0SKTG1"
      }
    },
    {
      "cell_type": "code",
      "source": [],
      "metadata": {
        "id": "qd6HiyBuKUo7"
      },
      "execution_count": null,
      "outputs": []
    },
    {
      "cell_type": "markdown",
      "source": [
        "### Q2.3"
      ],
      "metadata": {
        "id": "ybKOqRQlKVY9"
      }
    },
    {
      "cell_type": "code",
      "source": [],
      "metadata": {
        "id": "pWq7ntH1KXjv"
      },
      "execution_count": null,
      "outputs": []
    },
    {
      "cell_type": "markdown",
      "source": [
        "### Q2.4"
      ],
      "metadata": {
        "id": "8pm-Cz0sKX_V"
      }
    },
    {
      "cell_type": "code",
      "source": [],
      "metadata": {
        "id": "mQJSMo3PKZZf"
      },
      "execution_count": null,
      "outputs": []
    },
    {
      "cell_type": "markdown",
      "source": [
        "###Q2.5"
      ],
      "metadata": {
        "id": "pd9txQ5yKZ1S"
      }
    },
    {
      "cell_type": "code",
      "source": [],
      "metadata": {
        "id": "TP4z6s5cKbRP"
      },
      "execution_count": null,
      "outputs": []
    }
  ]
}