{
  "cells": [
    {
      "cell_type": "markdown",
      "metadata": {
        "id": "view-in-github",
        "colab_type": "text"
      },
      "source": [
        "<a href=\"https://colab.research.google.com/github/garfield-gray/Optimization/blob/main/Convex/TotalLeastSquaresMonifold.ipynb\" target=\"_parent\"><img src=\"https://colab.research.google.com/assets/colab-badge.svg\" alt=\"Open In Colab\"/></a>"
      ]
    },
    {
      "cell_type": "markdown",
      "metadata": {
        "id": "DwnpIhhi1FsH"
      },
      "source": [
        "# Preparation and Test"
      ]
    },
    {
      "cell_type": "code",
      "execution_count": 6,
      "metadata": {
        "colab": {
          "base_uri": "https://localhost:8080/",
          "height": 480
        },
        "id": "HJ4f3Zb70PkU",
        "outputId": "cadd8dfa-1052-4fac-f774-2267132ca5ce"
      },
      "outputs": [
        {
          "output_type": "stream",
          "name": "stdout",
          "text": [
            "Found existing installation: jax 0.4.30\n",
            "Uninstalling jax-0.4.30:\n",
            "  Successfully uninstalled jax-0.4.30\n",
            "Found existing installation: jaxlib 0.4.30\n",
            "Uninstalling jaxlib-0.4.30:\n",
            "  Successfully uninstalled jaxlib-0.4.30\n",
            "Found existing installation: pymanopt 2.2.0\n",
            "Uninstalling pymanopt-2.2.0:\n",
            "  Successfully uninstalled pymanopt-2.2.0\n",
            "Collecting jax==0.3.25\n",
            "  Using cached jax-0.3.25.tar.gz (1.1 MB)\n",
            "  Preparing metadata (setup.py) ... \u001b[?25l\u001b[?25hdone\n",
            "\u001b[31mERROR: Could not find a version that satisfies the requirement jaxlib==0.3.25 (from versions: 0.4.6, 0.4.7, 0.4.9, 0.4.10, 0.4.11, 0.4.12, 0.4.13, 0.4.14, 0.4.16, 0.4.17, 0.4.18, 0.4.19, 0.4.20, 0.4.21, 0.4.22, 0.4.23, 0.4.24, 0.4.25, 0.4.26, 0.4.27, 0.4.28, 0.4.29, 0.4.30)\u001b[0m\u001b[31m\n",
            "\u001b[0m\u001b[31mERROR: No matching distribution found for jaxlib==0.3.25\u001b[0m\u001b[31m\n",
            "\u001b[0mCollecting pymanopt==2.2.0\n",
            "  Using cached pymanopt-2.2.0-py3-none-any.whl (71 kB)\n",
            "Requirement already satisfied: numpy>=1.16.0 in /usr/local/lib/python3.10/dist-packages (from pymanopt==2.2.0) (1.25.2)\n",
            "Requirement already satisfied: scipy<1.10,>=1.0 in /usr/local/lib/python3.10/dist-packages (from pymanopt==2.2.0) (1.9.3)\n",
            "Installing collected packages: pymanopt\n",
            "Successfully installed pymanopt-2.2.0\n"
          ]
        },
        {
          "output_type": "display_data",
          "data": {
            "application/vnd.colab-display-data+json": {
              "pip_warning": {
                "packages": [
                  "pymanopt"
                ]
              },
              "id": "33d9535b43b145e18241a092fc228377"
            }
          },
          "metadata": {}
        }
      ],
      "source": [
        "!pip uninstall -y jax jaxlib pymanopt\n",
        "!pip install jax==0.3.25 jaxlib==0.3.25\n",
        "!pip install pymanopt==2.2.0\n",
        "\n",
        "import pymanopt\n",
        "import numpy as np"
      ]
    },
    {
      "cell_type": "code",
      "source": [
        "!pip install jax\n",
        "import jax"
      ],
      "metadata": {
        "colab": {
          "base_uri": "https://localhost:8080/",
          "height": 287
        },
        "id": "YrS7rvupT9u5",
        "outputId": "304d8732-35d1-45bd-f679-d249e230aaa2"
      },
      "execution_count": 7,
      "outputs": [
        {
          "output_type": "stream",
          "name": "stdout",
          "text": [
            "Collecting jax\n",
            "  Using cached jax-0.4.30-py3-none-any.whl (2.0 MB)\n",
            "Collecting jaxlib<=0.4.30,>=0.4.27 (from jax)\n",
            "  Using cached jaxlib-0.4.30-cp310-cp310-manylinux2014_x86_64.whl (79.6 MB)\n",
            "Requirement already satisfied: ml-dtypes>=0.2.0 in /usr/local/lib/python3.10/dist-packages (from jax) (0.2.0)\n",
            "Requirement already satisfied: numpy>=1.22 in /usr/local/lib/python3.10/dist-packages (from jax) (1.25.2)\n",
            "Requirement already satisfied: opt-einsum in /usr/local/lib/python3.10/dist-packages (from jax) (3.3.0)\n",
            "Requirement already satisfied: scipy>=1.9 in /usr/local/lib/python3.10/dist-packages (from jax) (1.9.3)\n",
            "Installing collected packages: jaxlib, jax\n",
            "Successfully installed jax-0.4.30 jaxlib-0.4.30\n"
          ]
        },
        {
          "output_type": "display_data",
          "data": {
            "application/vnd.colab-display-data+json": {
              "pip_warning": {
                "packages": [
                  "jax",
                  "jaxlib"
                ]
              },
              "id": "7cc035ef62884ed7b9b49e8284076aaa"
            }
          },
          "metadata": {}
        }
      ]
    },
    {
      "cell_type": "code",
      "execution_count": 8,
      "metadata": {
        "colab": {
          "base_uri": "https://localhost:8080/"
        },
        "id": "niD7iUik1Sb4",
        "outputId": "e21d9fd3-a435-4e07-8a4c-d232665edc0c"
      },
      "outputs": [
        {
          "output_type": "stream",
          "name": "stdout",
          "text": [
            "Optimizing...\n",
            "Iteration    Cost                       Gradient norm     \n",
            "---------    -----------------------    --------------    \n",
            "   1         -5.9247386455535889e-01    1.65398824e+00    \n",
            "   2         -1.4880242347717285e+00    4.11089230e-01    \n",
            "   3         -1.4908581972122192e+00    3.96044154e-01    \n",
            "   4         -1.5009369850158691e+00    3.08355832e-01    \n",
            "   5         -1.5147876739501953e+00    1.05029515e-01    \n",
            "   6         -1.5163927078247070e+00    1.40678374e-02    \n",
            "   7         -1.5164012908935547e+00    1.17809382e-02    \n",
            "   8         -1.5164201259613037e+00    1.18396278e-03    \n",
            "   9         -1.5164203643798828e+00    5.70089985e-04    \n",
            "  10         -1.5164203643798828e+00    1.95245770e-04    \n",
            "Terminated - min step_size reached after 10 iterations, 0.03 seconds.\n",
            "\n",
            "Dominant eigenvector: [0.70809877+0.j 0.49849728+0.j 0.5000967 +0.j]\n",
            "Pymanopt solution: [-0.70807701 -0.49848219 -0.50014244]\n"
          ]
        }
      ],
      "source": [
        "import jax.numpy as jnp\n",
        "import pymanopt\n",
        "import pymanopt.manifolds\n",
        "import pymanopt.optimizers\n",
        "\n",
        "from jax import random\n",
        "key = random.PRNGKey(758493)  # Random seed is explicit in JAX\n",
        "\n",
        "dim = 3\n",
        "manifold = pymanopt.manifolds.Sphere(dim)\n",
        "\n",
        "matrix = jax.random.uniform(key, shape=(dim,dim))\n",
        "# matrix = anp.random.normal(size=(dim, dim))\n",
        "matrix = 0.5 * (matrix + matrix.T)\n",
        "\n",
        "@pymanopt.function.autograd(manifold)\n",
        "def cost(point):\n",
        "    return -point @ matrix @ point\n",
        "\n",
        "problem = pymanopt.Problem(manifold, cost)\n",
        "\n",
        "optimizer = pymanopt.optimizers.SteepestDescent()\n",
        "result = optimizer.run(problem)\n",
        "\n",
        "eigenvalues, eigenvectors = jnp.linalg.eig(matrix)\n",
        "\n",
        "\n",
        "dominant_eigenvector = eigenvectors[:, eigenvalues.real.argmax()]\n",
        "\n",
        "print(\"Dominant eigenvector:\", dominant_eigenvector)\n",
        "print(\"Pymanopt solution:\", result.point)"
      ]
    },
    {
      "cell_type": "code",
      "execution_count": 8,
      "metadata": {
        "id": "tyShFKrm1SpH"
      },
      "outputs": [],
      "source": []
    },
    {
      "cell_type": "markdown",
      "metadata": {
        "id": "U-pUUr9_1TMP"
      },
      "source": [
        "# Manopt first function"
      ]
    },
    {
      "cell_type": "code",
      "execution_count": 9,
      "metadata": {
        "colab": {
          "base_uri": "https://localhost:8080/"
        },
        "id": "fyWWZ8g781_P",
        "outputId": "ab7fbbd0-9054-46dc-e073-f3b689e5b62c"
      },
      "outputs": [
        {
          "output_type": "stream",
          "name": "stdout",
          "text": [
            "Optimizing...\n",
            "Iteration    Cost                       Gradient norm     \n",
            "---------    -----------------------    --------------    \n",
            "   1         +3.2788020372390747e-01    6.15143996e-02    \n",
            "   2         +2.8173908591270447e-02    8.57816175e-01    \n",
            "   3         -1.1289234161376953e+00    1.29837469e+00    \n",
            "   4         -1.1504622697830200e+00    1.27425449e+00    \n",
            "   5         -1.2328430414199829e+00    1.16259998e+00    \n",
            "   6         -1.4703366756439209e+00    5.13238650e-01    \n",
            "   7         -1.5127818584442139e+00    1.46345734e-01    \n",
            "   8         -1.5156599283218384e+00    6.69733389e-02    \n",
            "   9         -1.5158150196075439e+00    5.97735982e-02    \n",
            "  10         -1.5162764787673950e+00    2.91367210e-02    \n",
            "  11         -1.5163676738739014e+00    1.76237832e-02    \n",
            "  12         -1.5163918733596802e+00    1.29829456e-02    \n",
            "  13         -1.5164062976837158e+00    9.15287476e-03    \n",
            "  14         -1.5164202451705933e+00    5.72390387e-04    \n",
            "  15         -1.5164203643798828e+00    1.26649617e-04    \n",
            "  16         -1.5164203643798828e+00    3.07852193e-04    \n",
            "Terminated - min step_size reached after 16 iterations, 0.03 seconds.\n",
            "\n",
            "Dominant eigenvector: [0.70809877+0.j 0.49849728+0.j 0.5000967 +0.j]\n",
            "Pymanopt solution: [-0.70813795 -0.4985136  -0.50002483]\n"
          ]
        }
      ],
      "source": [
        "import jax.numpy as jnp\n",
        "import pymanopt\n",
        "import pymanopt.manifolds\n",
        "import pymanopt.optimizers\n",
        "\n",
        "from jax import random\n",
        "key = random.PRNGKey(758493)  # Random seed is explicit in JAX\n",
        "\n",
        "dim = 3\n",
        "manifold = pymanopt.manifolds.Sphere(dim)\n",
        "\n",
        "matrix = jax.random.uniform(key, shape=(dim,dim))\n",
        "\n",
        "matrix = 0.5 * (matrix + matrix.T)\n",
        "\n",
        "@pymanopt.function.autograd(manifold)\n",
        "def cost(point):\n",
        "    return -point @ matrix @ point\n",
        "\n",
        "problem = pymanopt.Problem(manifold, cost)\n",
        "\n",
        "optimizer = pymanopt.optimizers.SteepestDescent()\n",
        "result = optimizer.run(problem)\n",
        "\n",
        "eigenvalues, eigenvectors = jnp.linalg.eig(matrix)\n",
        "\n",
        "\n",
        "dominant_eigenvector = eigenvectors[:, eigenvalues.real.argmax()]\n",
        "\n",
        "print(\"Dominant eigenvector:\", dominant_eigenvector)\n",
        "print(\"Pymanopt solution:\", result.point)"
      ]
    },
    {
      "cell_type": "code",
      "source": [
        "import jax.numpy as jnp\n",
        "import pymanopt\n",
        "import pymanopt.manifolds\n",
        "import pymanopt.optimizers\n",
        "\n",
        "from jax import random\n",
        "key = random.PRNGKey(758493)  # Random seed is explicit in JAX\n",
        "\n",
        "dim = 4\n",
        "r = 3\n",
        "manifold = pymanopt.manifolds.Stiefel(dim, r)\n",
        "\n",
        "matrix = jax.random.uniform(key, shape=(dim,dim))\n",
        "\n",
        "matrix = 0.5 * (matrix + matrix.T)\n",
        "\n",
        "\n",
        "# Defines the cost function cost(X) decorated with pymanopt.function.autograd(manifold).\n",
        "# This decorator signifies that cost will be optimized on the specified manifold (Stiefel manifold in this case).\n",
        "\n",
        "@pymanopt.function.autograd(manifold)\n",
        "def cost(X):\n",
        "    return -np.trace(X.T @ matrix @ X)\n",
        "\n",
        "problem = pymanopt.Problem(manifold, cost)\n",
        "\n",
        "optimizer = pymanopt.optimizers.SteepestDescent()\n",
        "result = optimizer.run(problem)\n",
        "\n",
        "eigenvalues, eigenvectors = jnp.linalg.eig(matrix)\n",
        "\n",
        "\n",
        "dominant_eigenvector = eigenvectors[:, eigenvalues.real.argmax()]\n",
        "\n",
        "print(\"Dominant eigenvector:\", dominant_eigenvector)\n",
        "print(\"Pymanopt solution:\", result.point)\n",
        "print(\"Pymanopt solution verification:\",\"\\n\", result.point.T@result.point)"
      ],
      "metadata": {
        "colab": {
          "base_uri": "https://localhost:8080/"
        },
        "id": "-bsK-HLgV27S",
        "outputId": "4e6bb041-1115-4f40-a57a-92bda7967e79"
      },
      "execution_count": 10,
      "outputs": [
        {
          "output_type": "stream",
          "name": "stdout",
          "text": [
            "Optimizing...\n",
            "Iteration    Cost                       Gradient norm     \n",
            "---------    -----------------------    --------------    \n",
            "   1         -1.9844378232955933e+00    5.17663507e-01    \n",
            "   2         -2.0758011341094971e+00    1.58394074e+00    \n",
            "   3         -2.3777084350585938e+00    1.07915217e+00    \n",
            "   4         -2.5899252891540527e+00    8.78915068e-01    \n",
            "   5         -2.6114149093627930e+00    9.64334654e-01    \n",
            "   6         -2.6807394027709961e+00    5.91983724e-01    \n",
            "   7         -2.7009329795837402e+00    4.35406964e-01    \n",
            "   8         -2.7055540084838867e+00    3.89248067e-01    \n",
            "   9         -2.7189812660217285e+00    1.76361128e-01    \n",
            "  10         -2.7193603515625000e+00    1.67183328e-01    \n",
            "  11         -2.7206907272338867e+00    1.26201990e-01    \n",
            "  12         -2.7219915390014648e+00    6.46322920e-02    \n",
            "  13         -2.7223753929138184e+00    2.65303879e-02    \n",
            "  14         -2.7224488258361816e+00    6.26401424e-03    \n",
            "  15         -2.7224531173706055e+00    5.28663358e-04    \n",
            "  16         -2.7224533557891846e+00    5.25670517e-04    \n",
            "  17         -2.7224533557891846e+00    5.25660088e-04    \n",
            "Terminated - min step_size reached after 17 iterations, 0.14 seconds.\n",
            "\n",
            "Dominant eigenvector: [-0.28785697+0.j -0.62386155+0.j -0.6074242 +0.j -0.3987117 +0.j]\n",
            "Pymanopt solution: [[ 0.10192897 -0.733464    0.12181994]\n",
            " [-0.07191051 -0.48887012  0.58850233]\n",
            " [-0.12768549  0.46152738  0.78817702]\n",
            " [ 0.98393891  0.10014512  0.13267214]]\n",
            "Pymanopt solution verification: \n",
            " [[ 1.00000000e+00  6.40532040e-17 -2.61567679e-17]\n",
            " [ 6.40532040e-17  1.00000000e+00  1.70518475e-16]\n",
            " [-2.61567679e-17  1.70518475e-16  1.00000000e+00]]\n"
          ]
        }
      ]
    },
    {
      "cell_type": "code",
      "source": [
        "result.point.T@ result.point"
      ],
      "metadata": {
        "colab": {
          "base_uri": "https://localhost:8080/"
        },
        "id": "6uiG2WYkkv6o",
        "outputId": "344539ff-f276-460a-9f3c-9aa80ea6b99a"
      },
      "execution_count": 11,
      "outputs": [
        {
          "output_type": "execute_result",
          "data": {
            "text/plain": [
              "array([[ 1.00000000e+00,  6.40532040e-17, -2.61567679e-17],\n",
              "       [ 6.40532040e-17,  1.00000000e+00,  1.70518475e-16],\n",
              "       [-2.61567679e-17,  1.70518475e-16,  1.00000000e+00]])"
            ]
          },
          "metadata": {},
          "execution_count": 11
        }
      ]
    },
    {
      "cell_type": "markdown",
      "metadata": {
        "id": "w7VmqWLY165h"
      },
      "source": [
        "# Final Code:)"
      ]
    },
    {
      "cell_type": "code",
      "execution_count": 12,
      "metadata": {
        "id": "NWEdaaZL2Bxo"
      },
      "outputs": [],
      "source": [
        "import jax.numpy as jnp\n",
        "import pymanopt\n",
        "import pymanopt.manifolds\n",
        "import pymanopt.optimizers\n",
        "\n",
        "from jax import random"
      ]
    },
    {
      "cell_type": "markdown",
      "source": [
        "## one iteration"
      ],
      "metadata": {
        "id": "Y8FiplIUWtts"
      }
    },
    {
      "cell_type": "code",
      "source": [
        "def TLS(D, T, r):\n",
        "  if D.shape != T.shape:\n",
        "    raise ValueError(\"Dimension mismatch\")\n",
        "\n",
        "  m, n = D.shape[0], D.shape[1]\n",
        "  print(m, n)\n",
        "  A = D.T @ D\n",
        "  B = T.T @ T\n",
        "  C = D.T @ T + T.T @ D\n",
        "  Y = np.zeros((n, r)) # it may need conversion to jax\n",
        "  Y[:r,:] = np.eye(r)\n",
        "  sRow = [np.power(((Y[:,i].T@B@Y[:,i])/(Y[:,i].T@A@Y[:,i])),0.25) for i in range(r)]\n",
        "  S = np.diag(sRow)\n",
        "  print(S)\n",
        "  manifold = pymanopt.manifolds.Stiefel(n, r)\n",
        "\n",
        "  @pymanopt.function.autograd(manifold)\n",
        "  def cost(Y):\n",
        "    return np.trace(Y.T @ A @ Y @ np.linalg.matrix_power(S,2)- Y.T@C@Y + Y.T @ B @ Y @ np.linalg.matrix_power(S,-2))\n",
        "\n",
        "\n",
        "  problem = pymanopt.Problem(manifold, cost)\n",
        "\n",
        "  optimizer = pymanopt.optimizers.SteepestDescent()\n",
        "  result = optimizer.run(problem)\n",
        "  print(result.point.T@result.point)\n",
        "  return result.point"
      ],
      "metadata": {
        "id": "VVGQPta9nbxj"
      },
      "execution_count": 89,
      "outputs": []
    },
    {
      "cell_type": "code",
      "source": [
        "d = jnp.array([[1, 2.1, 3], [4, 5, 6], [7, 8, 9], [1, 2, 3], [4, 5.8, 6], [7, 8, 9]])\n",
        "t = jnp.array([[1, 2.9, 3], [4, 5, 6], [7, 8, 9], [1, 2, 3], [4.9, 5, 6], [7, 8, 9]])\n",
        "TLS(d, t, 2)"
      ],
      "metadata": {
        "colab": {
          "base_uri": "https://localhost:8080/"
        },
        "id": "C9_cdD2dnre0",
        "outputId": "d706470a-fc89-4357-e51d-0e62e52a5c5f"
      },
      "execution_count": 90,
      "outputs": [
        {
          "output_type": "stream",
          "name": "stdout",
          "text": [
            "6 3\n",
            "[[1.014837   0.        ]\n",
            " [0.         0.99399901]]\n",
            "Optimizing...\n",
            "Iteration    Cost                       Gradient norm     \n",
            "---------    -----------------------    --------------    \n",
            "   1         +1.8816280364990234e+00    1.07159051e+00    \n",
            "   2         +7.7285766601562500e-01    1.34943205e+00    \n",
            "   3         +7.5433349609375000e-01    1.36952014e+00    \n",
            "   4         +6.8316650390625000e-01    1.26088531e+00    \n",
            "   5         +4.6292114257812500e-01    6.90414021e-01    \n",
            "   6         +3.9604187011718750e-01    2.86826108e-01    \n",
            "   7         +3.8462829589843750e-01    1.04236612e-01    \n",
            "   8         +3.8378906250000000e-01    8.61515323e-02    \n",
            "   9         +3.8288879394531250e-01    5.29173208e-02    \n",
            "  10         +3.8275146484375000e-01    6.40274015e-02    \n",
            "  11         +3.8236999511718750e-01    3.72472902e-02    \n",
            "  12         +3.8214111328125000e-01    3.47356105e-02    \n",
            "  13         +3.8191223144531250e-01    1.86024119e-02    \n",
            "  14         +3.8186645507812500e-01    4.09725169e-02    \n",
            "  15         +3.8172912597656250e-01    2.64525780e-02    \n",
            "  16         +3.8162231445312500e-01    1.38942262e-02    \n",
            "  17         +3.8154602050781250e-01    1.28887567e-02    \n",
            "  18         +3.8153076171875000e-01    2.22864306e-02    \n",
            "  19         +3.8150024414062500e-01    1.38201398e-02    \n",
            "  20         +3.8148498535156250e-01    1.63539668e-02    \n",
            "  21         +3.8143920898437500e-01    6.53358536e-03    \n",
            "  22         +3.8142395019531250e-01    1.90247632e-02    \n",
            "  23         +3.8140869140625000e-01    1.62591240e-02    \n",
            "  24         +3.8137817382812500e-01    4.23499183e-03    \n",
            "  25         +3.8136291503906250e-01    3.09465999e-03    \n",
            "  26         +3.8133239746093750e-01    7.17532266e-03    \n",
            "  27         +3.8131713867187500e-01    5.32514902e-03    \n",
            "  28         +3.8130187988281250e-01    5.28670941e-03    \n",
            "  29         +3.8128662109375000e-01    4.05525162e-03    \n",
            "  30         +3.8128662109375000e-01    4.05525012e-03    \n",
            "Terminated - min step_size reached after 30 iterations, 0.22 seconds.\n",
            "\n",
            "[[ 1.00000000e+00 -2.89360665e-17]\n",
            " [-2.89360665e-17  1.00000000e+00]]\n"
          ]
        },
        {
          "output_type": "execute_result",
          "data": {
            "text/plain": [
              "array([[-0.84764315,  0.16183381],\n",
              "       [-0.48494203,  0.15004854],\n",
              "       [ 0.21524943,  0.97534366]])"
            ]
          },
          "metadata": {},
          "execution_count": 90
        }
      ]
    },
    {
      "cell_type": "code",
      "source": [],
      "metadata": {
        "id": "lAMoZKp6W1fY"
      },
      "execution_count": null,
      "outputs": []
    },
    {
      "cell_type": "markdown",
      "source": [
        "## multiple iterations"
      ],
      "metadata": {
        "id": "ll6OJ-JEW2kG"
      }
    },
    {
      "cell_type": "code",
      "source": [
        "def TLSm(D, T, r):\n",
        "  if D.shape != T.shape:\n",
        "    raise ValueError(\"Dimension mismatch\")\n",
        "\n",
        "  m, n = D.shape[0], D.shape[1]\n",
        "  print(m, n)\n",
        "  A = D.T @ D\n",
        "  B = T.T @ T\n",
        "  C = D.T @ T + T.T @ D\n",
        "  Y = np.zeros((n, r)) # it may need conversion to jax\n",
        "  Y[:r,:] = np.eye(r)\n",
        "  sRow = [np.power(((Y[:,i].T@B@Y[:,i])/(Y[:,i].T@A@Y[:,i])),0.25) for i in range(r)]\n",
        "  S = np.diag(sRow)\n",
        "  print(S)\n",
        "  manifold = pymanopt.manifolds.Stiefel(n, r)\n",
        "\n",
        "  @pymanopt.function.autograd(manifold)\n",
        "  def cost(Y):\n",
        "    return np.trace(Y.T @ A @ Y @ np.linalg.matrix_power(S,2)- Y.T@C@Y + Y.T @ B @ Y @ np.linalg.matrix_power(S,-2))\n",
        "\n",
        "\n",
        "  problem = pymanopt.Problem(manifold, cost)\n",
        "\n",
        "  optimizer = pymanopt.optimizers.SteepestDescent()\n",
        "  result = optimizer.run(problem)\n",
        "  print(result.point.T@result.point)\n",
        "  return result.point"
      ],
      "metadata": {
        "id": "dYoV8UEiSsvg"
      },
      "execution_count": 92,
      "outputs": []
    },
    {
      "cell_type": "code",
      "source": [
        "d = jnp.array([[1.9, 2.1, 3], [4, 5, 6], [7, 8, 9], [1, 2, 3], [4, 5.8, 6], [7, 8, 9]])\n",
        "t = jnp.array([[1.1, 2.9, 3], [4, 5, 6], [7, 8, 9], [1, 2, 3], [4.9, 5, 6], [7, 8, 9]])\n",
        "TLSm(d, t, 2)"
      ],
      "metadata": {
        "colab": {
          "base_uri": "https://localhost:8080/"
        },
        "id": "sYeeklAoW_eh",
        "outputId": "5939f12b-745f-4482-8587-19c841da8d86"
      },
      "execution_count": 93,
      "outputs": [
        {
          "output_type": "stream",
          "name": "stdout",
          "text": [
            "6 3\n",
            "[[1.01026    0.        ]\n",
            " [0.         0.99399901]]\n",
            "Optimizing...\n",
            "Iteration    Cost                       Gradient norm     \n",
            "---------    -----------------------    --------------    \n",
            "   1         +1.9210815429687500e+00    2.83888012e+00    \n",
            "   2         +1.6545104980468750e-01    6.95155019e-01    \n",
            "   3         +1.2187194824218750e-01    1.74316082e-01    \n",
            "   4         +1.1952209472656250e-01    1.67042741e-01    \n",
            "   5         +1.1723327636718750e-01    1.44611076e-01    \n",
            "   6         +1.1632537841796875e-01    1.87792859e-01    \n",
            "   7         +1.1352539062500000e-01    1.01920541e-01    \n",
            "   8         +1.1258697509765625e-01    1.61419243e-01    \n",
            "   9         +1.1009216308593750e-01    7.08000043e-02    \n",
            "  10         +1.0797119140625000e-01    1.52474084e-01    \n",
            "  11         +1.0665893554687500e-01    1.50123364e-01    \n",
            "  12         +1.0439300537109375e-01    6.51294553e-02    \n",
            "  13         +1.0429763793945312e-01    1.85913775e-01    \n",
            "  14         +1.0382843017578125e-01    1.75510180e-01    \n",
            "  15         +1.0243225097656250e-01    1.22429060e-01    \n",
            "  16         +1.0164260864257812e-01    1.24559099e-01    \n",
            "  17         +9.9975585937500000e-02    4.53612218e-02    \n",
            "  18         +9.8987579345703125e-02    2.13752350e-01    \n",
            "  19         +9.6002578735351562e-02    1.15220568e-01    \n",
            "  20         +9.4854354858398438e-02    3.56745020e-02    \n",
            "  21         +9.4636917114257812e-02    4.35698043e-02    \n",
            "  22         +9.4493865966796875e-02    5.87681830e-02    \n",
            "  23         +9.4167709350585938e-02    2.27224450e-02    \n",
            "  24         +9.3597412109375000e-02    7.04945800e-02    \n",
            "  25         +9.3117713928222656e-02    2.22790793e-02    \n",
            "  26         +9.3019485473632812e-02    3.06794244e-02    \n",
            "  27         +9.3017578125000000e-02    3.71457114e-02    \n",
            "  28         +9.3004226684570312e-02    3.61620491e-02    \n",
            "  29         +9.2989921569824219e-02    2.92410278e-02    \n",
            "  30         +9.2955589294433594e-02    2.09802428e-02    \n",
            "  31         +9.2845916748046875e-02    1.26237648e-02    \n",
            "  32         +9.2640876770019531e-02    3.66488448e-02    \n",
            "  33         +9.2506408691406250e-02    9.91493328e-03    \n",
            "  34         +9.2490196228027344e-02    8.36113399e-03    \n",
            "  35         +9.2487812042236328e-02    1.49272737e-02    \n",
            "  36         +9.2426300048828125e-02    1.22340953e-02    \n",
            "  37         +9.2398643493652344e-02    8.02624134e-03    \n",
            "  38         +9.2372417449951172e-02    1.75722566e-02    \n",
            "  39         +9.2356204986572266e-02    1.49888694e-02    \n",
            "  40         +9.2356204986572266e-02    1.49888688e-02    \n",
            "Terminated - min step_size reached after 40 iterations, 0.19 seconds.\n",
            "\n",
            "[[1.00000000e+00 7.06372352e-17]\n",
            " [7.06372352e-17 1.00000000e+00]]\n"
          ]
        },
        {
          "output_type": "execute_result",
          "data": {
            "text/plain": [
              "array([[ 0.51056574,  0.44402224],\n",
              "       [ 0.52729414,  0.51473294],\n",
              "       [-0.67917856,  0.73341274]])"
            ]
          },
          "metadata": {},
          "execution_count": 93
        }
      ]
    },
    {
      "cell_type": "code",
      "source": [],
      "metadata": {
        "id": "wLc3GVEMW_nb"
      },
      "execution_count": null,
      "outputs": []
    },
    {
      "cell_type": "code",
      "source": [],
      "metadata": {
        "id": "DfRrIl4dW_vT"
      },
      "execution_count": null,
      "outputs": []
    },
    {
      "cell_type": "code",
      "source": [],
      "metadata": {
        "id": "y5lrvRx7W_3O"
      },
      "execution_count": null,
      "outputs": []
    },
    {
      "cell_type": "markdown",
      "source": [
        "# junk"
      ],
      "metadata": {
        "id": "25FfBtEvXWma"
      }
    },
    {
      "cell_type": "code",
      "source": [
        "# def TLS(D, T, r):\n",
        "D = jnp.array([[1, 2.1, 3], [4, 5, 6], [7, 8, 9], [1, 2, 3], [4, 5.8, 6], [7, 8, 9]])\n",
        "T = jnp.array([[1, 2.9, 3], [4, 5, 6], [7, 8, 9], [1, 2, 3], [4.9, 5, 6], [7, 8, 9]])\n",
        "r = 2\n",
        "\n",
        "if D.shape != T.shape:\n",
        "  raise ValueError(\"Dimension mismatch\")\n",
        "\n",
        "m, n = D.shape[0], D.shape[1]\n",
        "\n",
        "A = D.T @ D\n",
        "B = T.T @ T\n",
        "C = D.T @ T + T.T @ D\n",
        "Y = np.zeros((n, r)) # it may need conversion to jax\n",
        "Y[:r,:] = np.eye(r)\n",
        "sRow = [np.power(((Y[:,i].T@B@Y[:,i])/(Y[:,i].T@A@Y[:,i])),0.25) for i in range(r)]\n",
        "S = np.diag(sRow)\n",
        "\n",
        "manifold = pymanopt.manifolds.Stiefel(n, r)\n",
        "\n",
        "\n",
        "@pymanopt.function.autograd(manifold)\n",
        "def cost(Y):\n",
        "  return np.trace(Y.T @ A @ Y @ np.linalg.matrix_power(S,2)- Y.T@C@Y + Y.T @ B @ Y @ np.linalg.matrix_power(S,-2))\n",
        "\n",
        "problem = pymanopt.Problem(manifold, cost)\n",
        "optimizer = pymanopt.optimizers.SteepestDescent()\n",
        "result = optimizer.run(problem)\n",
        "print(result.point)\n",
        "print(result.point.T@result.point)\n",
        ""
      ],
      "metadata": {
        "colab": {
          "base_uri": "https://localhost:8080/"
        },
        "id": "xBHAD5WJSv7T",
        "outputId": "2ca2413e-07db-4c20-ef25-1fdec467c405"
      },
      "execution_count": 87,
      "outputs": [
        {
          "output_type": "stream",
          "name": "stdout",
          "text": [
            "Optimizing...\n",
            "Iteration    Cost                       Gradient norm     \n",
            "---------    -----------------------    --------------    \n",
            "   1         +5.3538513183593750e-01    9.44420518e-01    \n",
            "   2         +4.5117187500000000e-01    6.06402528e-01    \n",
            "   3         +4.0443420410156250e-01    3.13780643e-01    \n",
            "   4         +3.9474487304687500e-01    2.07396572e-01    \n",
            "   5         +3.8940429687500000e-01    1.24909543e-01    \n",
            "   6         +3.8690185546875000e-01    5.20929660e-02    \n",
            "   7         +3.8598632812500000e-01    1.34784161e-01    \n",
            "   8         +3.8356018066406250e-01    4.67923577e-02    \n",
            "   9         +3.8305664062500000e-01    4.37475867e-02    \n",
            "  10         +3.8265991210937500e-01    3.82358003e-02    \n",
            "  11         +3.8246154785156250e-01    3.49117164e-02    \n",
            "  12         +3.8232421875000000e-01    4.13730679e-02    \n",
            "  13         +3.8200378417968750e-01    1.70396839e-02    \n",
            "  14         +3.8175964355468750e-01    3.75910259e-02    \n",
            "  15         +3.8157653808593750e-01    1.18761957e-02    \n",
            "  16         +3.8151550292968750e-01    3.12744097e-02    \n",
            "  17         +3.8140869140625000e-01    6.73379764e-03    \n",
            "  18         +3.8137817382812500e-01    1.16202794e-02    \n",
            "  19         +3.8134765625000000e-01    4.73121808e-03    \n",
            "  20         +3.8133239746093750e-01    4.70966931e-03    \n",
            "  21         +3.8133239746093750e-01    4.70966898e-03    \n",
            "Terminated - min step_size reached after 21 iterations, 0.12 seconds.\n",
            "\n",
            "[[ 0.85111034  0.15263474]\n",
            " [ 0.48357624  0.14452807]\n",
            " [-0.20436537  0.97765754]]\n",
            "[[1.00000000e+00 1.76349759e-17]\n",
            " [1.76349759e-17 1.00000000e+00]]\n"
          ]
        }
      ]
    },
    {
      "cell_type": "code",
      "source": [],
      "metadata": {
        "id": "qZvXLocYSwIo"
      },
      "execution_count": null,
      "outputs": []
    },
    {
      "cell_type": "code",
      "source": [
        "# prompt: make a 2by 2 matrix and raise it to the power of -2\n",
        "\n",
        "import numpy as np\n",
        "\n",
        "matrix = np.array([[1, 2], [3, 4]])\n",
        "inverse_squared = np.linalg.matrix_power(matrix, -2)\n",
        "\n",
        "print(inverse_squared@np.linalg.matrix_power(matrix, 2))\n"
      ],
      "metadata": {
        "colab": {
          "base_uri": "https://localhost:8080/"
        },
        "id": "U9FvC8tALWxs",
        "outputId": "5cab1e76-8896-4b0a-e72e-e8790f3467fc"
      },
      "execution_count": 60,
      "outputs": [
        {
          "output_type": "stream",
          "name": "stdout",
          "text": [
            "[[ 1.00000000e+00 -8.88178420e-15]\n",
            " [ 3.99680289e-15  1.00000000e+00]]\n"
          ]
        }
      ]
    },
    {
      "cell_type": "code",
      "source": [
        "\n",
        "key = random.PRNGKey(758493)  # Random seed is explicit in JAX\n",
        "\n",
        "dim = 4\n",
        "r = 3\n",
        "manifold = pymanopt.manifolds.Stiefel(dim, r)\n",
        "\n",
        "matrix = jax.random.uniform(key, shape=(dim,dim))\n",
        "\n",
        "matrix = 0.5 * (matrix + matrix.T)\n",
        "\n",
        "\n",
        "# Defines the cost function cost(X) decorated with pymanopt.function.autograd(manifold).\n",
        "# This decorator signifies that cost will be optimized on the specified manifold (Stiefel manifold in this case).\n",
        "\n",
        "@pymanopt.function.autograd(manifold)\n",
        "def cost(X):\n",
        "    return -np.trace(X.T @ matrix @ X)\n",
        "\n",
        "problem = pymanopt.Problem(manifold, cost)\n",
        "\n",
        "optimizer = pymanopt.optimizers.SteepestDescent()\n",
        "result = optimizer.run(problem)\n",
        "\n",
        "eigenvalues, eigenvectors = jnp.linalg.eig(matrix)\n",
        "\n",
        "\n",
        "dominant_eigenvector = eigenvectors[:, eigenvalues.real.argmax()]\n",
        "\n",
        "print(\"Dominant eigenvector:\", dominant_eigenvector)\n",
        "print(\"Pymanopt solution:\", result.point)\n"
      ],
      "metadata": {
        "id": "zKZLyjxfm1Q5",
        "colab": {
          "base_uri": "https://localhost:8080/"
        },
        "outputId": "b620f7ae-c0ba-4a5e-b0bc-4437af16011a"
      },
      "execution_count": 55,
      "outputs": [
        {
          "output_type": "stream",
          "name": "stdout",
          "text": [
            "Optimizing...\n",
            "Iteration    Cost                       Gradient norm     \n",
            "---------    -----------------------    --------------    \n",
            "   1         -1.0553249120712280e+00    1.50072370e+00    \n",
            "   2         -1.9962484836578369e+00    5.55656854e-01    \n",
            "   3         -2.1164600849151611e+00    1.86524587e+00    \n",
            "   4         -2.5033340454101562e+00    1.15338850e+00    \n",
            "   5         -2.5297145843505859e+00    1.24785336e+00    \n",
            "   6         -2.6212491989135742e+00    9.17485706e-01    \n",
            "   7         -2.6574642658233643e+00    7.52870204e-01    \n",
            "   8         -2.7211558818817139e+00    9.86398166e-02    \n",
            "   9         -2.7217109203338623e+00    8.02943698e-02    \n",
            "  10         -2.7222251892089844e+00    4.47678073e-02    \n",
            "  11         -2.7224435806274414e+00    7.96516622e-03    \n",
            "  12         -2.7224478721618652e+00    6.93928798e-03    \n",
            "  13         -2.7224509716033936e+00    4.24068955e-03    \n",
            "  14         -2.7224526405334473e+00    2.37614942e-03    \n",
            "  15         -2.7224528789520264e+00    8.12282918e-04    \n",
            "  16         -2.7224531173706055e+00    5.13921082e-04    \n",
            "  17         -2.7224533557891846e+00    3.83809324e-04    \n",
            "  18         -2.7224533557891846e+00    3.83788127e-04    \n",
            "Terminated - min step_size reached after 18 iterations, 0.06 seconds.\n",
            "\n",
            "Dominant eigenvector: [-0.28785697+0.j -0.62386155+0.j -0.6074242 +0.j -0.3987117 +0.j]\n",
            "Pymanopt solution: [[ 0.61575817  0.24854989  0.34964431]\n",
            " [ 0.73729396 -0.20853483  0.0592622 ]\n",
            " [ 0.20011719 -0.6545526  -0.61805501]\n",
            " [ 0.19285384  0.68285948 -0.70160164]]\n"
          ]
        }
      ]
    },
    {
      "cell_type": "code",
      "source": [],
      "metadata": {
        "id": "c_4SEmPEKHTH"
      },
      "execution_count": null,
      "outputs": []
    }
  ],
  "metadata": {
    "colab": {
      "provenance": [],
      "authorship_tag": "ABX9TyM6atxqEqtlNlWmzomaRwoD",
      "include_colab_link": true
    },
    "kernelspec": {
      "display_name": "Python 3",
      "name": "python3"
    },
    "language_info": {
      "name": "python"
    }
  },
  "nbformat": 4,
  "nbformat_minor": 0
}