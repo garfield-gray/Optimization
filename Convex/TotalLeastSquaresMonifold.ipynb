{
  "cells": [
    {
      "cell_type": "markdown",
      "metadata": {
        "id": "view-in-github",
        "colab_type": "text"
      },
      "source": [
        "<a href=\"https://colab.research.google.com/github/garfield-gray/Optimization/blob/main/Convex/TotalLeastSquaresMonifold.ipynb\" target=\"_parent\"><img src=\"https://colab.research.google.com/assets/colab-badge.svg\" alt=\"Open In Colab\"/></a>"
      ]
    },
    {
      "cell_type": "markdown",
      "metadata": {
        "id": "DwnpIhhi1FsH"
      },
      "source": [
        "# Preparation and Test"
      ]
    },
    {
      "cell_type": "code",
      "execution_count": 12,
      "metadata": {
        "colab": {
          "base_uri": "https://localhost:8080/",
          "height": 480
        },
        "id": "HJ4f3Zb70PkU",
        "outputId": "51a371a2-c286-45d6-b6a3-136bc94bfa24"
      },
      "outputs": [
        {
          "output_type": "stream",
          "name": "stdout",
          "text": [
            "Found existing installation: jax 0.4.30\n",
            "Uninstalling jax-0.4.30:\n",
            "  Successfully uninstalled jax-0.4.30\n",
            "Found existing installation: jaxlib 0.4.30\n",
            "Uninstalling jaxlib-0.4.30:\n",
            "  Successfully uninstalled jaxlib-0.4.30\n",
            "Found existing installation: pymanopt 2.2.0\n",
            "Uninstalling pymanopt-2.2.0:\n",
            "  Successfully uninstalled pymanopt-2.2.0\n",
            "Collecting jax==0.3.25\n",
            "  Using cached jax-0.3.25.tar.gz (1.1 MB)\n",
            "  Preparing metadata (setup.py) ... \u001b[?25l\u001b[?25hdone\n",
            "\u001b[31mERROR: Could not find a version that satisfies the requirement jaxlib==0.3.25 (from versions: 0.4.6, 0.4.7, 0.4.9, 0.4.10, 0.4.11, 0.4.12, 0.4.13, 0.4.14, 0.4.16, 0.4.17, 0.4.18, 0.4.19, 0.4.20, 0.4.21, 0.4.22, 0.4.23, 0.4.24, 0.4.25, 0.4.26, 0.4.27, 0.4.28, 0.4.29, 0.4.30)\u001b[0m\u001b[31m\n",
            "\u001b[0m\u001b[31mERROR: No matching distribution found for jaxlib==0.3.25\u001b[0m\u001b[31m\n",
            "\u001b[0mCollecting pymanopt==2.2.0\n",
            "  Using cached pymanopt-2.2.0-py3-none-any.whl (71 kB)\n",
            "Requirement already satisfied: numpy>=1.16.0 in /usr/local/lib/python3.10/dist-packages (from pymanopt==2.2.0) (1.25.2)\n",
            "Requirement already satisfied: scipy<1.10,>=1.0 in /usr/local/lib/python3.10/dist-packages (from pymanopt==2.2.0) (1.9.3)\n",
            "Installing collected packages: pymanopt\n",
            "Successfully installed pymanopt-2.2.0\n"
          ]
        },
        {
          "output_type": "display_data",
          "data": {
            "application/vnd.colab-display-data+json": {
              "pip_warning": {
                "packages": [
                  "pymanopt"
                ]
              },
              "id": "e94bae2bc32e4386939f7f180b3dbe6c"
            }
          },
          "metadata": {}
        }
      ],
      "source": [
        "!pip uninstall -y jax jaxlib pymanopt\n",
        "!pip install jax==0.3.25 jaxlib==0.3.25\n",
        "!pip install pymanopt==2.2.0\n",
        "\n",
        "import pymanopt\n"
      ]
    },
    {
      "cell_type": "code",
      "source": [
        "!pip install jax\n",
        "import jax"
      ],
      "metadata": {
        "colab": {
          "base_uri": "https://localhost:8080/",
          "height": 287
        },
        "id": "YrS7rvupT9u5",
        "outputId": "8f50ddf3-588b-4321-c85c-8a1b42a54a59"
      },
      "execution_count": 13,
      "outputs": [
        {
          "output_type": "stream",
          "name": "stdout",
          "text": [
            "Collecting jax\n",
            "  Using cached jax-0.4.30-py3-none-any.whl (2.0 MB)\n",
            "Collecting jaxlib<=0.4.30,>=0.4.27 (from jax)\n",
            "  Using cached jaxlib-0.4.30-cp310-cp310-manylinux2014_x86_64.whl (79.6 MB)\n",
            "Requirement already satisfied: ml-dtypes>=0.2.0 in /usr/local/lib/python3.10/dist-packages (from jax) (0.2.0)\n",
            "Requirement already satisfied: numpy>=1.22 in /usr/local/lib/python3.10/dist-packages (from jax) (1.25.2)\n",
            "Requirement already satisfied: opt-einsum in /usr/local/lib/python3.10/dist-packages (from jax) (3.3.0)\n",
            "Requirement already satisfied: scipy>=1.9 in /usr/local/lib/python3.10/dist-packages (from jax) (1.9.3)\n",
            "Installing collected packages: jaxlib, jax\n",
            "Successfully installed jax-0.4.30 jaxlib-0.4.30\n"
          ]
        },
        {
          "output_type": "display_data",
          "data": {
            "application/vnd.colab-display-data+json": {
              "pip_warning": {
                "packages": [
                  "jax",
                  "jaxlib"
                ]
              },
              "id": "805a856e5dbd4810a5b86fd89b7c977f"
            }
          },
          "metadata": {}
        }
      ]
    },
    {
      "cell_type": "code",
      "execution_count": 14,
      "metadata": {
        "colab": {
          "base_uri": "https://localhost:8080/"
        },
        "id": "niD7iUik1Sb4",
        "outputId": "2064a976-7c16-4ec0-daca-79e129d78e5b"
      },
      "outputs": [
        {
          "output_type": "stream",
          "name": "stdout",
          "text": [
            "Optimizing...\n",
            "Iteration    Cost                       Gradient norm     \n",
            "---------    -----------------------    --------------    \n",
            "   1         -3.8244095444679260e-01    1.38542077e+00    \n",
            "   2         -1.4024827480316162e+00    7.87703283e-01    \n",
            "   3         -1.5149493217468262e+00    9.32544544e-02    \n",
            "   4         -1.5163631439208984e+00    1.85166409e-02    \n",
            "   5         -1.5164027214050293e+00    1.04554883e-02    \n",
            "   6         -1.5164198875427246e+00    1.78467593e-03    \n",
            "   7         -1.5164202451705933e+00    4.07885959e-04    \n",
            "   8         -1.5164203643798828e+00    4.01647558e-04    \n",
            "   9         -1.5164203643798828e+00    1.46429843e-04    \n",
            "Terminated - min step_size reached after 9 iterations, 0.02 seconds.\n",
            "\n",
            "Dominant eigenvector: [0.70809877+0.j 0.49849728+0.j 0.5000967 +0.j]\n",
            "Pymanopt solution: [0.70811704 0.49850561 0.5000624 ]\n"
          ]
        }
      ],
      "source": [
        "import jax.numpy as jnp\n",
        "import pymanopt\n",
        "import pymanopt.manifolds\n",
        "import pymanopt.optimizers\n",
        "\n",
        "from jax import random\n",
        "key = random.PRNGKey(758493)  # Random seed is explicit in JAX\n",
        "\n",
        "dim = 3\n",
        "manifold = pymanopt.manifolds.Sphere(dim)\n",
        "\n",
        "matrix = jax.random.uniform(key, shape=(dim,dim))\n",
        "# matrix = anp.random.normal(size=(dim, dim))\n",
        "matrix = 0.5 * (matrix + matrix.T)\n",
        "\n",
        "@pymanopt.function.autograd(manifold)\n",
        "def cost(point):\n",
        "    return -point @ matrix @ point\n",
        "\n",
        "problem = pymanopt.Problem(manifold, cost)\n",
        "\n",
        "optimizer = pymanopt.optimizers.SteepestDescent()\n",
        "result = optimizer.run(problem)\n",
        "\n",
        "eigenvalues, eigenvectors = jnp.linalg.eig(matrix)\n",
        "\n",
        "\n",
        "dominant_eigenvector = eigenvectors[:, eigenvalues.real.argmax()]\n",
        "\n",
        "print(\"Dominant eigenvector:\", dominant_eigenvector)\n",
        "print(\"Pymanopt solution:\", result.point)"
      ]
    },
    {
      "cell_type": "code",
      "execution_count": 14,
      "metadata": {
        "id": "tyShFKrm1SpH"
      },
      "outputs": [],
      "source": []
    },
    {
      "cell_type": "markdown",
      "metadata": {
        "id": "U-pUUr9_1TMP"
      },
      "source": [
        "# Manopt first function"
      ]
    },
    {
      "cell_type": "code",
      "execution_count": 15,
      "metadata": {
        "colab": {
          "base_uri": "https://localhost:8080/"
        },
        "id": "fyWWZ8g781_P",
        "outputId": "8b4868a3-16c2-43f6-ee89-14ed1efe9b0c"
      },
      "outputs": [
        {
          "output_type": "stream",
          "name": "stdout",
          "text": [
            "Optimizing...\n",
            "Iteration    Cost                       Gradient norm     \n",
            "---------    -----------------------    --------------    \n",
            "   1         -1.1613118648529053e+00    1.26149272e+00    \n",
            "   2         -1.4093770980834961e+00    7.65685852e-01    \n",
            "   3         -1.5139479637145996e+00    1.21127525e-01    \n",
            "   4         -1.5161575078964233e+00    3.99360485e-02    \n",
            "   5         -1.5164178609848022e+00    4.22774009e-03    \n",
            "   6         -1.5164191722869873e+00    2.84098695e-03    \n",
            "   7         -1.5164201259613037e+00    5.65828538e-04    \n",
            "   8         -1.5164201259613037e+00    9.90259813e-04    \n",
            "Terminated - min step_size reached after 8 iterations, 0.03 seconds.\n",
            "\n",
            "Dominant eigenvector: [0.70809877+0.j 0.49849728+0.j 0.5000967 +0.j]\n",
            "Pymanopt solution: [0.70821929 0.49855837 0.49986498]\n"
          ]
        }
      ],
      "source": [
        "import jax.numpy as jnp\n",
        "import pymanopt\n",
        "import pymanopt.manifolds\n",
        "import pymanopt.optimizers\n",
        "\n",
        "from jax import random\n",
        "key = random.PRNGKey(758493)  # Random seed is explicit in JAX\n",
        "\n",
        "dim = 3\n",
        "manifold = pymanopt.manifolds.Sphere(dim)\n",
        "\n",
        "matrix = jax.random.uniform(key, shape=(dim,dim))\n",
        "\n",
        "matrix = 0.5 * (matrix + matrix.T)\n",
        "\n",
        "@pymanopt.function.autograd(manifold)\n",
        "def cost(point):\n",
        "    return -point @ matrix @ point\n",
        "\n",
        "problem = pymanopt.Problem(manifold, cost)\n",
        "\n",
        "optimizer = pymanopt.optimizers.SteepestDescent()\n",
        "result = optimizer.run(problem)\n",
        "\n",
        "eigenvalues, eigenvectors = jnp.linalg.eig(matrix)\n",
        "\n",
        "\n",
        "dominant_eigenvector = eigenvectors[:, eigenvalues.real.argmax()]\n",
        "\n",
        "print(\"Dominant eigenvector:\", dominant_eigenvector)\n",
        "print(\"Pymanopt solution:\", result.point)"
      ]
    },
    {
      "cell_type": "code",
      "source": [
        "import jax.numpy as jnp\n",
        "import pymanopt\n",
        "import pymanopt.manifolds\n",
        "import pymanopt.optimizers\n",
        "\n",
        "from jax import random\n",
        "key = random.PRNGKey(758493)  # Random seed is explicit in JAX\n",
        "\n",
        "dim = 3\n",
        "r = 2\n",
        "manifold = pymanopt.manifolds.Stiefel(dim, r)\n",
        "\n",
        "matrix = jax.random.uniform(key, shape=(dim,dim))\n",
        "\n",
        "matrix = 0.5 * (matrix + matrix.T)\n",
        "\n",
        "@pymanopt.function.autograd(manifold)\n",
        "def cost(X):\n",
        "    return -np.trace(X.T @ matrix @ X)\n",
        "\n",
        "problem = pymanopt.Problem(manifold, cost)\n",
        "\n",
        "optimizer = pymanopt.optimizers.SteepestDescent()\n",
        "result = optimizer.run(problem)\n",
        "\n",
        "eigenvalues, eigenvectors = jnp.linalg.eig(matrix)\n",
        "\n",
        "\n",
        "dominant_eigenvector = eigenvectors[:, eigenvalues.real.argmax()]\n",
        "\n",
        "print(\"Dominant eigenvector:\", dominant_eigenvector)\n",
        "print(\"Pymanopt solution:\", result.point)"
      ],
      "metadata": {
        "colab": {
          "base_uri": "https://localhost:8080/"
        },
        "id": "-bsK-HLgV27S",
        "outputId": "52110750-2091-4c82-bef4-0561b29fa9f4"
      },
      "execution_count": 31,
      "outputs": [
        {
          "output_type": "stream",
          "name": "stdout",
          "text": [
            "Optimizing...\n",
            "Iteration    Cost                       Gradient norm     \n",
            "---------    -----------------------    --------------    \n",
            "   1         -8.0173504352569580e-01    1.61086772e+00    \n",
            "   2         -1.3878233432769775e+00    6.10348757e-01    \n",
            "   3         -1.4215236902236938e+00    8.00967034e-01    \n",
            "   4         -1.5121933221817017e+00    3.14564272e-01    \n",
            "   5         -1.5192764997482300e+00    4.94227964e-01    \n",
            "   6         -1.5418734550476074e+00    2.95756777e-01    \n",
            "   7         -1.5473333597183228e+00    2.55893395e-01    \n",
            "   8         -1.5562674999237061e+00    6.92585286e-02    \n",
            "   9         -1.5571060180664062e+00    4.83043447e-02    \n",
            "  10         -1.5575225353240967e+00    2.35111169e-02    \n",
            "  11         -1.5576767921447754e+00    2.50217941e-02    \n",
            "  12         -1.5577307939529419e+00    2.00211858e-02    \n",
            "  13         -1.5577446222305298e+00    1.93545209e-02    \n",
            "  14         -1.5577851533889771e+00    9.14661724e-03    \n",
            "  15         -1.5577924251556396e+00    7.09353705e-03    \n",
            "  16         -1.5577995777130127e+00    1.52915691e-03    \n",
            "  17         -1.5578005313873291e+00    2.15608355e-03    \n",
            "  18         -1.5578007698059082e+00    1.11497238e-03    \n",
            "  19         -1.5578010082244873e+00    4.71420962e-04    \n",
            "  20         -1.5578011274337769e+00    4.64383107e-04    \n",
            "  21         -1.5578011274337769e+00    4.64376134e-04    \n",
            "Terminated - min step_size reached after 21 iterations, 0.10 seconds.\n",
            "\n",
            "Dominant eigenvector: [0.70809877+0.j 0.49849728+0.j 0.5000967 +0.j]\n",
            "Pymanopt solution: [[-0.84720867  0.26869992]\n",
            " [-0.18816109 -0.95850921]\n",
            " [-0.49682278 -0.0951864 ]]\n"
          ]
        }
      ]
    },
    {
      "cell_type": "markdown",
      "metadata": {
        "id": "w7VmqWLY165h"
      },
      "source": [
        "# Final Code:)"
      ]
    },
    {
      "cell_type": "code",
      "execution_count": null,
      "metadata": {
        "id": "NWEdaaZL2Bxo"
      },
      "outputs": [],
      "source": []
    }
  ],
  "metadata": {
    "colab": {
      "provenance": [],
      "authorship_tag": "ABX9TyNJYbXOF2AoTwQNqpkdM1xv",
      "include_colab_link": true
    },
    "kernelspec": {
      "display_name": "Python 3",
      "name": "python3"
    },
    "language_info": {
      "name": "python"
    }
  },
  "nbformat": 4,
  "nbformat_minor": 0
}