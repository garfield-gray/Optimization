{
  "nbformat": 4,
  "nbformat_minor": 0,
  "metadata": {
    "colab": {
      "provenance": [],
      "authorship_tag": "ABX9TyMTCDpVWltWosKpcHSLzVA+",
      "include_colab_link": true
    },
    "kernelspec": {
      "name": "python3",
      "display_name": "Python 3"
    },
    "language_info": {
      "name": "python"
    }
  },
  "cells": [
    {
      "cell_type": "markdown",
      "metadata": {
        "id": "view-in-github",
        "colab_type": "text"
      },
      "source": [
        "<a href=\"https://colab.research.google.com/github/garfield-gray/Optimization/blob/main/Convex/LpInCvxpy.ipynb\" target=\"_parent\"><img src=\"https://colab.research.google.com/assets/colab-badge.svg\" alt=\"Open In Colab\"/></a>"
      ]
    },
    {
      "cell_type": "code",
      "execution_count": 1,
      "metadata": {
        "id": "xbbCm1cL4AMk"
      },
      "outputs": [],
      "source": [
        "import numpy as np\n",
        "import cvxpy as cp"
      ]
    },
    {
      "cell_type": "markdown",
      "source": [
        "# Life Improvement\n",
        "### Abbas Mohammaiyan\n",
        "### 810898059"
      ],
      "metadata": {
        "id": "jILxzPzV5ut1"
      }
    },
    {
      "cell_type": "markdown",
      "source": [
        "_____\n",
        "_____"
      ],
      "metadata": {
        "id": "T2eHDHOn56R_"
      }
    },
    {
      "cell_type": "markdown",
      "source": [
        "# Q1 : Appropriate Diet"
      ],
      "metadata": {
        "id": "leGNqw__6KdE"
      }
    },
    {
      "cell_type": "markdown",
      "source": [
        "##DATA"
      ],
      "metadata": {
        "id": "__AvBi4f6b95"
      }
    },
    {
      "cell_type": "code",
      "source": [
        "N = 10\n",
        "M = 5\n",
        "\n",
        "\n",
        "B = np.array([100.8, 52.1, 370.8, 200.5, 140 ])\n",
        "C = np.array([45.79, 30.86, 50.2 , 99.26, 32.17, 42.9 , 66.89, 35.06, 13.78, 53.78])\n",
        "P = np.array([\n",
        "    [ 70,  5.12,  8.02,  1.89, 12.25],\n",
        "    [0,  100,  7.62,  2.34, 17.48],\n",
        "    [ 6.53, 0.1,  7.89,  200,  0.56],\n",
        "    [0, 0.1,  0.896,  400, 0],\n",
        "    [18.23,  1.  , 10.29,  9.21,  0.92],\n",
        "    [ 2.45,  2.93,  2.24,  4.55,  8.87],\n",
        "    [ 9.41, 13.1 ,  7.24,  0.24,  7.35],\n",
        "    [19.21,  1.32, 12.35, 11.22,  5.14],\n",
        "    [ 1.27, 11.66,  256,  1.14,  2.42],\n",
        "    [11.37, 17.86,  33, 0,  100]\n",
        "    ]).T\n"
      ],
      "metadata": {
        "id": "nv4VARjg5IaE"
      },
      "execution_count": 2,
      "outputs": []
    },
    {
      "cell_type": "markdown",
      "source": [
        "## Modeling and Solve"
      ],
      "metadata": {
        "id": "k2k4xxC2EzBh"
      }
    },
    {
      "cell_type": "code",
      "source": [
        "x = cp.Variable(10)  # Ten variables: x[0], x[1], x[2], x[3], x[4], x[5], x[6], x[7], x[8], x[9]\n",
        "\n",
        "# Define the objective function and constraints\n",
        "objective = cp.Minimize(C.T@x)\n",
        "constraints = [P @ x >= B, x >= 0]  # Matrix-vector multiplication for constraints\n",
        "\n",
        "# Define the problem\n",
        "problem = cp.Problem(objective, constraints)\n",
        "\n",
        "# Solve the problem\n",
        "problem.solve()\n",
        "\n",
        "# Print the optimal value and the optimal variables\n",
        "print(\"Optimal value:\", problem.value)\n",
        "print(\"Optimal x:\", x.value)\n"
      ],
      "metadata": {
        "colab": {
          "base_uri": "https://localhost:8080/"
        },
        "id": "q3pkxqQ86URa",
        "outputId": "e25a0ec4-9f1a-4ee5-ffd9-28697d6e9951"
      },
      "execution_count": 3,
      "outputs": [
        {
          "output_type": "stream",
          "name": "stdout",
          "text": [
            "Optimal value: 186.1597507670487\n",
            "Optimal x: [ 1.12976430e+00  1.03655415e-01  9.83634850e-01  2.89680010e-09\n",
            " -1.12836287e-10 -1.05182770e-09 -6.95104426e-10 -9.97291329e-11\n",
            "  1.22387781e+00  1.20835871e+00]\n"
          ]
        }
      ]
    },
    {
      "cell_type": "code",
      "source": [
        "C.T@x.value"
      ],
      "metadata": {
        "colab": {
          "base_uri": "https://localhost:8080/"
        },
        "id": "ZteQ3L1MAh07",
        "outputId": "9a191975-a38d-4ece-b6b3-ace3fcf25dea"
      },
      "execution_count": 4,
      "outputs": [
        {
          "output_type": "execute_result",
          "data": {
            "text/plain": [
              "186.1597507670487"
            ]
          },
          "metadata": {},
          "execution_count": 4
        }
      ]
    },
    {
      "cell_type": "code",
      "source": [
        "print((P@x.value).reshape(-1,1))\n",
        "print(B.reshape(-1,1))"
      ],
      "metadata": {
        "colab": {
          "base_uri": "https://localhost:8080/"
        },
        "id": "u2Ej77z-D9d2",
        "outputId": "2a5f956a-eae5-44f1-ab12-2a070496a9c2"
      },
      "execution_count": 5,
      "outputs": [
        {
          "output_type": "stream",
          "name": "stdout",
          "text": [
            "[[100.80000003]\n",
            " [ 52.10000002]\n",
            " [370.80000052]\n",
            " [200.50000006]\n",
            " [140.00000003]]\n",
            "[[100.8]\n",
            " [ 52.1]\n",
            " [370.8]\n",
            " [200.5]\n",
            " [140. ]]\n"
          ]
        }
      ]
    },
    {
      "cell_type": "markdown",
      "source": [
        "# Q2 : Project Management"
      ],
      "metadata": {
        "id": "_YSrhRgLErgk"
      }
    },
    {
      "cell_type": "markdown",
      "source": [
        "## DATA:"
      ],
      "metadata": {
        "id": "XF5KCAVqEslG"
      }
    },
    {
      "cell_type": "code",
      "source": [
        "N = 5\n",
        "p = 2500\n",
        "t = 800\n",
        "R = 200\n",
        "C = np.array([2,  2.09,  4.45, 5.55,  1.52])\n",
        "T = np.array([3.57,  2.448, 2.69, 3.03,  9.55])\n",
        "P = np.array([100,8,35,90,20])"
      ],
      "metadata": {
        "id": "EWTFrZgv6emU"
      },
      "execution_count": 6,
      "outputs": []
    },
    {
      "cell_type": "code",
      "source": [
        "# let's aggregate the constraint to have a consolidated matrix\n",
        "A = np.array([T, np.ones(N), -P])\n",
        "B = np.array([t, R, -p])"
      ],
      "metadata": {
        "id": "veWIjy1pGZi7"
      },
      "execution_count": 7,
      "outputs": []
    },
    {
      "cell_type": "code",
      "source": [
        "A"
      ],
      "metadata": {
        "colab": {
          "base_uri": "https://localhost:8080/"
        },
        "id": "gjGQxiaeQzui",
        "outputId": "905aa2ad-3601-40ac-b108-aeb2eda9446d"
      },
      "execution_count": 8,
      "outputs": [
        {
          "output_type": "execute_result",
          "data": {
            "text/plain": [
              "array([[   3.57 ,    2.448,    2.69 ,    3.03 ,    9.55 ],\n",
              "       [   1.   ,    1.   ,    1.   ,    1.   ,    1.   ],\n",
              "       [-100.   ,   -8.   ,  -35.   ,  -90.   ,  -20.   ]])"
            ]
          },
          "metadata": {},
          "execution_count": 8
        }
      ]
    },
    {
      "cell_type": "markdown",
      "source": [
        "## Modeling and Solve"
      ],
      "metadata": {
        "id": "qdE347QYFIZZ"
      }
    },
    {
      "cell_type": "code",
      "source": [
        "x = cp.Variable(5)  # Five variables: x[0], x[1], x[2], x[3], x[4]\n",
        "\n",
        "# Define the objective function and constraints\n",
        "objective = cp.Minimize(C.T@x)\n",
        "\n",
        "constraints = [A @ x <= B, x >= 0]  # Matrix-vector multiplication for constraints\n",
        "\n",
        "# Define the problem\n",
        "problem = cp.Problem(objective, constraints)\n",
        "\n",
        "# Solve the problem\n",
        "problem.solve()\n",
        "\n",
        "# Print the optimal value and the optimal variables\n",
        "print(\"Optimal value:\", problem.value)\n",
        "print(\"Optimal x:\", x.value)\n"
      ],
      "metadata": {
        "colab": {
          "base_uri": "https://localhost:8080/"
        },
        "id": "NkX0Vp6YBwq-",
        "outputId": "3392afb7-237a-4d75-8a34-d2d20958b1b8"
      },
      "execution_count": 9,
      "outputs": [
        {
          "output_type": "stream",
          "name": "stdout",
          "text": [
            "Optimal value: 50.000000020910484\n",
            "Optimal x: [2.50000000e+01 2.28367836e-09 1.08494807e-09 9.31524623e-10\n",
            " 1.12720847e-09]\n"
          ]
        }
      ]
    },
    {
      "cell_type": "code",
      "source": [
        "print((A@x.value).reshape(-1,1))\n",
        "print(B.reshape(-1,1))"
      ],
      "metadata": {
        "colab": {
          "base_uri": "https://localhost:8080/"
        },
        "id": "4TcY6bKhRdEm",
        "outputId": "01cfb3ef-fda1-4f61-8e66-52c5a6517b0d"
      },
      "execution_count": 10,
      "outputs": [
        {
          "output_type": "stream",
          "name": "stdout",
          "text": [
            "[[   89.25000003]\n",
            " [   25.00000001]\n",
            " [-2500.00000038]]\n",
            "[[  800]\n",
            " [  200]\n",
            " [-2500]]\n"
          ]
        }
      ]
    },
    {
      "cell_type": "markdown",
      "source": [
        "# Q3 : Portfolio Selection"
      ],
      "metadata": {
        "id": "ZXrU_h14FT7S"
      }
    },
    {
      "cell_type": "markdown",
      "source": [
        "## DATA"
      ],
      "metadata": {
        "id": "IM-jrFYfFWTL"
      }
    },
    {
      "cell_type": "code",
      "source": [
        "mu = np.array([19.12, 13.31, 18.4 , 19.56, 18.7 , 14.04, 15.21, 17.74, 19.88, 19.39])\n",
        "Sigma = np.array([\n",
        "    [3.44, 2.76, 2.28, 2.35, 2.83, 1.98, 2.22, 2.65, 3.37, 2.49],\n",
        "    [2.76, 3.68, 2.74, 2.26, 3.06, 1.73, 2.38, 2.16, 2.79, 2.13],\n",
        "    [2.28, 2.74, 2.62, 1.66, 2.72, 1.43, 2.28, 2.04, 2.35, 1.8 ],\n",
        "    [2.35, 2.26, 1.66, 2.88, 1.88, 2.14, 2.23, 2.12, 2.59, 2.71],\n",
        "    [2.83, 3.06, 2.72, 1.88, 3.51, 1.69, 2.34, 2.48, 3.06, 2.13],\n",
        "    [1.98, 1.73, 1.43, 2.14, 1.69, 2.82, 1.64, 2.57, 2.81, 2.26],\n",
        "    [2.22, 2.38, 2.28, 2.23, 2.34, 1.64, 2.82, 1.92, 2.33, 2.57],\n",
        "    [2.65, 2.16, 2.04, 2.12, 2.48, 2.57, 1.92, 3.06, 3.19, 2.24],\n",
        "    [3.37, 2.79, 2.35, 2.59, 3.06, 2.81, 2.33, 3.19, 3.9 , 2.8 ],\n",
        "    [2.49, 2.13, 1.8 , 2.71, 2.13, 2.26, 2.57, 2.24, 2.8 , 3.26]\n",
        "       ])"
      ],
      "metadata": {
        "id": "VCM2pKUqFUep"
      },
      "execution_count": 11,
      "outputs": []
    },
    {
      "cell_type": "code",
      "source": [
        "mu.shape"
      ],
      "metadata": {
        "colab": {
          "base_uri": "https://localhost:8080/"
        },
        "id": "jQoo6__VSrSp",
        "outputId": "8fbbb55e-b869-424e-e534-97c455cbf948"
      },
      "execution_count": 14,
      "outputs": [
        {
          "output_type": "execute_result",
          "data": {
            "text/plain": [
              "(10,)"
            ]
          },
          "metadata": {},
          "execution_count": 14
        }
      ]
    },
    {
      "cell_type": "markdown",
      "source": [
        "## Modeling and Solve"
      ],
      "metadata": {
        "id": "KAgn_KCSFYIF"
      }
    },
    {
      "cell_type": "code",
      "source": [
        "x = cp.Variable(len(mu))  # Ten variables: x[0], x[1], x[2], x[3], x[4], x[5], x[6], x[7], x[8], x[9]\n",
        "l = 1 # l means lambda\n",
        "# Define the objective function and constraints\n",
        "\n",
        "objective = cp.Maximize(mu.T @ x - l * cp.quad_form(x, Sigma))\n",
        "constraints = [cp.sum(x) == 1, x >= 0, x <= 1]\n",
        "\n",
        "# Define the problem\n",
        "problem = cp.Problem(objective, constraints)\n",
        "\n",
        "# Solve the problem\n",
        "problem.solve()\n",
        "\n",
        "# Print the optimal value and the optimal variables\n",
        "print(\"Optimal value:\", problem.value)\n",
        "print(\"Optimal x:\", np.round(x.value, 4))\n"
      ],
      "metadata": {
        "colab": {
          "base_uri": "https://localhost:8080/"
        },
        "id": "LYy_iR-xFcm2",
        "outputId": "45bc7ea7-d8b2-47cd-98a3-f4aad8508ede"
      },
      "execution_count": 27,
      "outputs": [
        {
          "output_type": "stream",
          "name": "stdout",
          "text": [
            "Optimal value: 16.890606899825922\n",
            "Optimal x: [-0.     -0.      0.2307  0.6294 -0.      0.     -0.      0.      0.14\n",
            " -0.    ]\n"
          ]
        }
      ]
    },
    {
      "cell_type": "code",
      "source": [
        "print(\"Profit\", mu.T@x.value)\n",
        "print(\"Risk\", x.value.T@Sigma@x.value)"
      ],
      "metadata": {
        "colab": {
          "base_uri": "https://localhost:8080/"
        },
        "id": "-2NGzzxmX_cR",
        "outputId": "ae24392a-c570-4fff-85a4-c52dd7bc7c55"
      },
      "execution_count": 31,
      "outputs": [
        {
          "output_type": "stream",
          "name": "stdout",
          "text": [
            "Profit 19.337233739515746\n",
            "Risk 2.446626839689825\n"
          ]
        }
      ]
    },
    {
      "cell_type": "code",
      "source": [
        "for l in np.arange(0.5, 5, 0.5):\n",
        "  objective = cp.Maximize(mu.T @ x - l * cp.quad_form(x, Sigma))\n",
        "  problem = cp.Problem(objective, constraints)\n",
        "\n",
        "  # Solve the problem\n",
        "  problem.solve()\n",
        "\n",
        "  # Print the optimal value and the optimal variables\n",
        "  print(\"Lambda = :\", l)\n",
        "  print(\"Optimal value:\", problem.value)\n",
        "  print(\"Optimal x:\", np.round(x.value, 3))\n",
        "\n"
      ],
      "metadata": {
        "colab": {
          "base_uri": "https://localhost:8080/"
        },
        "id": "As3EXhayU6Ju",
        "outputId": "433cbcba-b099-4a9f-e303-12dbfb303312"
      },
      "execution_count": 32,
      "outputs": [
        {
          "output_type": "stream",
          "name": "stdout",
          "text": [
            "Lambda = : 0.5\n",
            "Optimal value: 18.23628125\n",
            "Optimal x: [ 0.     0.     0.     0.619  0.     0.     0.     0.     0.381 -0.   ]\n",
            "Lambda = : 1.0\n",
            "Optimal value: 16.890606899825922\n",
            "Optimal x: [-0.    -0.     0.231  0.629 -0.     0.    -0.     0.     0.14  -0.   ]\n",
            "Lambda = : 1.5\n",
            "Optimal value: 15.718457693727911\n",
            "Optimal x: [-0.     0.     0.374  0.607 -0.     0.     0.    -0.     0.019 -0.   ]\n",
            "Lambda = : 2.0\n",
            "Optimal value: 14.593486238532106\n",
            "Optimal x: [-0.     0.     0.427  0.573  0.     0.     0.     0.     0.     0.   ]\n",
            "Lambda = : 2.5\n",
            "Optimal value: 13.479431192660549\n",
            "Optimal x: [ 0.     0.     0.453  0.547  0.     0.     0.     0.    -0.     0.   ]\n",
            "Lambda = : 3.0\n",
            "Optimal value: 12.370519877675838\n",
            "Optimal x: [-0.     0.     0.471  0.529  0.    -0.    -0.    -0.    -0.    -0.   ]\n",
            "Lambda = : 3.5\n",
            "Optimal value: 11.264547837483615\n",
            "Optimal x: [-0.    -0.     0.484  0.516 -0.    -0.    -0.    -0.    -0.    -0.   ]\n",
            "Lambda = : 4.0\n",
            "Optimal value: 10.1604128440367\n",
            "Optimal x: [-0.    -0.     0.493  0.507 -0.    -0.    -0.     0.    -0.     0.   ]\n",
            "Lambda = : 4.5\n",
            "Optimal value: 9.057502548419976\n",
            "Optimal x: [-0.     0.     0.501  0.499 -0.     0.     0.     0.    -0.     0.   ]\n"
          ]
        }
      ]
    },
    {
      "cell_type": "code",
      "source": [],
      "metadata": {
        "id": "pc7KWu43XQUz"
      },
      "execution_count": null,
      "outputs": []
    }
  ]
}