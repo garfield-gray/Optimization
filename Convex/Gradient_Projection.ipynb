{
  "nbformat": 4,
  "nbformat_minor": 0,
  "metadata": {
    "colab": {
      "provenance": [],
      "authorship_tag": "ABX9TyNhAki8DEzGmSN0t9gXJ2qv",
      "include_colab_link": true
    },
    "kernelspec": {
      "name": "python3",
      "display_name": "Python 3"
    },
    "language_info": {
      "name": "python"
    }
  },
  "cells": [
    {
      "cell_type": "markdown",
      "metadata": {
        "id": "view-in-github",
        "colab_type": "text"
      },
      "source": [
        "<a href=\"https://colab.research.google.com/github/garfield-gray/Optimization/blob/main/Convex/Gradient_Projection.ipynb\" target=\"_parent\"><img src=\"https://colab.research.google.com/assets/colab-badge.svg\" alt=\"Open In Colab\"/></a>"
      ]
    },
    {
      "cell_type": "code",
      "execution_count": 1,
      "metadata": {
        "id": "ZBYJ4X9oUOUH"
      },
      "outputs": [],
      "source": [
        "import numpy as np\n",
        "import pandas as pd\n",
        "import matplotlib.pyplot as plt\n",
        "import numpy.linalg as la"
      ]
    },
    {
      "cell_type": "markdown",
      "source": [
        "# 1"
      ],
      "metadata": {
        "id": "PaZc9VBbEp9h"
      }
    },
    {
      "cell_type": "code",
      "source": [
        "def gradientProjection(f, g, Pc, x0, t, epsilon):\n",
        "  x = x0\n",
        "  grad = g(x)\n",
        "  fun_val = f(x)\n",
        "  p = Pc(x)\n",
        "  iter = 0\n",
        "  while la.norm(x-p) > epsilon:\n",
        "    x = p\n",
        "    iter = iter + 1\n",
        "    p = Pc(x - t * grad)\n",
        "    fun_val = f(p)\n",
        "    grad = g(p)\n",
        "    # print('iter_number = {0:3d}'.format(iter),\\\n",
        "    #       'norm_grad = {0:2.6f}'.format(la.norm(grad)),\\\n",
        "    #       'fun_val = {0:2.6f}'.format(fun_val))\n",
        "  return x, fun_val, iter"
      ],
      "metadata": {
        "id": "cIhoNjXCUlA0"
      },
      "execution_count": 61,
      "outputs": []
    },
    {
      "cell_type": "markdown",
      "source": [
        "# 2"
      ],
      "metadata": {
        "id": "foQIL1P_Ev0L"
      }
    },
    {
      "cell_type": "code",
      "source": [
        "C = np.array([1, 1, 1, 0, 0, 0, -2]) # [a, b, c, d, e, f, g]\n",
        "A = np.diag([C[0],C[1],C[2]])+0.5*np.array([[0,C[3],C[4]],[C[3],0,C[5]],[C[4],C[5],0]])\n",
        "F = lambda x: x@A@x + np.prod(x)*C[6]\n",
        "G = lambda x: 2*A@x + np.array([x[1]*x[2], x[0]*x[2], x[0]*x[1]])*C[6]\n",
        "Pc = lambda x: np.maximum(x, [-1, -2, -3])\n",
        "x0 = np.array([-2.0, -1.0, -1.0])"
      ],
      "metadata": {
        "id": "MDae4gKgU7pq"
      },
      "execution_count": 62,
      "outputs": []
    },
    {
      "cell_type": "code",
      "source": [
        "print(gradientProjection(F, G, Pc, x0, 0.1, 1e-10))"
      ],
      "metadata": {
        "colab": {
          "base_uri": "https://localhost:8080/"
        },
        "id": "qZMbmh0wW8bU",
        "outputId": "1574d30f-b972-4e88-e866-15e4a7664bca"
      },
      "execution_count": 74,
      "outputs": [
        {
          "output_type": "stream",
          "name": "stdout",
          "text": [
            "(array([-2.5451434e-10, -2.5451434e-10, -2.5451434e-10]), 1.2437289432344766e-19, 95)\n"
          ]
        }
      ]
    },
    {
      "cell_type": "markdown",
      "source": [
        "# 3"
      ],
      "metadata": {
        "id": "dHEjTIZqE0l1"
      }
    },
    {
      "cell_type": "code",
      "source": [
        "for i in range(1, 14):\n",
        "    stepsize = 0.01 * i\n",
        "    print(\"stepsize: \", stepsize)\n",
        "    result = gradientProjection(F, G, Pc, x0, stepsize, 1e-10)\n",
        "    print(result)"
      ],
      "metadata": {
        "colab": {
          "base_uri": "https://localhost:8080/"
        },
        "id": "QtbMZRyXELNN",
        "outputId": "c693a90d-fb7f-4cdb-b951-bbab116040d7"
      },
      "execution_count": 78,
      "outputs": [
        {
          "output_type": "stream",
          "name": "stdout",
          "text": [
            "stepsize:  0.01\n",
            "(array([-2.87249836e-09, -2.87249836e-09, -2.87249836e-09]), 2.3773492478554344e-17, 939)\n",
            "stepsize:  0.02\n",
            "(array([-1.40927138e-09, -1.40927138e-09, -1.40927138e-09]), 5.491019471841992e-18, 482)\n",
            "stepsize:  0.03\n",
            "(array([-9.06207164e-10, -9.06207164e-10, -9.06207164e-10]), 2.176867244482183e-18, 325)\n",
            "stepsize:  0.04\n",
            "(array([-7.08357604e-10, -7.08357604e-10, -7.08357604e-10]), 1.2740956401921884e-18, 244)\n",
            "stepsize:  0.05\n",
            "(array([-5.7191872e-10, -5.7191872e-10, -5.7191872e-10]), 7.948311855455971e-19, 195)\n",
            "stepsize:  0.06\n",
            "(array([-4.77077756e-10, -4.77077756e-10, -4.77077756e-10]), 5.287677192414041e-19, 162)\n",
            "stepsize:  0.07\n",
            "(array([-3.61317711e-10, -3.61317711e-10, -3.61317711e-10]), 2.8966542361980224e-19, 139)\n",
            "stepsize:  0.08\n",
            "(array([-3.07470589e-10, -3.07470589e-10, -3.07470589e-10]), 2.0011838305938647e-19, 121)\n",
            "stepsize:  0.09\n",
            "(array([-3.14726654e-10, -3.14726654e-10, -3.14726654e-10]), 1.9980944238989102e-19, 106)\n",
            "stepsize:  0.1\n",
            "(array([-2.5451434e-10, -2.5451434e-10, -2.5451434e-10]), 1.2437289432344766e-19, 95)\n",
            "stepsize:  0.11\n",
            "(array([-2.57849733e-10, -2.57849733e-10, -2.57849733e-10]), 1.2135113194097315e-19, 85)\n",
            "stepsize:  0.12\n",
            "(array([-2.32392553e-10, -2.32392553e-10, -2.32392553e-10]), 9.358211445166233e-20, 77)\n",
            "stepsize:  0.13\n",
            "(array([-2.15166285e-10, -2.15166285e-10, -2.15166285e-10]), 7.605593957471253e-20, 70)\n"
          ]
        }
      ]
    },
    {
      "cell_type": "code",
      "source": [
        "\n",
        "results = {\n",
        "    \"stepsize\": [],\n",
        "    \"gradientProjection_result\": []\n",
        "}\n",
        "\n",
        "\n",
        "for i in range(1, 14):\n",
        "    stepsize = 0.01 * i\n",
        "    print(\"stepsize: \", stepsize)\n",
        "    result = gradientProjection(F, G, Pc, x0, stepsize, 1e-10)\n",
        "    results[\"stepsize\"].append(stepsize)\n",
        "    results[\"gradientProjection_result\"].append(result[2])\n",
        "\n",
        "\n",
        "df = pd.DataFrame(results)\n",
        "\n",
        "# Print the DataFrame\n",
        "print(df)\n",
        "\n"
      ],
      "metadata": {
        "colab": {
          "base_uri": "https://localhost:8080/"
        },
        "id": "1XWNcZ1k8YdI",
        "outputId": "70fd10bd-aaab-4953-e351-217ba547f24d"
      },
      "execution_count": 79,
      "outputs": [
        {
          "output_type": "stream",
          "name": "stdout",
          "text": [
            "stepsize:  0.01\n",
            "stepsize:  0.02\n",
            "stepsize:  0.03\n",
            "stepsize:  0.04\n",
            "stepsize:  0.05\n",
            "stepsize:  0.06\n",
            "stepsize:  0.07\n",
            "stepsize:  0.08\n",
            "stepsize:  0.09\n",
            "stepsize:  0.1\n",
            "stepsize:  0.11\n",
            "stepsize:  0.12\n",
            "stepsize:  0.13\n",
            "    stepsize  gradientProjection_result\n",
            "0       0.01                        939\n",
            "1       0.02                        482\n",
            "2       0.03                        325\n",
            "3       0.04                        244\n",
            "4       0.05                        195\n",
            "5       0.06                        162\n",
            "6       0.07                        139\n",
            "7       0.08                        121\n",
            "8       0.09                        106\n",
            "9       0.10                         95\n",
            "10      0.11                         85\n",
            "11      0.12                         77\n",
            "12      0.13                         70\n"
          ]
        }
      ]
    },
    {
      "cell_type": "code",
      "source": [
        "plt.figure(figsize=(10, 6))\n",
        "plt.plot(df['stepsize'], df['gradientProjection_result'], marker='o', linestyle='-', color='b')\n",
        "plt.xlabel('Stepsize')\n",
        "plt.ylabel('Iterations')\n",
        "plt.title('Stepsize vs Iterations')\n",
        "plt.grid(True)\n",
        "plt.show()\n"
      ],
      "metadata": {
        "colab": {
          "base_uri": "https://localhost:8080/",
          "height": 564
        },
        "id": "XuproJ93CxS6",
        "outputId": "6c58a8e5-f822-4a65-c361-105b79715e17"
      },
      "execution_count": 80,
      "outputs": [
        {
          "output_type": "display_data",
          "data": {
            "text/plain": [
              "<Figure size 1000x600 with 1 Axes>"
            ],
            "image/png": "[encoded data removed]"
          },
          "metadata": {}
        }
      ]
    },
    {
      "cell_type": "markdown",
      "source": [
        "# Checking our work"
      ],
      "metadata": {
        "id": "IlayTwKaE3Ml"
      }
    },
    {
      "cell_type": "code",
      "source": [
        "import numpy as np\n",
        "from scipy.optimize import minimize\n",
        "\n",
        "# Define the objective function\n",
        "def objective(x):\n",
        "    return x[0]**2 + x[1]**2 + x[2]**2 - 2*x[0]*x[1]*x[2]\n",
        "\n",
        "# Define the bounds for each variable\n",
        "bounds = [(-1, None), (-2, None), (-3, None)]\n",
        "\n",
        "# Initial guess\n",
        "x0 = np.array([-2, -1, -1])\n",
        "\n",
        "# Run the optimization\n",
        "result = minimize(objective, x0, method='trust-constr', bounds=bounds)\n",
        "\n",
        "# Print the results\n",
        "print(\"Optimal value:\", result.fun)\n",
        "print(\"Optimal x:\", result.x)\n",
        "print(\"Success:\", result.success)\n",
        "print(\"Message:\", result.message)\n"
      ],
      "metadata": {
        "colab": {
          "base_uri": "https://localhost:8080/"
        },
        "id": "uR1axJuN7NSw",
        "outputId": "b5138a99-2eec-446c-931d-23798b36eb94"
      },
      "execution_count": 81,
      "outputs": [
        {
          "output_type": "stream",
          "name": "stdout",
          "text": [
            "Optimal value: 1.0555353957191027e-18\n",
            "Optimal x: [-1.79390055e-10  1.56092240e-10 -9.99494781e-10]\n",
            "Success: True\n",
            "Message: `xtol` termination condition is satisfied.\n"
          ]
        }
      ]
    },
    {
      "cell_type": "code",
      "source": [
        "import numpy as np\n",
        "from scipy.optimize import minimize\n",
        "\n",
        "# Define the objective function\n",
        "def objective(x):\n",
        "    return x[0]**2 + x[1]**2 + x[2]**2 - 2*x[0]*x[1]*x[2]\n",
        "\n",
        "# Define the bounds for each variable\n",
        "bounds = [(-1, None), (-2, None), (-3, None)]\n",
        "\n",
        "# Initial guess\n",
        "x0 = np.array([-2, -1, -1])\n",
        "\n",
        "# Run the optimization\n",
        "result = minimize(objective, x0, method='L-BFGS-B', bounds=bounds)\n",
        "\n",
        "# Print the results\n",
        "print(\"Optimal value:\", result.fun)\n",
        "print(\"Optimal x:\", result.x)\n",
        "print(\"Success:\", result.success)\n",
        "print(\"Message:\", result.message)\n"
      ],
      "metadata": {
        "colab": {
          "base_uri": "https://localhost:8080/"
        },
        "id": "uW_arFi284VA",
        "outputId": "95bcc89e-b758-4d30-a07f-3669742b58c4"
      },
      "execution_count": 82,
      "outputs": [
        {
          "output_type": "stream",
          "name": "stdout",
          "text": [
            "Optimal value: 1.0845067194536201e-11\n",
            "Optimal x: [-1.90132002e-06 -1.90132002e-06 -1.90132002e-06]\n",
            "Success: True\n",
            "Message: CONVERGENCE: NORM_OF_PROJECTED_GRADIENT_<=_PGTOL\n"
          ]
        }
      ]
    },
    {
      "cell_type": "code",
      "source": [],
      "metadata": {
        "id": "mrFiZvCd_GA6"
      },
      "execution_count": null,
      "outputs": []
    }
  ]
}