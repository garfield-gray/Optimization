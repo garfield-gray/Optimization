{
  "nbformat": 4,
  "nbformat_minor": 0,
  "metadata": {
    "colab": {
      "provenance": [],
      "authorship_tag": "ABX9TyM0Wf0PKzDAN0wyF2HiOmnv",
      "include_colab_link": true
    },
    "kernelspec": {
      "name": "python3",
      "display_name": "Python 3"
    },
    "language_info": {
      "name": "python"
    }
  },
  "cells": [
    {
      "cell_type": "markdown",
      "metadata": {
        "id": "view-in-github",
        "colab_type": "text"
      },
      "source": [
        "<a href=\"https://colab.research.google.com/github/garfield-gray/Optimization/blob/main/Convex/Gradient_Projection.ipynb\" target=\"_parent\"><img src=\"https://colab.research.google.com/assets/colab-badge.svg\" alt=\"Open In Colab\"/></a>"
      ]
    },
    {
      "cell_type": "code",
      "execution_count": 4,
      "metadata": {
        "id": "ZBYJ4X9oUOUH"
      },
      "outputs": [],
      "source": [
        "import numpy as np\n",
        "import pandas as pd\n",
        "import matplotlib.pyplot as plt\n",
        "import numpy.linalg as la"
      ]
    },
    {
      "cell_type": "code",
      "source": [
        "\n",
        "def gradientProjection(f, g, Pc, x0, t, epsilon):\n",
        "  x = x0\n",
        "  grad = g(x)\n",
        "  fun_val = f(x)\n",
        "  p = Pc(x)\n",
        "  iter = 0\n",
        "  while la.norm(x-p) > epsilon:\n",
        "    iter = iter + 1\n",
        "    p = Pc(x - t * grad)\n",
        "    x = p\n",
        "    fun_val = f(x)\n",
        "    grad = g(x)\n",
        "    # print('iter_number = {0:3d}'.format(iter),\\\n",
        "    #       'norm_grad = {0:2.6f}'.format(la.norm(grad)),\\\n",
        "    #       'fun_val = {0:2.6f}'.format(fun_val))\n",
        "  return x, fun_val, iter"
      ],
      "metadata": {
        "id": "cIhoNjXCUlA0"
      },
      "execution_count": 44,
      "outputs": []
    },
    {
      "cell_type": "code",
      "source": [
        "\n",
        "C = np.array([1, 1, 1, 0, 0, 0, -2]) # [a, b, c, d, e, f, g]\n",
        "A = np.diag([C[0],C[1],C[2]])+0.5*np.array([[0,C[3],C[4]],[C[3],0,C[5]],[C[4],C[5],0]])\n",
        "F = lambda x: x@A@x + np.prod(x)*C[6]\n",
        "G = lambda x: 2*A@x + np.array([x[1]*x[2], x[0]*x[2], x[0]*x[1]])*C[6]\n",
        "Pc = lambda x: np.maximum(x, [-1, -2, -3])\n",
        "x0 = np.array([-2.0, -1.0, -1.0])"
      ],
      "metadata": {
        "id": "MDae4gKgU7pq"
      },
      "execution_count": 46,
      "outputs": []
    },
    {
      "cell_type": "code",
      "source": [
        "print(gradientProjection(F, G, Pc, x0, 0.1, 1e-5))"
      ],
      "metadata": {
        "colab": {
          "base_uri": "https://localhost:8080/"
        },
        "id": "qZMbmh0wW8bU",
        "outputId": "07b6b1d0-e19c-497e-995d-7b43b852188d"
      },
      "execution_count": 47,
      "outputs": [
        {
          "output_type": "stream",
          "name": "stdout",
          "text": [
            "(array([-1. , -0.4, -0.4]), 1.6399999999999997, 1)\n"
          ]
        }
      ]
    },
    {
      "cell_type": "code",
      "source": [],
      "metadata": {
        "id": "QUs4WD7nbApz"
      },
      "execution_count": null,
      "outputs": []
    }
  ]
}