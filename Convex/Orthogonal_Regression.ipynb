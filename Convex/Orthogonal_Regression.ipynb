{
  "nbformat": 4,
  "nbformat_minor": 0,
  "metadata": {
    "colab": {
      "provenance": [],
      "mount_file_id": "1MH5BAm8L34oaoOd2T6_HVA6vHhFKg7wv",
      "authorship_tag": "ABX9TyPW0hLBb/nlWCgyQMtsOb7a",
      "include_colab_link": true
    },
    "kernelspec": {
      "name": "python3",
      "display_name": "Python 3"
    },
    "language_info": {
      "name": "python"
    }
  },
  "cells": [
    {
      "cell_type": "markdown",
      "metadata": {
        "id": "view-in-github",
        "colab_type": "text"
      },
      "source": [
        "<a href=\"https://colab.research.google.com/github/garfield-gray/Optimization/blob/main/Convex/Orthogonal_Regression.ipynb\" target=\"_parent\"><img src=\"https://colab.research.google.com/assets/colab-badge.svg\" alt=\"Open In Colab\"/></a>"
      ]
    },
    {
      "cell_type": "code",
      "execution_count": 1,
      "metadata": {
        "id": "O5neJKQjGicA"
      },
      "outputs": [],
      "source": [
        "import numpy as np\n",
        "import pandas as pd\n",
        "import matplotlib.pyplot as plt\n",
        "import numpy.linalg as la"
      ]
    },
    {
      "cell_type": "code",
      "source": [
        "# Address of files\n",
        "%cd /content/drive/MyDrive/Uni/Optimization/Convex/ConvexBoyd/Data\n",
        "!ls"
      ],
      "metadata": {
        "colab": {
          "base_uri": "https://localhost:8080/"
        },
        "id": "kd0oi84dG4Y0",
        "outputId": "56afbedb-43ac-4182-a4cc-06f4755c0d75"
      },
      "execution_count": 9,
      "outputs": [
        {
          "output_type": "stream",
          "name": "stdout",
          "text": [
            "/content/drive/MyDrive/Uni/Optimization/Convex/ConvexBoyd/Data\n",
            "data1OrRe.txt  Data1.txt  data2OrRe.txt\n"
          ]
        }
      ]
    },
    {
      "cell_type": "code",
      "source": [
        "def load_data(path):\n",
        "    file = open(path).read().split('\\n')\n",
        "    lines = [line.split() for line in file]\n",
        "    return [(eval(x[0]),eval(x[1])) for x in lines ]"
      ],
      "metadata": {
        "id": "N5wMzmtGLR3x"
      },
      "execution_count": 3,
      "outputs": []
    },
    {
      "cell_type": "code",
      "source": [
        "data1 = np.array(load_data('data1OrRe.txt'))\n",
        "# data2 = np.array(load_data('data2OrRe.txt'))\n",
        "data2 = np.array([\n",
        "    [1, 0.4],\n",
        "    [2, 1.1],\n",
        "    [3, 2.4],\n",
        "    [4, 3.8],\n",
        "    [5, 5.1],\n",
        "    [6, 6.8],\n",
        "    [7, 8.5],\n",
        "    [8, 10],\n",
        "    [9, 13],\n",
        "    [10, 15]\n",
        "])"
      ],
      "metadata": {
        "id": "LY9ZQZWBLqXL"
      },
      "execution_count": 12,
      "outputs": []
    },
    {
      "cell_type": "code",
      "source": [
        "data1"
      ],
      "metadata": {
        "colab": {
          "base_uri": "https://localhost:8080/"
        },
        "id": "vSyp9MMdL3S_",
        "outputId": "099c06a5-511e-4d5c-d20f-0a021e031d37"
      },
      "execution_count": 14,
      "outputs": [
        {
          "output_type": "execute_result",
          "data": {
            "text/plain": [
              "array([[1. , 1. ],\n",
              "       [2. , 3. ],\n",
              "       [3. , 2. ],\n",
              "       [4. , 4.5],\n",
              "       [5. , 5.2]])"
            ]
          },
          "metadata": {},
          "execution_count": 14
        }
      ]
    },
    {
      "cell_type": "code",
      "source": [],
      "metadata": {
        "id": "3iSqpfRCL_1L"
      },
      "execution_count": null,
      "outputs": []
    }
  ]
}