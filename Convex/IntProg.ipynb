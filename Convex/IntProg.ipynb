{
  "nbformat": 4,
  "nbformat_minor": 0,
  "metadata": {
    "colab": {
      "provenance": [],
      "authorship_tag": "ABX9TyPqWXP0I4A6Tp6wnbhSvcwH",
      "include_colab_link": true
    },
    "kernelspec": {
      "name": "python3",
      "display_name": "Python 3"
    },
    "language_info": {
      "name": "python"
    }
  },
  "cells": [
    {
      "cell_type": "markdown",
      "metadata": {
        "id": "view-in-github",
        "colab_type": "text"
      },
      "source": [
        "<a href=\"https://colab.research.google.com/github/garfield-gray/Optimization/blob/main/Convex/IntProg.ipynb\" target=\"_parent\"><img src=\"https://colab.research.google.com/assets/colab-badge.svg\" alt=\"Open In Colab\"/></a>"
      ]
    },
    {
      "cell_type": "code",
      "source": [
        "# suit your code in order to handele the negatives!!"
      ],
      "metadata": {
        "id": "2XPm4hX0ce2W"
      },
      "execution_count": 117,
      "outputs": []
    },
    {
      "cell_type": "markdown",
      "source": [
        "# IntProg"
      ],
      "metadata": {
        "id": "EgChmwXcHGCm"
      }
    },
    {
      "cell_type": "code",
      "execution_count": 118,
      "metadata": {
        "id": "v5W2GFHu-6Eu"
      },
      "outputs": [],
      "source": [
        "from scipy.optimize import LinearConstraint, milp\n",
        "import numpy as np"
      ]
    },
    {
      "cell_type": "code",
      "source": [
        "c = np.array([3, 4])\n",
        "A = np.array([[-3, -1], [-1, -2]])\n",
        "b_u = np.array([-4, -4])\n",
        "b_l = np.full_like(b_u, -np.inf, dtype=float)\n",
        "# b_l = np.full_like(b_u, 0, dtype=float)"
      ],
      "metadata": {
        "id": "gybtJcSpD-yd"
      },
      "execution_count": 119,
      "outputs": []
    },
    {
      "cell_type": "code",
      "source": [
        "constraints = LinearConstraint(A, b_l, b_u)"
      ],
      "metadata": {
        "id": "vPO4hmASHA6r"
      },
      "execution_count": 120,
      "outputs": []
    },
    {
      "cell_type": "code",
      "source": [
        "integrality = np.ones_like(c)\n",
        "res = milp(c=c, constraints=constraints, integrality=integrality)\n",
        "res.x"
      ],
      "metadata": {
        "colab": {
          "base_uri": "https://localhost:8080/"
        },
        "id": "SJQVStOfHBPu",
        "outputId": "2d1f32da-57d2-4abd-b889-c2bcdb9e2654"
      },
      "execution_count": 121,
      "outputs": [
        {
          "output_type": "execute_result",
          "data": {
            "text/plain": [
              "array([2., 1.])"
            ]
          },
          "metadata": {},
          "execution_count": 121
        }
      ]
    },
    {
      "cell_type": "code",
      "source": [
        "res = milp(c=c, constraints=constraints)  # OR:\n",
        "# from scipy.optimize import linprog; res = linprog(c, A, b_u)\n",
        "res.x"
      ],
      "metadata": {
        "colab": {
          "base_uri": "https://localhost:8080/"
        },
        "id": "8sfpu3moHBby",
        "outputId": "7f198d17-13f1-412f-c956-d947f874d627"
      },
      "execution_count": 122,
      "outputs": [
        {
          "output_type": "execute_result",
          "data": {
            "text/plain": [
              "array([0.8, 1.6])"
            ]
          },
          "metadata": {},
          "execution_count": 122
        }
      ]
    },
    {
      "cell_type": "code",
      "source": [],
      "metadata": {
        "id": "W2sNtAb1HMh3"
      },
      "execution_count": 122,
      "outputs": []
    },
    {
      "cell_type": "markdown",
      "source": [
        "# Linprog"
      ],
      "metadata": {
        "id": "n0P-X8wpHNV4"
      }
    },
    {
      "cell_type": "code",
      "source": [
        "from scipy.optimize import linprog\n",
        "c = [3, 4]\n",
        "A = [[-3, -1], [-1, -2]]\n",
        "b = [-4, -4]\n",
        "x0_bounds = (0, None)\n",
        "x1_bounds = (0, None)\n",
        "res = linprog(c, A_ub=A, b_ub=b, bounds=[x0_bounds, x1_bounds])\n",
        "res.fun\n"
      ],
      "metadata": {
        "colab": {
          "base_uri": "https://localhost:8080/"
        },
        "id": "adYTrMv3FrO-",
        "outputId": "9b77a62e-b22c-4700-e153-f53d482ef07b"
      },
      "execution_count": 123,
      "outputs": [
        {
          "output_type": "execute_result",
          "data": {
            "text/plain": [
              "8.8"
            ]
          },
          "metadata": {},
          "execution_count": 123
        }
      ]
    },
    {
      "cell_type": "code",
      "source": [
        "res.x"
      ],
      "metadata": {
        "colab": {
          "base_uri": "https://localhost:8080/"
        },
        "id": "meUyrjwBGNwU",
        "outputId": "9649ef27-95a7-4fa2-da95-ce16ad16709e"
      },
      "execution_count": 124,
      "outputs": [
        {
          "output_type": "execute_result",
          "data": {
            "text/plain": [
              "array([0.8, 1.6])"
            ]
          },
          "metadata": {},
          "execution_count": 124
        }
      ]
    },
    {
      "cell_type": "code",
      "source": [
        "res.message"
      ],
      "metadata": {
        "colab": {
          "base_uri": "https://localhost:8080/",
          "height": 0
        },
        "id": "3zpqfDOQGRQd",
        "outputId": "6bcfeb19-84a2-40f3-ff52-88932f5566b2"
      },
      "execution_count": 125,
      "outputs": [
        {
          "output_type": "execute_result",
          "data": {
            "text/plain": [
              "'Optimization terminated successfully. (HiGHS Status 7: Optimal)'"
            ],
            "application/vnd.google.colaboratory.intrinsic+json": {
              "type": "string"
            }
          },
          "metadata": {},
          "execution_count": 125
        }
      ]
    },
    {
      "cell_type": "code",
      "source": [],
      "metadata": {
        "id": "EePWfztcGVJE"
      },
      "execution_count": 125,
      "outputs": []
    },
    {
      "cell_type": "markdown",
      "source": [
        "# The Algorithm"
      ],
      "metadata": {
        "id": "9w7Bt2szRvUy"
      }
    },
    {
      "cell_type": "code",
      "source": [
        "def CoreSimplex(tableau):\n",
        "    tableau = np.array(tableau)\n",
        "    m, n = tableau.shape\n",
        "    m -=1\n",
        "    n -=1\n",
        "    while True:\n",
        "        # Check if we have an optimal solution (all entries in the objective row are negative)\n",
        "\n",
        "        if np.all(tableau[0, :-1] <= 0):\n",
        "            break\n",
        "\n",
        "        # Pivot column (most negative entry in the objective row)\n",
        "        pivot_col = np.argmax(tableau[0, :-1])\n",
        "\n",
        "\n",
        "\n",
        "        # Pivot row\n",
        "        ratios = np.divide(tableau[1:, -1], tableau[1:, pivot_col])\n",
        "\n",
        "        valid_ratios = ratios[tableau[1:, pivot_col] > 0]\n",
        "\n",
        "        # Check if there's no valid ratio which means unbounded\n",
        "        if len(valid_ratios) == 0:\n",
        "            raise ValueError(\"The problem is unbounded.\")\n",
        "\n",
        "\n",
        "        ########could be written better################\n",
        "        pivot_row = np.where(ratios == valid_ratios.min())[0][0] +1\n",
        "\n",
        "        # Pivot element\n",
        "        pivot_element = tableau[pivot_row, pivot_col]\n",
        "\n",
        "        # Update the pivot row\n",
        "        tableau[pivot_row] /= pivot_element\n",
        "        # Update the other rows\n",
        "        for i in range(m + 1):\n",
        "            if i != pivot_row:\n",
        "                tableau[i] -= tableau[i, pivot_col] * tableau[pivot_row]\n",
        "\n",
        "    return tableau\n"
      ],
      "metadata": {
        "id": "nNDa1BO_VNVC"
      },
      "execution_count": 126,
      "outputs": []
    },
    {
      "cell_type": "code",
      "source": [
        "t = np.array(\n",
        "    [[4.0,  0, -2, -1,  0,  0,  0,  4],\n",
        "     [ 1,  0, -1,  0,  1,  0,  0,  1],\n",
        "     [ 2,  1,  1,  0,  0,  1,  0,  2],\n",
        "     [ 1, -1, -2, -1,  0,  0,  1,  1]])\n",
        "print(np.round(CoreSimplex(t), 4))"
      ],
      "metadata": {
        "colab": {
          "base_uri": "https://localhost:8080/"
        },
        "id": "QgXOE2eX1Q0V",
        "outputId": "3491adee-c949-47cc-a1a1-8dd6d3f85029"
      },
      "execution_count": 127,
      "outputs": [
        {
          "output_type": "stream",
          "name": "stdout",
          "text": [
            "[[ 0.     -0.6667  0.     -1.     -2.6667 -0.6667  0.      0.    ]\n",
            " [ 1.      0.3333  0.      0.      0.3333  0.3333  0.      1.    ]\n",
            " [ 0.      0.3333  1.      0.     -0.6667  0.3333  0.      0.    ]\n",
            " [ 0.     -0.6667  0.     -1.     -1.6667  0.3333  1.      0.    ]]\n"
          ]
        }
      ]
    },
    {
      "cell_type": "code",
      "source": [
        "\n",
        "# needs to checked if variables are all positive\n",
        "def simplex(c, A, b):\n",
        "    # Number of variables\n",
        "    n = len(c)\n",
        "    # Number of constraints\n",
        "    m = len(b)\n",
        "    # creation of bfs(Basic feasible solution through Artificial variables)\n",
        "    Rtableau = np.zeros((m + 1, n + m + 1))\n",
        "    Rtableau[1:, :n] = A\n",
        "    Rtableau[1:, -1] = b\n",
        "    p = np.eye(m+1)\n",
        "    p[np.where(b<0)+np.ones_like(np.where(b<0))] *= -1\n",
        "    Rtableau = p @ Rtableau\n",
        "    Rtableau[1:, n:n+m] = np.eye(m)\n",
        "    #\n",
        "    Rtableau[0, n:n+m] = -np.ones(m)\n",
        "    for i in range(m):\n",
        "        Rtableau[0] += Rtableau[i+1]\n",
        "\n",
        "\n",
        "    Rtableau = CoreSimplex(Rtableau)\n",
        "    # checking the feasibility\n",
        "    # if\n",
        "    tableau = np.delete(Rtableau, np.s_[n:n+m], axis=1)\n",
        "\n",
        "\n",
        "    tableau[0, :-1] = -c\n",
        "    for i in range(m):\n",
        "        # print(i)\n",
        "        # print((tableau[0, np.where(tableau[i+1]==1)[0]]))\n",
        "        tableau[0] -= tableau[0, np.where(tableau[i+1]==1)[0]] * tableau[i+1]\n",
        "    # print(tableau)\n",
        "    tableau = CoreSimplex(tableau)\n",
        "\n",
        "\n",
        "    return tableau\n"
      ],
      "metadata": {
        "id": "OiHySYdaTE2I"
      },
      "execution_count": 158,
      "outputs": []
    },
    {
      "cell_type": "code",
      "source": [
        "A = np.array([\n",
        "    [3, 1,-1, 0],\n",
        "    [1, 2, 0,-1],\n",
        "\n",
        "])\n",
        "b = np.array([4, 4])\n",
        "c = np.array([3, 4, 0, 0])\n",
        "np.round(simplex(c, A, b),4)"
      ],
      "metadata": {
        "colab": {
          "base_uri": "https://localhost:8080/"
        },
        "id": "zsKejO7XaNjU",
        "outputId": "10601b98-9b98-43e9-b7d1-12d7067ec06b"
      },
      "execution_count": 159,
      "outputs": [
        {
          "output_type": "execute_result",
          "data": {
            "text/plain": [
              "array([[ 0. ,  0. , -0.4, -1.8,  8.8],\n",
              "       [ 1. ,  0. , -0.4,  0.2,  0.8],\n",
              "       [ 0. ,  1. ,  0.2, -0.6,  1.6]])"
            ]
          },
          "metadata": {},
          "execution_count": 159
        }
      ]
    },
    {
      "cell_type": "code",
      "source": [
        "# needs to checked if variables are all positive\n",
        "def intSimplex(c, A, b):\n",
        "    # Number of variables\n",
        "    n = len(c)\n",
        "    # Number of constraints\n",
        "    m = len(b)\n",
        "    # creation of bfs(Basic feasible solution through Artificial variables)\n",
        "    Rtableau = np.zeros((m + 1, n + m + 1))\n",
        "    Rtableau[1:, :n] = A\n",
        "    Rtableau[1:, -1] = b\n",
        "    p = np.eye(m+1)\n",
        "    p[np.where(b<0)+np.ones_like(np.where(b<0))] *= -1\n",
        "    Rtableau = p @ Rtableau\n",
        "    Rtableau[1:, n:n+m] = np.eye(m)\n",
        "    #\n",
        "    Rtableau[0, n:n+m] = -np.ones(m)\n",
        "    for i in range(m):\n",
        "        Rtableau[0] += Rtableau[i+1]\n",
        "\n",
        "\n",
        "    Rtableau = CoreSimplex(Rtableau)\n",
        "    # checking the feasibility\n",
        "    # if\n",
        "    tableau = np.delete(Rtableau, np.s_[n:n+m], axis=1)\n",
        "\n",
        "\n",
        "    tableau[0, :-1] = -c\n",
        "    for i in range(m):\n",
        "        # print(i)\n",
        "        # print((tableau[0, np.where(tableau[i+1]==1)[0]]))\n",
        "        tableau[0] -= tableau[0, np.where(tableau[i+1]==1)[0]] * tableau[i+1]\n",
        "    # print(tableau)\n",
        "    tableau = CoreSimplex(tableau)\n",
        "\n",
        "    while True:\n",
        "        # Check if we have an optimal solution (all entries in the objective row are negative)\n",
        "        if np.all(np.modf(tableau[1:, -1])[0] == 0):\n",
        "            break\n",
        "        ########could be written better################\n",
        "        fracIdx = (np.where(np.modf(tableau[1:, -1])[0] != 0)[0]+1)[0]\n",
        "        print(tableau[fracIdx]-np.floor(tableau[fracIdx]))\n",
        "        break\n",
        "    return tableau\n"
      ],
      "metadata": {
        "id": "w3E_vwXGXDB_"
      },
      "execution_count": 175,
      "outputs": []
    },
    {
      "cell_type": "code",
      "source": [
        "A = np.array([\n",
        "    [3, 1,-1, 0],\n",
        "    [1, 2, 0,-1],\n",
        "\n",
        "])\n",
        "b = np.array([4, 4])\n",
        "c = np.array([3, 4, 0, 0])\n",
        "np.round(intSimplex(c, A, b),4)"
      ],
      "metadata": {
        "id": "ZBjHbagNb_K3",
        "colab": {
          "base_uri": "https://localhost:8080/"
        },
        "outputId": "4a3df45f-da7a-4f16-a1f4-5ac4deb7aff7"
      },
      "execution_count": 176,
      "outputs": [
        {
          "output_type": "stream",
          "name": "stdout",
          "text": [
            "[0.  0.  0.6 0.2 0.8]\n"
          ]
        },
        {
          "output_type": "execute_result",
          "data": {
            "text/plain": [
              "array([[ 0. ,  0. , -0.4, -1.8,  8.8],\n",
              "       [ 1. ,  0. , -0.4,  0.2,  0.8],\n",
              "       [ 0. ,  1. ,  0.2, -0.6,  1.6]])"
            ]
          },
          "metadata": {},
          "execution_count": 176
        }
      ]
    },
    {
      "cell_type": "code",
      "source": [],
      "metadata": {
        "id": "KdR8T0cIWqF2"
      },
      "execution_count": null,
      "outputs": []
    },
    {
      "cell_type": "code",
      "source": [
        "import numpy as np\n",
        "\n",
        "# Example array\n",
        "arr = np.array([-2.5, 2.5, 3.0, 4.2, -3.7])\n",
        "\n",
        "# Get the integral part using floor\n",
        "integral_part = np.floor(arr)\n",
        "\n",
        "# Get the fractional part by subtracting the integral part from the original array\n",
        "fractional_part = arr - integral_part\n",
        "\n",
        "print(\"Array:\", arr)\n",
        "print(\"Integral part:\", integral_part)\n",
        "print(\"Fractional part:\", fractional_part)\n"
      ],
      "metadata": {
        "colab": {
          "base_uri": "https://localhost:8080/"
        },
        "id": "KVTCaJjAcGhW",
        "outputId": "62cdc2cf-949a-4f83-fc1f-e8f7cdd4b57c"
      },
      "execution_count": null,
      "outputs": [
        {
          "output_type": "stream",
          "name": "stdout",
          "text": [
            "Array: [-2.5  2.5  3.   4.2 -3.7]\n",
            "Integral part: [-3.  2.  3.  4. -4.]\n",
            "Fractional part: [0.5 0.5 0.  0.2 0.3]\n"
          ]
        }
      ]
    },
    {
      "cell_type": "code",
      "source": [],
      "metadata": {
        "id": "GODCIkFkVZ5_"
      },
      "execution_count": null,
      "outputs": []
    }
  ]
}