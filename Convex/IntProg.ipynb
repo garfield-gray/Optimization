{
  "nbformat": 4,
  "nbformat_minor": 0,
  "metadata": {
    "colab": {
      "provenance": [],
      "collapsed_sections": [
        "EgChmwXcHGCm",
        "n0P-X8wpHNV4"
      ],
      "authorship_tag": "ABX9TyMLSI/P+hcoigJ0k8CulTgC",
      "include_colab_link": true
    },
    "kernelspec": {
      "name": "python3",
      "display_name": "Python 3"
    },
    "language_info": {
      "name": "python"
    }
  },
  "cells": [
    {
      "cell_type": "markdown",
      "metadata": {
        "id": "view-in-github",
        "colab_type": "text"
      },
      "source": [
        "<a href=\"https://colab.research.google.com/github/garfield-gray/Optimization/blob/main/Convex/IntProg.ipynb\" target=\"_parent\"><img src=\"https://colab.research.google.com/assets/colab-badge.svg\" alt=\"Open In Colab\"/></a>"
      ]
    },
    {
      "cell_type": "code",
      "source": [
        "# Pivot\n",
        "# Standardize\n",
        "# CoreSimplex\n",
        "# phase 1 (handle the exceptions!!)\n",
        "# simplex\n",
        "# intSimplex"
      ],
      "metadata": {
        "id": "2XPm4hX0ce2W"
      },
      "execution_count": 79,
      "outputs": []
    },
    {
      "cell_type": "markdown",
      "source": [
        "# IntProg"
      ],
      "metadata": {
        "id": "EgChmwXcHGCm"
      }
    },
    {
      "cell_type": "code",
      "execution_count": 80,
      "metadata": {
        "id": "v5W2GFHu-6Eu"
      },
      "outputs": [],
      "source": [
        "from scipy.optimize import LinearConstraint, milp\n",
        "import numpy as np"
      ]
    },
    {
      "cell_type": "code",
      "source": [
        "c = np.array([3, 4])\n",
        "A = np.array([[-3, -1], [-1, -2]])\n",
        "b_u = np.array([-4, -4])\n",
        "b_l = np.full_like(b_u, -np.inf, dtype=float)\n",
        "# b_l = np.full_like(b_u, 0, dtype=float)"
      ],
      "metadata": {
        "id": "gybtJcSpD-yd"
      },
      "execution_count": 81,
      "outputs": []
    },
    {
      "cell_type": "code",
      "source": [
        "constraints = LinearConstraint(A, b_l, b_u)"
      ],
      "metadata": {
        "id": "vPO4hmASHA6r"
      },
      "execution_count": 82,
      "outputs": []
    },
    {
      "cell_type": "code",
      "source": [
        "integrality = np.ones_like(c)\n",
        "res = milp(c=c, constraints=constraints, integrality=integrality)\n",
        "res.x"
      ],
      "metadata": {
        "colab": {
          "base_uri": "https://localhost:8080/"
        },
        "id": "SJQVStOfHBPu",
        "outputId": "fa003355-499d-471d-fe87-901ae26ef0bf"
      },
      "execution_count": 83,
      "outputs": [
        {
          "output_type": "execute_result",
          "data": {
            "text/plain": [
              "array([2., 1.])"
            ]
          },
          "metadata": {},
          "execution_count": 83
        }
      ]
    },
    {
      "cell_type": "code",
      "source": [
        "res = milp(c=c, constraints=constraints)  # OR:\n",
        "# from scipy.optimize import linprog; res = linprog(c, A, b_u)\n",
        "res.x"
      ],
      "metadata": {
        "colab": {
          "base_uri": "https://localhost:8080/"
        },
        "id": "8sfpu3moHBby",
        "outputId": "e89a2344-d137-481a-f3f3-1ed8b33cdbac"
      },
      "execution_count": 84,
      "outputs": [
        {
          "output_type": "execute_result",
          "data": {
            "text/plain": [
              "array([0.8, 1.6])"
            ]
          },
          "metadata": {},
          "execution_count": 84
        }
      ]
    },
    {
      "cell_type": "code",
      "source": [],
      "metadata": {
        "id": "W2sNtAb1HMh3"
      },
      "execution_count": 84,
      "outputs": []
    },
    {
      "cell_type": "markdown",
      "source": [
        "# Linprog"
      ],
      "metadata": {
        "id": "n0P-X8wpHNV4"
      }
    },
    {
      "cell_type": "code",
      "source": [
        "from scipy.optimize import linprog\n",
        "c = [3, 4]\n",
        "A = [[-3, -1], [-1, -2]]\n",
        "b = [-4, -4]\n",
        "x0_bounds = (0, None)\n",
        "x1_bounds = (0, None)\n",
        "res = linprog(c, A_ub=A, b_ub=b, bounds=[x0_bounds, x1_bounds])\n",
        "res.fun\n"
      ],
      "metadata": {
        "colab": {
          "base_uri": "https://localhost:8080/"
        },
        "id": "adYTrMv3FrO-",
        "outputId": "8c2e0685-4b60-4ab9-c0ae-3a3e340913a7"
      },
      "execution_count": 85,
      "outputs": [
        {
          "output_type": "execute_result",
          "data": {
            "text/plain": [
              "8.8"
            ]
          },
          "metadata": {},
          "execution_count": 85
        }
      ]
    },
    {
      "cell_type": "code",
      "source": [
        "res.x"
      ],
      "metadata": {
        "colab": {
          "base_uri": "https://localhost:8080/"
        },
        "id": "meUyrjwBGNwU",
        "outputId": "b086fc41-2031-4afb-dda1-d806c87d0e30"
      },
      "execution_count": 86,
      "outputs": [
        {
          "output_type": "execute_result",
          "data": {
            "text/plain": [
              "array([0.8, 1.6])"
            ]
          },
          "metadata": {},
          "execution_count": 86
        }
      ]
    },
    {
      "cell_type": "code",
      "source": [
        "res.message"
      ],
      "metadata": {
        "colab": {
          "base_uri": "https://localhost:8080/",
          "height": 0
        },
        "id": "3zpqfDOQGRQd",
        "outputId": "04a76736-bf1f-4ee4-8d21-2feb88db9db2"
      },
      "execution_count": 87,
      "outputs": [
        {
          "output_type": "execute_result",
          "data": {
            "text/plain": [
              "'Optimization terminated successfully. (HiGHS Status 7: Optimal)'"
            ],
            "application/vnd.google.colaboratory.intrinsic+json": {
              "type": "string"
            }
          },
          "metadata": {},
          "execution_count": 87
        }
      ]
    },
    {
      "cell_type": "code",
      "source": [],
      "metadata": {
        "id": "EePWfztcGVJE"
      },
      "execution_count": 87,
      "outputs": []
    },
    {
      "cell_type": "markdown",
      "source": [
        "# The Algorithm"
      ],
      "metadata": {
        "id": "9w7Bt2szRvUy"
      }
    },
    {
      "cell_type": "code",
      "source": [
        "def Pivot(tableau, row, col):\n",
        "    basics = tableau[1:,0].copy() # start drom zero as the first element!!\n",
        "    tableau = tableau.astype(float)\n",
        "\n",
        "    pivot_element = tableau[row, col]\n",
        "    tableau[row] /= pivot_element\n",
        "    for i in range(tableau.shape[0]):\n",
        "        if i != row:\n",
        "            tableau[i] -= tableau[i, col] * tableau[row]\n",
        "            # basics\n",
        "            tableau[i, 0] = tableau[row, 0]\n",
        "    basics[row-1] = col-1\n",
        "    tableau[1:, 0] = basics\n",
        "    tableau[0, 0] = 1\n",
        "    return tableau"
      ],
      "metadata": {
        "id": "vEkc0jJXnU4M"
      },
      "execution_count": 88,
      "outputs": []
    },
    {
      "cell_type": "code",
      "source": [
        "t = np.array([\n",
        "    [ 1, -1,  4,  0,  0,  6, -1, -1, -1,  0],\n",
        "    [ 5,  1, -1, -1,  0,  4,  1,  0,  0,  1],\n",
        "    [ 6, -1,  4,  0,  1,  0,  0,  1,  0,  7],\n",
        "    [ 7,  3,  1,  0,  0,  1,  0,  0,  1, 18]\n",
        "])\n",
        "np.round(Pivot(t, 1, 1),1)"
      ],
      "metadata": {
        "colab": {
          "base_uri": "https://localhost:8080/"
        },
        "id": "ej-3wyGsngKv",
        "outputId": "6960d989-9aea-41c3-b526-4f42bf24d3e4"
      },
      "execution_count": 89,
      "outputs": [
        {
          "output_type": "execute_result",
          "data": {
            "text/plain": [
              "array([[  1.,   0.,   3.,  -1.,   0.,  10.,   0.,  -1.,  -1.,   1.],\n",
              "       [  0.,   1.,  -1.,  -1.,   0.,   4.,   1.,   0.,   0.,   1.],\n",
              "       [  6.,   0.,   3.,  -1.,   1.,   4.,   1.,   1.,   0.,   8.],\n",
              "       [  7.,   0.,   4.,   3.,   0., -11.,  -3.,   0.,   1.,  15.]])"
            ]
          },
          "metadata": {},
          "execution_count": 89
        }
      ]
    },
    {
      "cell_type": "code",
      "source": [
        "def Standardize (tableau):\n",
        "    \"\"\"Attention!! the bfs must already exist!!\"\"\"\n",
        "    m, n = tableau.shape\n",
        "    m -=1\n",
        "    n -=2\n",
        "\n",
        "    for i in range(m):\n",
        "\n",
        "        tableau[0] -= tableau[0, int(tableau[i+1,0]+1)] * tableau[i+1]\n",
        "\n",
        "    tableau[0, 0] = 1\n",
        "\n",
        "    return tableau"
      ],
      "metadata": {
        "id": "15ZjOs8tf9S6"
      },
      "execution_count": 90,
      "outputs": []
    },
    {
      "cell_type": "code",
      "source": [
        "t = np.array([[ 1, -1,  4,  0,  0,  0, -1, -1, -1,  0],\n",
        "              [ 5,  1, -1, -1,  0,  0,  1,  0,  0,  1],\n",
        "              [ 6, -1,  4,  0,  1,  0,  0,  1,  0,  7],\n",
        "              [ 7,  3,  1,  0,  0,  1,  0,  0,  1, 18]])\n",
        "Standardize(t)"
      ],
      "metadata": {
        "colab": {
          "base_uri": "https://localhost:8080/"
        },
        "id": "9dftF-Ff2zKE",
        "outputId": "c020b164-4f45-4120-de7c-560ed8abdbf6"
      },
      "execution_count": 91,
      "outputs": [
        {
          "output_type": "execute_result",
          "data": {
            "text/plain": [
              "array([[ 1,  2,  8, -1,  1,  1,  0,  0,  0, 26],\n",
              "       [ 5,  1, -1, -1,  0,  0,  1,  0,  0,  1],\n",
              "       [ 6, -1,  4,  0,  1,  0,  0,  1,  0,  7],\n",
              "       [ 7,  3,  1,  0,  0,  1,  0,  0,  1, 18]])"
            ]
          },
          "metadata": {},
          "execution_count": 91
        }
      ]
    },
    {
      "cell_type": "code",
      "source": [
        "def CoreSimplex(tableau):\n",
        "    \"\"\"Works with tandardize tableau with bfs\"\"\"\n",
        "    basics = tableau[1:,0].copy() # start drom zero as the first element!!\n",
        "    m, n = tableau.shape\n",
        "    m -=1\n",
        "    n -=2\n",
        "    while True:\n",
        "        # Check if we have an optimal solution (all entries in the objective row are negative)\n",
        "        if np.all(tableau[0, 1:-1] <= 0):\n",
        "            break\n",
        "        # Pivot column (most negative entry in the objective row)\n",
        "        pivot_col = np.argmax(tableau[0, 1:-1])+1\n",
        "        # Pivot row\n",
        "        ratios = np.divide(tableau[1:, -1], tableau[1:, pivot_col])\n",
        "\n",
        "        valid_ratios = ratios[tableau[1:, pivot_col] > 0]\n",
        "        # Check if there's no valid ratio which means unbounded\n",
        "        if len(valid_ratios) == 0:\n",
        "            raise ValueError(\"The problem is unbounded.\")\n",
        "        ########could be written better################\n",
        "        pivot_row = np.where(ratios == valid_ratios.min())[0][0] +1\n",
        "        tableau = Pivot(tableau, pivot_row, pivot_col)\n",
        "        basics = tableau[1:, 0]\n",
        "\n",
        "    tableau[1:, 0] = basics\n",
        "    tableau[0, 0] = 1\n",
        "    return tableau\n"
      ],
      "metadata": {
        "id": "nNDa1BO_VNVC"
      },
      "execution_count": 92,
      "outputs": []
    },
    {
      "cell_type": "code",
      "source": [
        "t = np.array(\n",
        "    [[ 1, -1,  4,  0,  0,  0,  0],\n",
        "     [ 2, -1,  1,  1,  0,  0,  1],\n",
        "     [ 3, -1,  4,  0,  1,  0,  7],\n",
        "     [ 4,  3,  1,  0,  0,  1, 18]])\n",
        "print(np.round(CoreSimplex(t), 4))"
      ],
      "metadata": {
        "colab": {
          "base_uri": "https://localhost:8080/"
        },
        "id": "QgXOE2eX1Q0V",
        "outputId": "12a4ae22-3bbb-438c-f87f-1845f911b103"
      },
      "execution_count": 93,
      "outputs": [
        {
          "output_type": "stream",
          "name": "stdout",
          "text": [
            "[[ 1.      0.      0.      0.     -1.      0.     -7.    ]\n",
            " [ 1.      0.      1.     -0.3333  0.3333  0.      2.    ]\n",
            " [ 0.      1.      0.     -1.3333  0.3333  0.      1.    ]\n",
            " [ 4.      0.      0.      4.3333 -1.3333  1.     13.    ]]\n"
          ]
        }
      ]
    },
    {
      "cell_type": "code",
      "source": [
        "# handle the exceptions!!\n",
        "def Phase1(tableau):\n",
        "    \"\"\"takes the tableau with no feasible solution and outpus with bfs (not standardize)\"\"\"\n",
        "    basics = tableau[1:,0].copy() # start drom zero as the first element!!\n",
        "    m, n = tableau.shape\n",
        "    m -=1\n",
        "    n -=2\n",
        "    b = tableau[1:, -1]\n",
        "    p = np.eye(m+1)\n",
        "    p[np.where(b<0)+np.ones_like(np.where(b<0))] *= -1\n",
        "    Rtableau = p @ tableau\n",
        "    Rtableau = np.insert(Rtableau, -1, np.vstack((-np.ones(m),np.eye(m))).T, axis=1)\n",
        "    Rtableau[0, 0] = 1\n",
        "    Rtableau[0, -1] = 0\n",
        "    # fixing the basic variables\n",
        "    Rtableau[1:, 0] = np.arange(n, n+m)\n",
        "    Rtableau[0, 1:n+1] = np.zeros(n)\n",
        "    # print(Rtableau)\n",
        "    # Standardizing:)\n",
        "    Rtableau = Standardize(Rtableau)\n",
        "    # print(\"############\")\n",
        "    # print(np.round(Rtableau, 2))\n",
        "    Rtableau = CoreSimplex(Rtableau)\n",
        "    # print(\"############\")\n",
        "    # print(np.round(Rtableau, 2))\n",
        "    if not np.isclose(Rtableau[0, -1], 0):\n",
        "        raise ValueError(\"The problem is unbounded.\")\n",
        "\n",
        "    #checking if all varianles in the base aren't artificial\n",
        "    if np.all(Rtableau[1:, 0]<n):\n",
        "        # return 0\n",
        "        return np.delete(Rtableau, np.s_[n+1:n+m+1], axis=1)\n",
        "    # handling two exceptions:\n",
        "\n",
        "    return 0\n",
        "\n",
        "\n",
        "\n"
      ],
      "metadata": {
        "id": "a9n794rxz4uJ"
      },
      "execution_count": 158,
      "outputs": []
    },
    {
      "cell_type": "code",
      "source": [
        "t = np.array(\n",
        "    [[ 1,  1,  1,  1,  0,  0],\n",
        "     [ 1,  1, -1,  3,  0,  1],\n",
        "     [ 1,  1,  1,  0, -1,  2],\n",
        "     [ 1,  1,  0, -1,  0,  1]])\n",
        "np.round(Phase1(t), 4)"
      ],
      "metadata": {
        "colab": {
          "base_uri": "https://localhost:8080/"
        },
        "id": "prlfjNMNwsPI",
        "outputId": "9fb67d6e-665d-44a0-b29f-f6fd9d199d7c"
      },
      "execution_count": 159,
      "outputs": [
        {
          "output_type": "execute_result",
          "data": {
            "text/plain": [
              "array([[ 1. ,  0. ,  0. ,  0. ,  0. ,  0. ],\n",
              "       [ 0. ,  1. ,  0. ,  0. , -0.2,  1.2],\n",
              "       [ 2. ,  0. ,  0. ,  1. , -0.2,  0.2],\n",
              "       [ 1. ,  0. ,  1. ,  0. , -0.8,  0.8]])"
            ]
          },
          "metadata": {},
          "execution_count": 159
        }
      ]
    },
    {
      "cell_type": "code",
      "source": [],
      "metadata": {
        "id": "wnu-FdnO1Yo8"
      },
      "execution_count": 159,
      "outputs": []
    },
    {
      "cell_type": "code",
      "source": [],
      "metadata": {
        "id": "eU29fpTw1YwE"
      },
      "execution_count": 159,
      "outputs": []
    },
    {
      "cell_type": "code",
      "source": [],
      "metadata": {
        "id": "4j5K5pBO1Y1-"
      },
      "execution_count": 159,
      "outputs": []
    },
    {
      "cell_type": "code",
      "source": [
        "def simplex(c, A, b):\n",
        "    # Number of variables\n",
        "    n = len(c)\n",
        "    # Number of constraints\n",
        "    m = len(b)\n",
        "    # creation of bfs(Basic feasible solution through Artificial variables)\n",
        "    tableau = np.zeros((m + 1, n + 2))\n",
        "    tableau[1:, 1:-1] = A\n",
        "    tableau[1:, -1] = b\n",
        "    tableau = Phase1(tableau)\n",
        "    tableau[0, 1:-1] = -c\n",
        "    tableau = Standardize(tableau)\n",
        "    tableau = CoreSimplex(tableau)\n",
        "\n",
        "    return tableau\n"
      ],
      "metadata": {
        "id": "OiHySYdaTE2I"
      },
      "execution_count": 160,
      "outputs": []
    },
    {
      "cell_type": "code",
      "source": [
        "A = np.array([\n",
        "    [3, 1,-1, 0],\n",
        "    [1, 2, 0,-1],\n",
        "\n",
        "])\n",
        "b = np.array([4, 4])\n",
        "c = np.array([3, 4, 0, 0])\n",
        "np.round(simplex(c, A, b),4)"
      ],
      "metadata": {
        "colab": {
          "base_uri": "https://localhost:8080/"
        },
        "id": "zsKejO7XaNjU",
        "outputId": "3803bfe1-5d5c-431f-db8b-26c1b42a0e04"
      },
      "execution_count": 161,
      "outputs": [
        {
          "output_type": "execute_result",
          "data": {
            "text/plain": [
              "array([[ 1. ,  0. ,  0. , -0.4, -1.8,  8.8],\n",
              "       [ 0. ,  1. ,  0. , -0.4,  0.2,  0.8],\n",
              "       [ 1. ,  0. ,  1. ,  0.2, -0.6,  1.6]])"
            ]
          },
          "metadata": {},
          "execution_count": 161
        }
      ]
    },
    {
      "cell_type": "code",
      "source": [
        "Q = np.array([[ 1. ,  0. ,  0. , -0.4, -1.8,  0,  8.8],\n",
        "              [ 0. ,  1. ,  0. , -0.4,  0.2,  0,  0.8],\n",
        "              [ 0. ,  0. ,  1. ,  0.2, -0.6,  0,  1.6],\n",
        "              [ 0. ,  0. ,  0. , -0.2, -0.4,  1, -0.6]])\n",
        "# A = np.array([\n",
        "#     [3, 1,-1, 0],\n",
        "#     [1, 2, 0,-1],\n",
        "\n",
        "# ])\n",
        "# b = np.array([4, 4])\n",
        "# np.round(simplex(c, A, b),4)\n",
        "# print(Q)\n",
        "Q = Phase1(Q)\n",
        "A = Q[1:, 1:-1]\n",
        "b = Q[1:, -1]\n",
        "c = np.array([3, 4, 0, 0, 0])\n",
        "np.round(simplex(c, A, b),4)"
      ],
      "metadata": {
        "colab": {
          "base_uri": "https://localhost:8080/"
        },
        "id": "YRu5oSEX_N4z",
        "outputId": "8a262a1c-13d4-4683-c382-517a42a66acb"
      },
      "execution_count": 162,
      "outputs": [
        {
          "output_type": "stream",
          "name": "stderr",
          "text": [
            "<ipython-input-92-d409a5af2e74>:14: RuntimeWarning: divide by zero encountered in divide\n",
            "  ratios = np.divide(tableau[1:, -1], tableau[1:, pivot_col])\n"
          ]
        },
        {
          "output_type": "execute_result",
          "data": {
            "text/plain": [
              "array([[ 1.,  0.,  0.,  0., -1., -2., 10.],\n",
              "       [ 0.,  1.,  0.,  0.,  1., -2.,  2.],\n",
              "       [ 1.,  0.,  1.,  0., -1.,  1.,  1.],\n",
              "       [ 2.,  0.,  0.,  1.,  2., -5.,  3.]])"
            ]
          },
          "metadata": {},
          "execution_count": 162
        }
      ]
    },
    {
      "cell_type": "code",
      "source": [
        "# needs to checked if variables are all positive\n",
        "def intSimplex(c, A, b):\n",
        "    # Number of variables\n",
        "    n = len(c)\n",
        "    # Number of constraints\n",
        "    m = len(b)\n",
        "    tableau = simplex(c, A, b)\n",
        "\n",
        "\n",
        "    while True:\n",
        "        # Check if we have an optimal solution (all entries in the objective row are negative)\n",
        "        if np.allclose(np.round(tableau[1:, -1]), tableau[1:, -1], atol=1e-6):\n",
        "            break\n",
        "\n",
        "        ########could be written better################\n",
        "        fracIdx = (np.where(np.modf(tableau[1:, -1])[0] != 0)[0]+1)[0]\n",
        "        # fracIdx = 2\n",
        "        # print(tableau[fracIdx]-np.floor(tableau[fracIdx]))\n",
        "        tableau = np.vstack((tableau, -(tableau[fracIdx]-np.floor(tableau[fracIdx]))))\n",
        "        newVar = np.zeros(tableau.shape[0])\n",
        "        newVar[-1] = 1\n",
        "        tableau = np.insert(tableau, -1, newVar, axis=1)\n",
        "        ######################\n",
        "        # print the added equation!\n",
        "        #######################\n",
        "        print(np.round(tableau,2))\n",
        "        tableau = Phase1(tableau)\n",
        "        tableau[0] = 0\n",
        "        tableau[0, 1:1+n] = -c\n",
        "        tableau = Standardize(tableau)\n",
        "        tableau = CoreSimplex(tableau)\n",
        "    return tableau\n"
      ],
      "metadata": {
        "id": "w3E_vwXGXDB_"
      },
      "execution_count": 207,
      "outputs": []
    },
    {
      "cell_type": "code",
      "source": [
        "A = np.array([\n",
        "    [3, 1,-1, 0],\n",
        "    [1, 2, 0,-1],\n",
        "\n",
        "])\n",
        "b = np.array([4, 4])\n",
        "c = np.array([3, 4, 0, 0])\n",
        "np.round(intSimplex(c, A, b),4)"
      ],
      "metadata": {
        "id": "ZBjHbagNb_K3",
        "colab": {
          "base_uri": "https://localhost:8080/"
        },
        "outputId": "a97e1627-1903-4cf4-e785-a25178ad0979"
      },
      "execution_count": 208,
      "outputs": [
        {
          "output_type": "stream",
          "name": "stdout",
          "text": [
            "[[ 1.   0.   0.  -0.4 -1.8  0.   8.8]\n",
            " [ 0.   1.   0.  -0.4  0.2  0.   0.8]\n",
            " [ 1.   0.   1.   0.2 -0.6  0.   1.6]\n",
            " [-0.  -0.  -0.  -0.6 -0.2  1.  -0.8]]\n",
            "[[ 1.    0.    0.    0.   -1.67 -0.67  0.    9.33]\n",
            " [ 0.    1.    0.    0.    0.33 -0.67  0.    1.33]\n",
            " [ 1.    0.    1.    0.   -0.67  0.33  0.    1.33]\n",
            " [ 2.    0.    0.    1.    0.33 -1.67  0.    1.33]\n",
            " [-0.   -0.   -0.   -0.   -0.33 -0.33  1.   -0.33]]\n"
          ]
        },
        {
          "output_type": "stream",
          "name": "stderr",
          "text": [
            "<ipython-input-92-d409a5af2e74>:14: RuntimeWarning: divide by zero encountered in divide\n",
            "  ratios = np.divide(tableau[1:, -1], tableau[1:, pivot_col])\n"
          ]
        },
        {
          "output_type": "execute_result",
          "data": {
            "text/plain": [
              "array([[ 1.,  0.,  0.,  0., -1.,  0., -2., 10.],\n",
              "       [ 0.,  1.,  0.,  0.,  1.,  0., -2.,  2.],\n",
              "       [ 1.,  0.,  1.,  0., -1.,  0.,  1.,  1.],\n",
              "       [ 2.,  0.,  0.,  1.,  2.,  0., -5.,  3.],\n",
              "       [ 4.,  0.,  0.,  0.,  1.,  1., -3.,  1.]])"
            ]
          },
          "metadata": {},
          "execution_count": 208
        }
      ]
    },
    {
      "cell_type": "code",
      "source": [],
      "metadata": {
        "id": "RqPk8cU31DsB"
      },
      "execution_count": null,
      "outputs": []
    }
  ]
}