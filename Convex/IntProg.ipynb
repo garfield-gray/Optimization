{
  "nbformat": 4,
  "nbformat_minor": 0,
  "metadata": {
    "colab": {
      "provenance": [],
      "collapsed_sections": [
        "EgChmwXcHGCm",
        "n0P-X8wpHNV4"
      ],
      "authorship_tag": "ABX9TyP73ZWEuOdncOcnVQTASA5/",
      "include_colab_link": true
    },
    "kernelspec": {
      "name": "python3",
      "display_name": "Python 3"
    },
    "language_info": {
      "name": "python"
    }
  },
  "cells": [
    {
      "cell_type": "markdown",
      "metadata": {
        "id": "view-in-github",
        "colab_type": "text"
      },
      "source": [
        "<a href=\"https://colab.research.google.com/github/garfield-gray/Optimization/blob/main/Convex/IntProg.ipynb\" target=\"_parent\"><img src=\"https://colab.research.google.com/assets/colab-badge.svg\" alt=\"Open In Colab\"/></a>"
      ]
    },
    {
      "cell_type": "code",
      "source": [
        "# phase 1 (2 rules!!)\n",
        "# write standardizing:) in a function if you could!!!\n",
        "# And that's it:)\n"
      ],
      "metadata": {
        "id": "2XPm4hX0ce2W"
      },
      "execution_count": null,
      "outputs": []
    },
    {
      "cell_type": "markdown",
      "source": [
        "# IntProg"
      ],
      "metadata": {
        "id": "EgChmwXcHGCm"
      }
    },
    {
      "cell_type": "code",
      "execution_count": 2,
      "metadata": {
        "id": "v5W2GFHu-6Eu"
      },
      "outputs": [],
      "source": [
        "from scipy.optimize import LinearConstraint, milp\n",
        "import numpy as np"
      ]
    },
    {
      "cell_type": "code",
      "source": [
        "c = np.array([3, 4])\n",
        "A = np.array([[-3, -1], [-1, -2]])\n",
        "b_u = np.array([-4, -4])\n",
        "b_l = np.full_like(b_u, -np.inf, dtype=float)\n",
        "# b_l = np.full_like(b_u, 0, dtype=float)"
      ],
      "metadata": {
        "id": "gybtJcSpD-yd"
      },
      "execution_count": null,
      "outputs": []
    },
    {
      "cell_type": "code",
      "source": [
        "constraints = LinearConstraint(A, b_l, b_u)"
      ],
      "metadata": {
        "id": "vPO4hmASHA6r"
      },
      "execution_count": null,
      "outputs": []
    },
    {
      "cell_type": "code",
      "source": [
        "integrality = np.ones_like(c)\n",
        "res = milp(c=c, constraints=constraints, integrality=integrality)\n",
        "res.x"
      ],
      "metadata": {
        "colab": {
          "base_uri": "https://localhost:8080/"
        },
        "id": "SJQVStOfHBPu",
        "outputId": "d4167bf0-3d75-4625-efbd-b3a3e27e3d13"
      },
      "execution_count": null,
      "outputs": [
        {
          "output_type": "execute_result",
          "data": {
            "text/plain": [
              "array([2., 1.])"
            ]
          },
          "metadata": {},
          "execution_count": 5
        }
      ]
    },
    {
      "cell_type": "code",
      "source": [
        "res = milp(c=c, constraints=constraints)  # OR:\n",
        "# from scipy.optimize import linprog; res = linprog(c, A, b_u)\n",
        "res.x"
      ],
      "metadata": {
        "colab": {
          "base_uri": "https://localhost:8080/"
        },
        "id": "8sfpu3moHBby",
        "outputId": "5a20757b-9963-4cb9-f1a9-a37e44738c98"
      },
      "execution_count": null,
      "outputs": [
        {
          "output_type": "execute_result",
          "data": {
            "text/plain": [
              "array([0.8, 1.6])"
            ]
          },
          "metadata": {},
          "execution_count": 6
        }
      ]
    },
    {
      "cell_type": "code",
      "source": [],
      "metadata": {
        "id": "W2sNtAb1HMh3"
      },
      "execution_count": null,
      "outputs": []
    },
    {
      "cell_type": "markdown",
      "source": [
        "# Linprog"
      ],
      "metadata": {
        "id": "n0P-X8wpHNV4"
      }
    },
    {
      "cell_type": "code",
      "source": [
        "from scipy.optimize import linprog\n",
        "c = [3, 4]\n",
        "A = [[-3, -1], [-1, -2]]\n",
        "b = [-4, -4]\n",
        "x0_bounds = (0, None)\n",
        "x1_bounds = (0, None)\n",
        "res = linprog(c, A_ub=A, b_ub=b, bounds=[x0_bounds, x1_bounds])\n",
        "res.fun\n"
      ],
      "metadata": {
        "colab": {
          "base_uri": "https://localhost:8080/"
        },
        "id": "adYTrMv3FrO-",
        "outputId": "3c3e2b10-2c6c-4cee-b38f-d56b3c8ca9b9"
      },
      "execution_count": null,
      "outputs": [
        {
          "output_type": "execute_result",
          "data": {
            "text/plain": [
              "8.8"
            ]
          },
          "metadata": {},
          "execution_count": 7
        }
      ]
    },
    {
      "cell_type": "code",
      "source": [
        "res.x"
      ],
      "metadata": {
        "colab": {
          "base_uri": "https://localhost:8080/"
        },
        "id": "meUyrjwBGNwU",
        "outputId": "78aef527-d920-4867-f274-18003359447a"
      },
      "execution_count": null,
      "outputs": [
        {
          "output_type": "execute_result",
          "data": {
            "text/plain": [
              "array([0.8, 1.6])"
            ]
          },
          "metadata": {},
          "execution_count": 8
        }
      ]
    },
    {
      "cell_type": "code",
      "source": [
        "res.message"
      ],
      "metadata": {
        "colab": {
          "base_uri": "https://localhost:8080/",
          "height": 35
        },
        "id": "3zpqfDOQGRQd",
        "outputId": "8ae8cf6c-6913-48c3-deb3-51554122c176"
      },
      "execution_count": null,
      "outputs": [
        {
          "output_type": "execute_result",
          "data": {
            "text/plain": [
              "'Optimization terminated successfully. (HiGHS Status 7: Optimal)'"
            ],
            "application/vnd.google.colaboratory.intrinsic+json": {
              "type": "string"
            }
          },
          "metadata": {},
          "execution_count": 9
        }
      ]
    },
    {
      "cell_type": "code",
      "source": [],
      "metadata": {
        "id": "EePWfztcGVJE"
      },
      "execution_count": null,
      "outputs": []
    },
    {
      "cell_type": "markdown",
      "source": [
        "# The Algorithm"
      ],
      "metadata": {
        "id": "9w7Bt2szRvUy"
      }
    },
    {
      "cell_type": "code",
      "source": [
        "def Phase1(tableau):\n",
        "    basics = tableau[1:,0].copy() # start drom zero as the first element!!\n",
        "    m, n = tableau.shape\n",
        "    m -=1\n",
        "    n -=2\n",
        "    while True:\n",
        "        # Check if we have an optimal solution (all entries in the objective row are negative)\n",
        "        if np.all(tableau[0, 1:-1] <= 0):\n",
        "            break\n",
        "        # Pivot column (most negative entry in the objective row)\n",
        "        pivot_col = np.argmax(tableau[0, 1:-1])+1\n",
        "        # Pivot row\n",
        "        ratios = np.divide(tableau[1:, -1], tableau[1:, pivot_col])\n",
        "        # print(ratios)\n",
        "        valid_ratios = ratios[tableau[1:, pivot_col] > 0]\n",
        "        # print(valid_ratios)\n",
        "        # Check if there's no valid ratio which means unbounded\n",
        "        if len(valid_ratios) == 0:\n",
        "            raise ValueError(\"The problem is unbounded.\")\n",
        "        ########could be written better################\n",
        "        pivot_row = np.where(ratios == valid_ratios.min())[0][0] +1\n",
        "        # Pivot element\n",
        "        pivot_element = tableau[pivot_row, pivot_col]\n",
        "        # Update the pivot row\n",
        "        tableau[pivot_row] /= pivot_element\n",
        "        # Update the other rows\n",
        "        for i in range(m + 1):\n",
        "            if i != pivot_row:\n",
        "                # print(i)\n",
        "                tableau[i] -= tableau[i, pivot_col] * tableau[pivot_row]\n",
        "\n",
        "        basics[pivot_row-1] = pivot_col-1\n",
        "    tableau[1:, 0] = basics\n",
        "    tableau[0, 0] = 1\n",
        "    return tableau\n"
      ],
      "metadata": {
        "id": "a9n794rxz4uJ"
      },
      "execution_count": null,
      "outputs": []
    },
    {
      "cell_type": "code",
      "source": [
        "def CoreSimplex(tableau):\n",
        "    basics = tableau[1:,0].copy() # start drom zero as the first element!!\n",
        "    m, n = tableau.shape\n",
        "    m -=1\n",
        "    n -=2\n",
        "    while True:\n",
        "        # Check if we have an optimal solution (all entries in the objective row are negative)\n",
        "        if np.all(tableau[0, 1:-1] <= 0):\n",
        "            break\n",
        "        # Pivot column (most negative entry in the objective row)\n",
        "        pivot_col = np.argmax(tableau[0, 1:-1])+1\n",
        "        # Pivot row\n",
        "        ratios = np.divide(tableau[1:, -1], tableau[1:, pivot_col])\n",
        "        # print(ratios)\n",
        "        valid_ratios = ratios[tableau[1:, pivot_col] > 0]\n",
        "        # print(valid_ratios)\n",
        "        # Check if there's no valid ratio which means unbounded\n",
        "        if len(valid_ratios) == 0:\n",
        "            raise ValueError(\"The problem is unbounded.\")\n",
        "        ########could be written better################\n",
        "        pivot_row = np.where(ratios == valid_ratios.min())[0][0] +1\n",
        "        # Pivot element\n",
        "        pivot_element = tableau[pivot_row, pivot_col]\n",
        "        # Update the pivot row\n",
        "        tableau[pivot_row] /= pivot_element\n",
        "        # Update the other rows\n",
        "        for i in range(m + 1):\n",
        "            if i != pivot_row:\n",
        "                # print(i)\n",
        "                tableau[i] -= tableau[i, pivot_col] * tableau[pivot_row]\n",
        "\n",
        "        basics[pivot_row-1] = pivot_col-1\n",
        "    tableau[1:, 0] = basics\n",
        "    tableau[0, 0] = 1\n",
        "    return tableau\n"
      ],
      "metadata": {
        "id": "nNDa1BO_VNVC"
      },
      "execution_count": 54,
      "outputs": []
    },
    {
      "cell_type": "code",
      "source": [
        "t = np.array(\n",
        "    [[ 1, -1,  4,  0,  0,  0,  0],\n",
        "     [ 2, -1,  1,  1,  0,  0,  1],\n",
        "     [ 3, -1,  4,  0,  1,  0,  7],\n",
        "     [ 4,  3,  1,  0,  0,1.0, 18]])\n",
        "print(np.round(CoreSimplex(t), 4))"
      ],
      "metadata": {
        "colab": {
          "base_uri": "https://localhost:8080/"
        },
        "id": "QgXOE2eX1Q0V",
        "outputId": "c7bf4ec6-02b8-4f0f-c6b7-677cbe5ed907"
      },
      "execution_count": 56,
      "outputs": [
        {
          "output_type": "stream",
          "name": "stdout",
          "text": [
            "[[ 1.      0.      0.      0.     -1.      0.     -7.    ]\n",
            " [ 1.      0.      1.     -0.3333  0.3333  0.      2.    ]\n",
            " [ 0.      1.      0.     -1.3333  0.3333  0.      1.    ]\n",
            " [ 4.      0.      0.      4.3333 -1.3333  1.     13.    ]]\n"
          ]
        }
      ]
    },
    {
      "cell_type": "code",
      "source": [
        "\n",
        "# needs to checked if variables are all positive\n",
        "def simplex(c, A, b):\n",
        "    # Number of variables\n",
        "    n = len(c)\n",
        "    # Number of constraints\n",
        "    m = len(b)\n",
        "    # creation of bfs(Basic feasible solution through Artificial variables)\n",
        "    Rtableau = np.zeros((m + 1, n + m + 1))\n",
        "    Rtableau[1:, :n] = A\n",
        "    Rtableau[1:, -1] = b\n",
        "    p = np.eye(m+1)\n",
        "    p[np.where(b<0)+np.ones_like(np.where(b<0))] *= -1\n",
        "    Rtableau = p @ Rtableau\n",
        "    Rtableau[1:, n:n+m] = np.eye(m)\n",
        "    #\n",
        "    Rtableau[0, n:n+m] = -np.ones(m)\n",
        "    # Standardizing:)\n",
        "    for i in range(m):\n",
        "        Rtableau[0] += Rtableau[i+1]\n",
        "\n",
        "\n",
        "    Rtableau = CoreSimplex(Rtableau)\n",
        "    # checking the feasibility\n",
        "    # if\n",
        "    tableau = np.delete(Rtableau, np.s_[n:n+m], axis=1)\n",
        "\n",
        "\n",
        "    tableau[0, :-1] = -c\n",
        "    # Standardizing :)\n",
        "    for i in range(m):\n",
        "        # print(i)\n",
        "        # print((tableau[0, np.where(tableau[i+1]==1)[0]]))\n",
        "        tableau[0] -= tableau[0, np.where(tableau[i+1]==1)[0]] * tableau[i+1]\n",
        "    # print(tableau)\n",
        "    tableau = CoreSimplex(tableau)\n",
        "\n",
        "\n",
        "    return tableau\n"
      ],
      "metadata": {
        "id": "OiHySYdaTE2I"
      },
      "execution_count": null,
      "outputs": []
    },
    {
      "cell_type": "code",
      "source": [
        "A = np.array([\n",
        "    [3, 1,-1, 0],\n",
        "    [1, 2, 0,-1],\n",
        "\n",
        "])\n",
        "b = np.array([4, 4])\n",
        "c = np.array([3, 4, 0, 0])\n",
        "np.round(simplex(c, A, b),4)"
      ],
      "metadata": {
        "colab": {
          "base_uri": "https://localhost:8080/"
        },
        "id": "zsKejO7XaNjU",
        "outputId": "6623d7e9-cfa6-4577-e6df-c2f319d5ab29"
      },
      "execution_count": null,
      "outputs": [
        {
          "output_type": "execute_result",
          "data": {
            "text/plain": [
              "array([[ 0. ,  0. , -0.4, -1.8,  8.8],\n",
              "       [ 1. ,  0. , -0.4,  0.2,  0.8],\n",
              "       [ 0. ,  1. ,  0.2, -0.6,  1.6]])"
            ]
          },
          "metadata": {},
          "execution_count": 41
        }
      ]
    },
    {
      "cell_type": "code",
      "source": [
        "# needs to checked if variables are all positive\n",
        "def intSimplex(c, A, b):\n",
        "    # Number of variables\n",
        "    n = len(c)\n",
        "    # Number of constraints\n",
        "    m = len(b)\n",
        "    # creation of bfs(Basic feasible solution through Artificial variables)\n",
        "    Rtableau = np.zeros((m + 1, n + m + 1))\n",
        "    Rtableau[1:, :n] = A\n",
        "    Rtableau[1:, -1] = b\n",
        "    p = np.eye(m+1)\n",
        "    p[np.where(b<0)+np.ones_like(np.where(b<0))] *= -1\n",
        "    Rtableau = p @ Rtableau\n",
        "    Rtableau[1:, n:n+m] = np.eye(m)\n",
        "    #\n",
        "    Rtableau[0, n:n+m] = -np.ones(m)\n",
        "    for i in range(m):\n",
        "        Rtableau[0] += Rtableau[i+1]\n",
        "\n",
        "\n",
        "    Rtableau = CoreSimplex(Rtableau)\n",
        "    # checking the feasibility\n",
        "    # if\n",
        "    tableau = np.delete(Rtableau, np.s_[n:n+m], axis=1)\n",
        "\n",
        "\n",
        "    tableau[0, :-1] = -c\n",
        "    for i in range(m):\n",
        "        # print(i)\n",
        "        # print((tableau[0, np.where(tableau[i+1]==1)[0]]))\n",
        "        tableau[0] -= tableau[0, np.where(tableau[i+1]==1)[0]] * tableau[i+1]\n",
        "    # print(tableau)\n",
        "    tableau = CoreSimplex(tableau)\n",
        "\n",
        "    while True:\n",
        "        # Check if we have an optimal solution (all entries in the objective row are negative)\n",
        "        if np.all(np.modf(tableau[1:, -1])[0] == 0):\n",
        "            break\n",
        "        ########could be written better################\n",
        "        # fracIdx = (np.where(np.modf(tableau[1:, -1])[0] != 0)[0]+1)[0]\n",
        "        fracIdx = 2\n",
        "        # print(tableau[fracIdx]-np.floor(tableau[fracIdx]))\n",
        "        tableau = np.vstack((tableau, -(tableau[fracIdx]-np.floor(tableau[fracIdx]))))\n",
        "        newVar = np.zeros(tableau.shape[0])\n",
        "        newVar[-1] = 1\n",
        "        tableau = np.insert(tableau, -1, newVar, axis=1)\n",
        "\n",
        "        # tableau = simplex(tableau[0, :-1], tableau[1:, :-1], tableau[1:, -1])\n",
        "\n",
        "        print(tableau)\n",
        "        print(tableau[0, :-1])\n",
        "        print( tableau[1:, :-1])\n",
        "        print( tableau[1:, -1])\n",
        "\n",
        "        break\n",
        "    return tableau\n"
      ],
      "metadata": {
        "id": "w3E_vwXGXDB_"
      },
      "execution_count": null,
      "outputs": []
    },
    {
      "cell_type": "code",
      "source": [
        "A = np.array([\n",
        "    [3, 1,-1, 0],\n",
        "    [1, 2, 0,-1],\n",
        "\n",
        "])\n",
        "b = np.array([4, 4])\n",
        "c = np.array([3, 4, 0, 0])\n",
        "np.round(intSimplex(c, A, b),4)"
      ],
      "metadata": {
        "id": "ZBjHbagNb_K3",
        "colab": {
          "base_uri": "https://localhost:8080/"
        },
        "outputId": "3c6d3313-2f97-4d4a-dd80-cd8953a12f47"
      },
      "execution_count": null,
      "outputs": [
        {
          "output_type": "stream",
          "name": "stdout",
          "text": [
            "[[ 0.   0.  -0.4 -1.8  0.   8.8]\n",
            " [ 1.   0.  -0.4  0.2  0.   0.8]\n",
            " [ 0.   1.   0.2 -0.6  0.   1.6]\n",
            " [-0.  -0.  -0.2 -0.4  1.  -0.6]]\n",
            "[ 0.   0.  -0.4 -1.8  0. ]\n",
            "[[ 1.   0.  -0.4  0.2  0. ]\n",
            " [ 0.   1.   0.2 -0.6  0. ]\n",
            " [-0.  -0.  -0.2 -0.4  1. ]]\n",
            "[ 0.8  1.6 -0.6]\n"
          ]
        },
        {
          "output_type": "execute_result",
          "data": {
            "text/plain": [
              "array([[ 0. ,  0. , -0.4, -1.8,  0. ,  8.8],\n",
              "       [ 1. ,  0. , -0.4,  0.2,  0. ,  0.8],\n",
              "       [ 0. ,  1. ,  0.2, -0.6,  0. ,  1.6],\n",
              "       [-0. , -0. , -0.2, -0.4,  1. , -0.6]])"
            ]
          },
          "metadata": {},
          "execution_count": 53
        }
      ]
    },
    {
      "cell_type": "code",
      "source": [
        "import numpy as np\n",
        "\n",
        "# Example 5x7 array\n",
        "S = np.random.rand(3, 4)\n",
        "\n",
        "# New column to insert\n",
        "new_column = np.zeros(3)\n",
        "\n",
        "# Print the original array\n",
        "print(\"Original array:\\n\", S)\n",
        "\n",
        "# Insert the new column at the 5th position (index 4)\n",
        "S_modified = np.insert(S, -2, new_column, axis=1)\n",
        "\n",
        "# Print the modified array\n",
        "print(\"Modified array (with new column at 5th position):\\n\", S_modified)\n"
      ],
      "metadata": {
        "id": "KdR8T0cIWqF2",
        "colab": {
          "base_uri": "https://localhost:8080/"
        },
        "outputId": "d7308649-2fd4-4083-a47c-3896b64485da"
      },
      "execution_count": null,
      "outputs": [
        {
          "output_type": "stream",
          "name": "stdout",
          "text": [
            "Original array:\n",
            " [[0.28111349 0.03762787 0.0363364  0.88503735]\n",
            " [0.69939991 0.99581945 0.79337558 0.5424922 ]\n",
            " [0.10078401 0.73194852 0.64699449 0.25804583]]\n",
            "Modified array (with new column at 5th position):\n",
            " [[0.28111349 0.03762787 0.         0.0363364  0.88503735]\n",
            " [0.69939991 0.99581945 0.         0.79337558 0.5424922 ]\n",
            " [0.10078401 0.73194852 0.         0.64699449 0.25804583]]\n"
          ]
        }
      ]
    },
    {
      "cell_type": "code",
      "source": [
        "import numpy as np\n",
        "\n",
        "# Example array\n",
        "arr = np.array([-2.5, 2.5, 3.0, 4.2, -3.7])\n",
        "\n",
        "# Get the integral part using floor\n",
        "integral_part = np.floor(arr)\n",
        "\n",
        "# Get the fractional part by subtracting the integral part from the original array\n",
        "fractional_part = arr - integral_part\n",
        "\n",
        "print(\"Array:\", arr)\n",
        "print(\"Integral part:\", integral_part)\n",
        "print(\"Fractional part:\", fractional_part)\n"
      ],
      "metadata": {
        "colab": {
          "base_uri": "https://localhost:8080/"
        },
        "id": "KVTCaJjAcGhW",
        "outputId": "62cdc2cf-949a-4f83-fc1f-e8f7cdd4b57c"
      },
      "execution_count": null,
      "outputs": [
        {
          "output_type": "stream",
          "name": "stdout",
          "text": [
            "Array: [-2.5  2.5  3.   4.2 -3.7]\n",
            "Integral part: [-3.  2.  3.  4. -4.]\n",
            "Fractional part: [0.5 0.5 0.  0.2 0.3]\n"
          ]
        }
      ]
    },
    {
      "cell_type": "code",
      "source": [
        "newVar = np.zeros(5)\n",
        "newVar[-1] = 1\n",
        "newVar[1:-1]"
      ],
      "metadata": {
        "id": "ju1A2oCsdoQA",
        "colab": {
          "base_uri": "https://localhost:8080/"
        },
        "outputId": "4195d19c-512d-441f-a6d4-ebc326512d40"
      },
      "execution_count": 10,
      "outputs": [
        {
          "output_type": "execute_result",
          "data": {
            "text/plain": [
              "array([0., 0., 0.])"
            ]
          },
          "metadata": {},
          "execution_count": 10
        }
      ]
    },
    {
      "cell_type": "code",
      "source": [],
      "metadata": {
        "id": "RqPk8cU31DsB"
      },
      "execution_count": null,
      "outputs": []
    }
  ]
}