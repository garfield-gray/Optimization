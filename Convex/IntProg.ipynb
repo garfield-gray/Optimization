{
  "nbformat": 4,
  "nbformat_minor": 0,
  "metadata": {
    "colab": {
      "provenance": [],
      "authorship_tag": "ABX9TyM1/pwCcibbbxI++HjweD6S",
      "include_colab_link": true
    },
    "kernelspec": {
      "name": "python3",
      "display_name": "Python 3"
    },
    "language_info": {
      "name": "python"
    }
  },
  "cells": [
    {
      "cell_type": "markdown",
      "metadata": {
        "id": "view-in-github",
        "colab_type": "text"
      },
      "source": [
        "<a href=\"https://colab.research.google.com/github/garfield-gray/Optimization/blob/main/Convex/IntProg.ipynb\" target=\"_parent\"><img src=\"https://colab.research.google.com/assets/colab-badge.svg\" alt=\"Open In Colab\"/></a>"
      ]
    },
    {
      "cell_type": "markdown",
      "source": [
        "# IntProg"
      ],
      "metadata": {
        "id": "EgChmwXcHGCm"
      }
    },
    {
      "cell_type": "code",
      "execution_count": null,
      "metadata": {
        "id": "v5W2GFHu-6Eu"
      },
      "outputs": [],
      "source": [
        "from scipy.optimize import LinearConstraint, milp\n",
        "import numpy as np"
      ]
    },
    {
      "cell_type": "code",
      "source": [
        "c = np.array([3, 4])\n",
        "A = np.array([[-3, -1], [-1, -2]])\n",
        "b_u = np.array([-4, -4])\n",
        "b_l = np.full_like(b_u, -np.inf, dtype=float)\n",
        "# b_l = np.full_like(b_u, 0, dtype=float)"
      ],
      "metadata": {
        "id": "gybtJcSpD-yd"
      },
      "execution_count": null,
      "outputs": []
    },
    {
      "cell_type": "code",
      "source": [
        "constraints = LinearConstraint(A, b_l, b_u)"
      ],
      "metadata": {
        "id": "vPO4hmASHA6r"
      },
      "execution_count": null,
      "outputs": []
    },
    {
      "cell_type": "code",
      "source": [
        "integrality = np.ones_like(c)\n",
        "res = milp(c=c, constraints=constraints, integrality=integrality)\n",
        "res.x"
      ],
      "metadata": {
        "colab": {
          "base_uri": "https://localhost:8080/"
        },
        "id": "SJQVStOfHBPu",
        "outputId": "31d1cb92-34fe-466d-fce3-2e3440557cb7"
      },
      "execution_count": null,
      "outputs": [
        {
          "output_type": "execute_result",
          "data": {
            "text/plain": [
              "array([2., 1.])"
            ]
          },
          "metadata": {},
          "execution_count": 10
        }
      ]
    },
    {
      "cell_type": "code",
      "source": [
        "res = milp(c=c, constraints=constraints)  # OR:\n",
        "# from scipy.optimize import linprog; res = linprog(c, A, b_u)\n",
        "res.x"
      ],
      "metadata": {
        "colab": {
          "base_uri": "https://localhost:8080/"
        },
        "id": "8sfpu3moHBby",
        "outputId": "bae08bc3-aceb-49e5-c620-b15af632d5fa"
      },
      "execution_count": null,
      "outputs": [
        {
          "output_type": "execute_result",
          "data": {
            "text/plain": [
              "array([0.8, 1.6])"
            ]
          },
          "metadata": {},
          "execution_count": 11
        }
      ]
    },
    {
      "cell_type": "code",
      "source": [],
      "metadata": {
        "id": "W2sNtAb1HMh3"
      },
      "execution_count": null,
      "outputs": []
    },
    {
      "cell_type": "markdown",
      "source": [
        "# Linprog"
      ],
      "metadata": {
        "id": "n0P-X8wpHNV4"
      }
    },
    {
      "cell_type": "code",
      "source": [
        "from scipy.optimize import linprog\n",
        "c = [3, 4]\n",
        "A = [[-3, -1], [-1, -2]]\n",
        "b = [-4, -4]\n",
        "x0_bounds = (0, None)\n",
        "x1_bounds = (0, None)\n",
        "res = linprog(c, A_ub=A, b_ub=b, bounds=[x0_bounds, x1_bounds])\n",
        "res.fun\n"
      ],
      "metadata": {
        "colab": {
          "base_uri": "https://localhost:8080/"
        },
        "id": "adYTrMv3FrO-",
        "outputId": "b64244a3-dee0-4527-84fe-56b3ed9e7ac6"
      },
      "execution_count": null,
      "outputs": [
        {
          "output_type": "execute_result",
          "data": {
            "text/plain": [
              "8.8"
            ]
          },
          "metadata": {},
          "execution_count": 6
        }
      ]
    },
    {
      "cell_type": "code",
      "source": [
        "res.x"
      ],
      "metadata": {
        "colab": {
          "base_uri": "https://localhost:8080/"
        },
        "id": "meUyrjwBGNwU",
        "outputId": "2655a337-0863-4dda-a781-e1b58d1dba24"
      },
      "execution_count": null,
      "outputs": [
        {
          "output_type": "execute_result",
          "data": {
            "text/plain": [
              "array([0.8, 1.6])"
            ]
          },
          "metadata": {},
          "execution_count": 7
        }
      ]
    },
    {
      "cell_type": "code",
      "source": [
        "res.message"
      ],
      "metadata": {
        "colab": {
          "base_uri": "https://localhost:8080/",
          "height": 35
        },
        "id": "3zpqfDOQGRQd",
        "outputId": "25efd507-86a0-43a1-cc7a-a9b1d7d21a10"
      },
      "execution_count": null,
      "outputs": [
        {
          "output_type": "execute_result",
          "data": {
            "text/plain": [
              "'Optimization terminated successfully. (HiGHS Status 7: Optimal)'"
            ],
            "application/vnd.google.colaboratory.intrinsic+json": {
              "type": "string"
            }
          },
          "metadata": {},
          "execution_count": 9
        }
      ]
    },
    {
      "cell_type": "code",
      "source": [],
      "metadata": {
        "id": "EePWfztcGVJE"
      },
      "execution_count": null,
      "outputs": []
    },
    {
      "cell_type": "markdown",
      "source": [
        "# The Algorithm"
      ],
      "metadata": {
        "id": "9w7Bt2szRvUy"
      }
    },
    {
      "cell_type": "code",
      "source": [
        "import numpy as np\n",
        "\n",
        "def simplex(c, A, b):\n",
        "    # Number of variables\n",
        "    n = len(c)\n",
        "    # Number of constraints\n",
        "    m = len(b)\n",
        "\n",
        "    # Create the initial tableau\n",
        "    tableau = np.zeros((m + 1, n + m + 1))\n",
        "\n",
        "    # Fill the tableau with coefficients\n",
        "    tableau[:-1, :-1] = np.hstack((A, np.eye(m)))\n",
        "    tableau[:-1, -1] = b\n",
        "    tableau[-1, :n] = -c\n",
        "\n",
        "    # The main simplex algorithm\n",
        "    while True:\n",
        "        # Check if we have an optimal solution (all entries in the objective row are non-negative)\n",
        "        if np.all(tableau[-1, :-1] >= 0):\n",
        "            break\n",
        "\n",
        "        # Pivot column (most negative entry in the objective row)\n",
        "        pivot_col = np.argmin(tableau[-1, :-1])\n",
        "\n",
        "        # Pivot row\n",
        "        ratios = np.divide(tableau[:-1, -1], tableau[:-1, pivot_col])\n",
        "        valid_ratios = ratios[tableau[:-1, pivot_col] > 0]\n",
        "        pivot_row = np.where(ratios == valid_ratios.min())[0][0]\n",
        "\n",
        "        # Pivot element\n",
        "        pivot_element = tableau[pivot_row, pivot_col]\n",
        "\n",
        "        # Update the pivot row\n",
        "        tableau[pivot_row] /= pivot_element\n",
        "\n",
        "        # Update the other rows\n",
        "        for i in range(m + 1):\n",
        "            if i != pivot_row:\n",
        "                tableau[i] -= tableau[i, pivot_col] * tableau[pivot_row]\n",
        "\n",
        "    # Extract solution\n",
        "    solution = np.zeros(n)\n",
        "    for i in range(n):\n",
        "        col = tableau[:-1, i]\n",
        "        if np.sum(col == 1) == 1 and np.sum(col == 0) == m - 1:\n",
        "            solution[i] = tableau[np.where(col == 1)[0][0], -1]\n",
        "\n",
        "    # Optimal value\n",
        "    optimal_value = -tableau[-1, -1]\n",
        "\n",
        "    return solution, optimal_value\n",
        "\n",
        "# Example Usage\n",
        "c = np.array([3, 4])\n",
        "A = np.array([[-3, -1], [-1, -2]])\n",
        "b = np.array([-4, -4])\n",
        "\n",
        "# c = np.array([3, 2])\n",
        "# A = np.array([[1, 2], [1, -1]])\n",
        "# b = np.array([4, 1])\n",
        "\n",
        "solution, optimal_value = simplex(c, A, b)\n",
        "print(\"Optimal solution:\", solution)\n",
        "print(\"Optimal value:\", optimal_value)\n"
      ],
      "metadata": {
        "colab": {
          "base_uri": "https://localhost:8080/",
          "height": 356
        },
        "id": "X4CmSr7PRxdj",
        "outputId": "2c68ba35-cc25-426a-bce2-659c604fbfb6"
      },
      "execution_count": 2,
      "outputs": [
        {
          "output_type": "error",
          "ename": "ValueError",
          "evalue": "zero-size array to reduction operation minimum which has no identity",
          "traceback": [
            "\u001b[0;31m---------------------------------------------------------------------------\u001b[0m",
            "\u001b[0;31mValueError\u001b[0m                                Traceback (most recent call last)",
            "\u001b[0;32m<ipython-input-2-5c735952ae0c>\u001b[0m in \u001b[0;36m<cell line: 63>\u001b[0;34m()\u001b[0m\n\u001b[1;32m     61\u001b[0m \u001b[0;31m# b = np.array([4, 1])\u001b[0m\u001b[0;34m\u001b[0m\u001b[0;34m\u001b[0m\u001b[0m\n\u001b[1;32m     62\u001b[0m \u001b[0;34m\u001b[0m\u001b[0m\n\u001b[0;32m---> 63\u001b[0;31m \u001b[0msolution\u001b[0m\u001b[0;34m,\u001b[0m \u001b[0moptimal_value\u001b[0m \u001b[0;34m=\u001b[0m \u001b[0msimplex\u001b[0m\u001b[0;34m(\u001b[0m\u001b[0mc\u001b[0m\u001b[0;34m,\u001b[0m \u001b[0mA\u001b[0m\u001b[0;34m,\u001b[0m \u001b[0mb\u001b[0m\u001b[0;34m)\u001b[0m\u001b[0;34m\u001b[0m\u001b[0;34m\u001b[0m\u001b[0m\n\u001b[0m\u001b[1;32m     64\u001b[0m \u001b[0mprint\u001b[0m\u001b[0;34m(\u001b[0m\u001b[0;34m\"Optimal solution:\"\u001b[0m\u001b[0;34m,\u001b[0m \u001b[0msolution\u001b[0m\u001b[0;34m)\u001b[0m\u001b[0;34m\u001b[0m\u001b[0;34m\u001b[0m\u001b[0m\n\u001b[1;32m     65\u001b[0m \u001b[0mprint\u001b[0m\u001b[0;34m(\u001b[0m\u001b[0;34m\"Optimal value:\"\u001b[0m\u001b[0;34m,\u001b[0m \u001b[0moptimal_value\u001b[0m\u001b[0;34m)\u001b[0m\u001b[0;34m\u001b[0m\u001b[0;34m\u001b[0m\u001b[0m\n",
            "\u001b[0;32m<ipython-input-2-5c735952ae0c>\u001b[0m in \u001b[0;36msimplex\u001b[0;34m(c, A, b)\u001b[0m\n\u001b[1;32m     27\u001b[0m         \u001b[0mratios\u001b[0m \u001b[0;34m=\u001b[0m \u001b[0mnp\u001b[0m\u001b[0;34m.\u001b[0m\u001b[0mdivide\u001b[0m\u001b[0;34m(\u001b[0m\u001b[0mtableau\u001b[0m\u001b[0;34m[\u001b[0m\u001b[0;34m:\u001b[0m\u001b[0;34m-\u001b[0m\u001b[0;36m1\u001b[0m\u001b[0;34m,\u001b[0m \u001b[0;34m-\u001b[0m\u001b[0;36m1\u001b[0m\u001b[0;34m]\u001b[0m\u001b[0;34m,\u001b[0m \u001b[0mtableau\u001b[0m\u001b[0;34m[\u001b[0m\u001b[0;34m:\u001b[0m\u001b[0;34m-\u001b[0m\u001b[0;36m1\u001b[0m\u001b[0;34m,\u001b[0m \u001b[0mpivot_col\u001b[0m\u001b[0;34m]\u001b[0m\u001b[0;34m)\u001b[0m\u001b[0;34m\u001b[0m\u001b[0;34m\u001b[0m\u001b[0m\n\u001b[1;32m     28\u001b[0m         \u001b[0mvalid_ratios\u001b[0m \u001b[0;34m=\u001b[0m \u001b[0mratios\u001b[0m\u001b[0;34m[\u001b[0m\u001b[0mtableau\u001b[0m\u001b[0;34m[\u001b[0m\u001b[0;34m:\u001b[0m\u001b[0;34m-\u001b[0m\u001b[0;36m1\u001b[0m\u001b[0;34m,\u001b[0m \u001b[0mpivot_col\u001b[0m\u001b[0;34m]\u001b[0m \u001b[0;34m>\u001b[0m \u001b[0;36m0\u001b[0m\u001b[0;34m]\u001b[0m\u001b[0;34m\u001b[0m\u001b[0;34m\u001b[0m\u001b[0m\n\u001b[0;32m---> 29\u001b[0;31m         \u001b[0mpivot_row\u001b[0m \u001b[0;34m=\u001b[0m \u001b[0mnp\u001b[0m\u001b[0;34m.\u001b[0m\u001b[0mwhere\u001b[0m\u001b[0;34m(\u001b[0m\u001b[0mratios\u001b[0m \u001b[0;34m==\u001b[0m \u001b[0mvalid_ratios\u001b[0m\u001b[0;34m.\u001b[0m\u001b[0mmin\u001b[0m\u001b[0;34m(\u001b[0m\u001b[0;34m)\u001b[0m\u001b[0;34m)\u001b[0m\u001b[0;34m[\u001b[0m\u001b[0;36m0\u001b[0m\u001b[0;34m]\u001b[0m\u001b[0;34m[\u001b[0m\u001b[0;36m0\u001b[0m\u001b[0;34m]\u001b[0m\u001b[0;34m\u001b[0m\u001b[0;34m\u001b[0m\u001b[0m\n\u001b[0m\u001b[1;32m     30\u001b[0m \u001b[0;34m\u001b[0m\u001b[0m\n\u001b[1;32m     31\u001b[0m         \u001b[0;31m# Pivot element\u001b[0m\u001b[0;34m\u001b[0m\u001b[0;34m\u001b[0m\u001b[0m\n",
            "\u001b[0;32m/usr/local/lib/python3.10/dist-packages/numpy/core/_methods.py\u001b[0m in \u001b[0;36m_amin\u001b[0;34m(a, axis, out, keepdims, initial, where)\u001b[0m\n\u001b[1;32m     43\u001b[0m def _amin(a, axis=None, out=None, keepdims=False,\n\u001b[1;32m     44\u001b[0m           initial=_NoValue, where=True):\n\u001b[0;32m---> 45\u001b[0;31m     \u001b[0;32mreturn\u001b[0m \u001b[0mumr_minimum\u001b[0m\u001b[0;34m(\u001b[0m\u001b[0ma\u001b[0m\u001b[0;34m,\u001b[0m \u001b[0maxis\u001b[0m\u001b[0;34m,\u001b[0m \u001b[0;32mNone\u001b[0m\u001b[0;34m,\u001b[0m \u001b[0mout\u001b[0m\u001b[0;34m,\u001b[0m \u001b[0mkeepdims\u001b[0m\u001b[0;34m,\u001b[0m \u001b[0minitial\u001b[0m\u001b[0;34m,\u001b[0m \u001b[0mwhere\u001b[0m\u001b[0;34m)\u001b[0m\u001b[0;34m\u001b[0m\u001b[0;34m\u001b[0m\u001b[0m\n\u001b[0m\u001b[1;32m     46\u001b[0m \u001b[0;34m\u001b[0m\u001b[0m\n\u001b[1;32m     47\u001b[0m def _sum(a, axis=None, dtype=None, out=None, keepdims=False,\n",
            "\u001b[0;31mValueError\u001b[0m: zero-size array to reduction operation minimum which has no identity"
          ]
        }
      ]
    },
    {
      "cell_type": "code",
      "source": [
        "import numpy as np\n",
        "\n",
        "def simplex(c, A, b):\n",
        "    # Number of variables\n",
        "    n = len(c)\n",
        "    # Number of constraints\n",
        "    m = len(b)\n",
        "\n",
        "    # Create the initial tableau\n",
        "    tableau = np.zeros((m + 1, n + m + 1))\n",
        "\n",
        "    # Fill the tableau with coefficients\n",
        "    tableau[:-1, :-1] = np.hstack((A, np.eye(m)))\n",
        "    tableau[:-1, -1] = b\n",
        "    tableau[-1, :n] = -c\n",
        "\n",
        "    # The main simplex algorithm\n",
        "    while True:\n",
        "        # Check if we have an optimal solution (all entries in the objective row are non-negative)\n",
        "        if np.all(tableau[-1, :-1] >= 0):\n",
        "            break\n",
        "\n",
        "        # Pivot column (most negative entry in the objective row)\n",
        "        pivot_col = np.argmin(tableau[-1, :-1])\n",
        "\n",
        "        # Pivot row\n",
        "        ratios = np.divide(tableau[:-1, -1], tableau[:-1, pivot_col], where=(tableau[:-1, pivot_col] > 0))\n",
        "        valid_ratios = ratios[tableau[:-1, pivot_col] > 0]\n",
        "\n",
        "        # Check if there's no valid ratio which means unbounded\n",
        "        if len(valid_ratios) == 0:\n",
        "            raise ValueError(\"The problem is unbounded.\")\n",
        "\n",
        "        pivot_row = np.where(ratios == valid_ratios.min())[0][0]\n",
        "\n",
        "        # Pivot element\n",
        "        pivot_element = tableau[pivot_row, pivot_col]\n",
        "\n",
        "        # Update the pivot row\n",
        "        tableau[pivot_row] /= pivot_element\n",
        "\n",
        "        # Update the other rows\n",
        "        for i in range(m + 1):\n",
        "            if i != pivot_row:\n",
        "                tableau[i] -= tableau[i, pivot_col] * tableau[pivot_row]\n",
        "\n",
        "    # Extract solution\n",
        "    solution = np.zeros(n)\n",
        "    for i in range(n):\n",
        "        col = tableau[:-1, i]\n",
        "        if np.sum(col == 1) == 1 and np.sum(col == 0) == m - 1:\n",
        "            solution[i] = tableau[np.where(col == 1)[0][0], -1]\n",
        "\n",
        "    # Optimal value\n",
        "    optimal_value = -tableau[-1, -1]\n",
        "\n",
        "    return solution, optimal_value\n",
        "\n",
        "# Example Usage\n",
        "c = np.array([3, 4])\n",
        "A = np.array([[-3, -1], [-1, -2]])\n",
        "b = np.array([-4, -4])\n",
        "\n",
        "try:\n",
        "    solution, optimal_value = simplex(c, A, b)\n",
        "    print(\"Optimal solution:\", solution)\n",
        "    print(\"Optimal value:\", optimal_value)\n",
        "except ValueError as e:\n",
        "    print(e)\n"
      ],
      "metadata": {
        "colab": {
          "base_uri": "https://localhost:8080/"
        },
        "id": "SYBumdGNSa44",
        "outputId": "a7684606-a4ed-491d-fc60-ebf13b5a528d"
      },
      "execution_count": 4,
      "outputs": [
        {
          "output_type": "stream",
          "name": "stdout",
          "text": [
            "The problem is unbounded.\n"
          ]
        }
      ]
    },
    {
      "cell_type": "code",
      "source": [
        "def simplex(c, A, b):\n",
        "    # Number of variables\n",
        "    n = len(c)\n",
        "    # Number of constraints\n",
        "    m = len(b)\n",
        "\n",
        "    # Create the initial tableau\n",
        "    tableau = np.zeros((m + 1, n + 1))\n",
        "\n",
        "    # Fill the tableau with coefficients\n",
        "    tableau[1:, :-1] = A\n",
        "    tableau[1:, -1] = b\n",
        "    tableau[0, :-1] = -c\n",
        "    i = 0\n",
        "    while True:\n",
        "        i+=1\n",
        "        print(i)\n",
        "        if i > 5:\n",
        "            break\n",
        "        # Check if we have an optimal solution (all entries in the objective row are negative)\n",
        "        print(tableau)\n",
        "        if np.all(tableau[0, :-1] <= 0):\n",
        "            break\n",
        "\n",
        "        # Pivot column (most negative entry in the objective row)\n",
        "        pivot_col = np.argmax(tableau[0, :-1])\n",
        "\n",
        "        ############################################\n",
        "        # Pivot row\n",
        "        ratios = np.divide(tableau[1:, -1], tableau[1:, pivot_col], where=(tableau[1:, pivot_col] > 0))\n",
        "        valid_ratios = ratios[tableau[:-1, pivot_col] > 0]\n",
        "\n",
        "        # Check if there's no valid ratio which means unbounded\n",
        "        if len(valid_ratios) == 0:\n",
        "            raise ValueError(\"The problem is unbounded.\")\n",
        "        ################fix#####################\n",
        "        pivot_row = np.where(ratios == valid_ratios.min())[0][0]\n",
        "        print(pivot_row)\n",
        "\n",
        "        # Pivot element\n",
        "        pivot_element = tableau[pivot_row, pivot_col]\n",
        "\n",
        "        # Update the pivot row\n",
        "        tableau[pivot_row] /= pivot_element\n",
        "        break\n",
        "        # Update the other rows\n",
        "        for i in range(m + 1):\n",
        "            if i != pivot_row:\n",
        "                tableau[i] -= tableau[i, pivot_col] * tableau[pivot_row]\n",
        "        #########################################################\n",
        "\n",
        "    return tableau\n"
      ],
      "metadata": {
        "id": "OiHySYdaTE2I"
      },
      "execution_count": 42,
      "outputs": []
    },
    {
      "cell_type": "code",
      "source": [
        "A = np.array([\n",
        "    [1, 1,-1, 2,-1],\n",
        "    [1, 2,-1, 1,-3],\n",
        "    [1, 2, 0, 5, 5]\n",
        "])\n",
        "b = np.array([1,4,2])\n",
        "c = np.array([1,-4, 1, 8,-2])\n",
        "simplex(c, A, b)"
      ],
      "metadata": {
        "colab": {
          "base_uri": "https://localhost:8080/"
        },
        "id": "86F_e2rjdtNf",
        "outputId": "7c71f59d-26fb-492a-ed07-55440763297c"
      },
      "execution_count": 43,
      "outputs": [
        {
          "output_type": "stream",
          "name": "stdout",
          "text": [
            "1\n",
            "[[-1.  4. -1. -8.  2.  0.]\n",
            " [ 1.  1. -1.  2. -1.  1.]\n",
            " [ 1.  2. -1.  1. -3.  4.]\n",
            " [ 1.  2.  0.  5.  5.  2.]]\n",
            "0\n"
          ]
        },
        {
          "output_type": "execute_result",
          "data": {
            "text/plain": [
              "array([[-0.25,  1.  , -0.25, -2.  ,  0.5 ,  0.  ],\n",
              "       [ 1.  ,  1.  , -1.  ,  2.  , -1.  ,  1.  ],\n",
              "       [ 1.  ,  2.  , -1.  ,  1.  , -3.  ,  4.  ],\n",
              "       [ 1.  ,  2.  ,  0.  ,  5.  ,  5.  ,  2.  ]])"
            ]
          },
          "metadata": {},
          "execution_count": 43
        }
      ]
    },
    {
      "cell_type": "code",
      "source": [
        "A = np.array([[-3, -1, 6], [-1, -2, 5], [2, 4, 5]])\n",
        "A[A>0]"
      ],
      "metadata": {
        "colab": {
          "base_uri": "https://localhost:8080/"
        },
        "id": "ZBjHbagNb_K3",
        "outputId": "8e72f446-a60f-4a0f-fbf2-be564f0ffae9"
      },
      "execution_count": 27,
      "outputs": [
        {
          "output_type": "execute_result",
          "data": {
            "text/plain": [
              "array([6, 5, 2, 4, 5])"
            ]
          },
          "metadata": {},
          "execution_count": 27
        }
      ]
    },
    {
      "cell_type": "code",
      "source": [
        "A[0, :-1]"
      ],
      "metadata": {
        "colab": {
          "base_uri": "https://localhost:8080/"
        },
        "id": "KVTCaJjAcGhW",
        "outputId": "84203438-5a5e-405e-9a53-68f8a2c9c491"
      },
      "execution_count": 18,
      "outputs": [
        {
          "output_type": "execute_result",
          "data": {
            "text/plain": [
              "array([-3, -1])"
            ]
          },
          "metadata": {},
          "execution_count": 18
        }
      ]
    },
    {
      "cell_type": "code",
      "source": [],
      "metadata": {
        "id": "DbGQrvgDcKv7"
      },
      "execution_count": null,
      "outputs": []
    }
  ]
}