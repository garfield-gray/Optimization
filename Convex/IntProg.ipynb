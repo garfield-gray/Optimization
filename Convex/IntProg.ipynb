{
  "nbformat": 4,
  "nbformat_minor": 0,
  "metadata": {
    "colab": {
      "provenance": [],
      "authorship_tag": "ABX9TyNKymqNcSa2+w1FpSqAINFz",
      "include_colab_link": true
    },
    "kernelspec": {
      "name": "python3",
      "display_name": "Python 3"
    },
    "language_info": {
      "name": "python"
    }
  },
  "cells": [
    {
      "cell_type": "markdown",
      "metadata": {
        "id": "view-in-github",
        "colab_type": "text"
      },
      "source": [
        "<a href=\"https://colab.research.google.com/github/garfield-gray/Optimization/blob/main/Convex/IntProg.ipynb\" target=\"_parent\"><img src=\"https://colab.research.google.com/assets/colab-badge.svg\" alt=\"Open In Colab\"/></a>"
      ]
    },
    {
      "cell_type": "markdown",
      "source": [
        "# IntProg"
      ],
      "metadata": {
        "id": "EgChmwXcHGCm"
      }
    },
    {
      "cell_type": "code",
      "execution_count": 22,
      "metadata": {
        "id": "v5W2GFHu-6Eu"
      },
      "outputs": [],
      "source": [
        "from scipy.optimize import LinearConstraint, milp\n",
        "import numpy as np"
      ]
    },
    {
      "cell_type": "code",
      "source": [
        "c = np.array([3, 4])\n",
        "A = np.array([[-3, -1], [-1, -2]])\n",
        "b_u = np.array([-4, -4])\n",
        "b_l = np.full_like(b_u, -np.inf, dtype=float)\n",
        "# b_l = np.full_like(b_u, 0, dtype=float)"
      ],
      "metadata": {
        "id": "gybtJcSpD-yd"
      },
      "execution_count": 23,
      "outputs": []
    },
    {
      "cell_type": "code",
      "source": [
        "constraints = LinearConstraint(A, b_l, b_u)"
      ],
      "metadata": {
        "id": "vPO4hmASHA6r"
      },
      "execution_count": 24,
      "outputs": []
    },
    {
      "cell_type": "code",
      "source": [
        "integrality = np.ones_like(c)\n",
        "res = milp(c=c, constraints=constraints, integrality=integrality)\n",
        "res.x"
      ],
      "metadata": {
        "colab": {
          "base_uri": "https://localhost:8080/"
        },
        "id": "SJQVStOfHBPu",
        "outputId": "3d59c831-930f-4cd3-810b-e99d17cad76d"
      },
      "execution_count": 25,
      "outputs": [
        {
          "output_type": "execute_result",
          "data": {
            "text/plain": [
              "array([2., 1.])"
            ]
          },
          "metadata": {},
          "execution_count": 25
        }
      ]
    },
    {
      "cell_type": "code",
      "source": [
        "res = milp(c=c, constraints=constraints)  # OR:\n",
        "# from scipy.optimize import linprog; res = linprog(c, A, b_u)\n",
        "res.x"
      ],
      "metadata": {
        "colab": {
          "base_uri": "https://localhost:8080/"
        },
        "id": "8sfpu3moHBby",
        "outputId": "10827a56-1eaf-46f9-ccf1-39c67ed3ee79"
      },
      "execution_count": 26,
      "outputs": [
        {
          "output_type": "execute_result",
          "data": {
            "text/plain": [
              "array([0.8, 1.6])"
            ]
          },
          "metadata": {},
          "execution_count": 26
        }
      ]
    },
    {
      "cell_type": "code",
      "source": [],
      "metadata": {
        "id": "W2sNtAb1HMh3"
      },
      "execution_count": 26,
      "outputs": []
    },
    {
      "cell_type": "markdown",
      "source": [
        "# Linprog"
      ],
      "metadata": {
        "id": "n0P-X8wpHNV4"
      }
    },
    {
      "cell_type": "code",
      "source": [
        "from scipy.optimize import linprog\n",
        "c = [3, 4]\n",
        "A = [[-3, -1], [-1, -2]]\n",
        "b = [-4, -4]\n",
        "x0_bounds = (0, None)\n",
        "x1_bounds = (0, None)\n",
        "res = linprog(c, A_ub=A, b_ub=b, bounds=[x0_bounds, x1_bounds])\n",
        "res.fun\n"
      ],
      "metadata": {
        "colab": {
          "base_uri": "https://localhost:8080/"
        },
        "id": "adYTrMv3FrO-",
        "outputId": "827ad5a3-4c63-4874-931f-7cd915efdbae"
      },
      "execution_count": 27,
      "outputs": [
        {
          "output_type": "execute_result",
          "data": {
            "text/plain": [
              "8.8"
            ]
          },
          "metadata": {},
          "execution_count": 27
        }
      ]
    },
    {
      "cell_type": "code",
      "source": [
        "res.x"
      ],
      "metadata": {
        "colab": {
          "base_uri": "https://localhost:8080/"
        },
        "id": "meUyrjwBGNwU",
        "outputId": "454938b4-8308-4886-bf9d-f5b333114643"
      },
      "execution_count": 28,
      "outputs": [
        {
          "output_type": "execute_result",
          "data": {
            "text/plain": [
              "array([0.8, 1.6])"
            ]
          },
          "metadata": {},
          "execution_count": 28
        }
      ]
    },
    {
      "cell_type": "code",
      "source": [
        "res.message"
      ],
      "metadata": {
        "colab": {
          "base_uri": "https://localhost:8080/",
          "height": 35
        },
        "id": "3zpqfDOQGRQd",
        "outputId": "893cb79b-5e93-4363-8be4-2364dd84ab8d"
      },
      "execution_count": 29,
      "outputs": [
        {
          "output_type": "execute_result",
          "data": {
            "text/plain": [
              "'Optimization terminated successfully. (HiGHS Status 7: Optimal)'"
            ],
            "application/vnd.google.colaboratory.intrinsic+json": {
              "type": "string"
            }
          },
          "metadata": {},
          "execution_count": 29
        }
      ]
    },
    {
      "cell_type": "code",
      "source": [],
      "metadata": {
        "id": "EePWfztcGVJE"
      },
      "execution_count": 29,
      "outputs": []
    },
    {
      "cell_type": "markdown",
      "source": [
        "# The Algorithm"
      ],
      "metadata": {
        "id": "9w7Bt2szRvUy"
      }
    },
    {
      "cell_type": "code",
      "source": [
        "import numpy as np\n",
        "\n",
        "def simplex(c, A, b):\n",
        "    # Number of variables\n",
        "    n = len(c)\n",
        "    # Number of constraints\n",
        "    m = len(b)\n",
        "\n",
        "    # Create the initial tableau\n",
        "    tableau = np.zeros((m + 1, n + m + 1))\n",
        "\n",
        "    # Fill the tableau with coefficients\n",
        "    tableau[:-1, :-1] = np.hstack((A, np.eye(m)))\n",
        "    tableau[:-1, -1] = b\n",
        "    tableau[-1, :n] = -c\n",
        "\n",
        "    # The main simplex algorithm\n",
        "    while True:\n",
        "        # Check if we have an optimal solution (all entries in the objective row are non-negative)\n",
        "        if np.all(tableau[-1, :-1] >= 0):\n",
        "            break\n",
        "\n",
        "        # Pivot column (most negative entry in the objective row)\n",
        "        pivot_col = np.argmin(tableau[-1, :-1])\n",
        "\n",
        "        # Pivot row\n",
        "        ratios = np.divide(tableau[:-1, -1], tableau[:-1, pivot_col])\n",
        "        valid_ratios = ratios[tableau[:-1, pivot_col] > 0]\n",
        "        pivot_row = np.where(ratios == valid_ratios.min())[0][0]\n",
        "\n",
        "        # Pivot element\n",
        "        pivot_element = tableau[pivot_row, pivot_col]\n",
        "\n",
        "        # Update the pivot row\n",
        "        tableau[pivot_row] /= pivot_element\n",
        "\n",
        "        # Update the other rows\n",
        "        for i in range(m + 1):\n",
        "            if i != pivot_row:\n",
        "                tableau[i] -= tableau[i, pivot_col] * tableau[pivot_row]\n",
        "\n",
        "    # Extract solution\n",
        "    solution = np.zeros(n)\n",
        "    for i in range(n):\n",
        "        col = tableau[:-1, i]\n",
        "        if np.sum(col == 1) == 1 and np.sum(col == 0) == m - 1:\n",
        "            solution[i] = tableau[np.where(col == 1)[0][0], -1]\n",
        "\n",
        "    # Optimal value\n",
        "    optimal_value = -tableau[-1, -1]\n",
        "\n",
        "    return solution, optimal_value\n",
        "\n",
        "# # Example Usage\n",
        "# c = np.array([3, 4])\n",
        "# A = np.array([[-3, -1], [-1, -2]])\n",
        "# b = np.array([-4, -4])\n",
        "\n",
        "c = np.array([3, 2])\n",
        "A = np.array([[1, 2], [1, -1]])\n",
        "b = np.array([4, 1])\n",
        "\n",
        "solution, optimal_value = simplex(c, A, b)\n",
        "print(\"Optimal solution:\", solution)\n",
        "print(\"Optimal value:\", optimal_value)\n"
      ],
      "metadata": {
        "colab": {
          "base_uri": "https://localhost:8080/"
        },
        "id": "X4CmSr7PRxdj",
        "outputId": "b282729c-71c5-407b-f2f8-401513c42b26"
      },
      "execution_count": 30,
      "outputs": [
        {
          "output_type": "stream",
          "name": "stdout",
          "text": [
            "Optimal solution: [2. 1.]\n",
            "Optimal value: -8.0\n"
          ]
        }
      ]
    },
    {
      "cell_type": "code",
      "source": [
        "import numpy as np\n",
        "\n",
        "def simplex(c, A, b):\n",
        "    # Number of variables\n",
        "    n = len(c)\n",
        "    # Number of constraints\n",
        "    m = len(b)\n",
        "\n",
        "    # Create the initial tableau\n",
        "    tableau = np.zeros((m + 1, n + m + 1))\n",
        "\n",
        "    # Fill the tableau with coefficients\n",
        "    tableau[:-1, :-1] = np.hstack((A, np.eye(m)))\n",
        "    tableau[:-1, -1] = b\n",
        "    tableau[-1, :n] = -c\n",
        "\n",
        "    # The main simplex algorithm\n",
        "    while True:\n",
        "        # Check if we have an optimal solution (all entries in the objective row are non-negative)\n",
        "        if np.all(tableau[-1, :-1] >= 0):\n",
        "            break\n",
        "\n",
        "        # Pivot column (most negative entry in the objective row)\n",
        "        pivot_col = np.argmin(tableau[-1, :-1])\n",
        "\n",
        "        # Pivot row\n",
        "        ratios = np.divide(tableau[:-1, -1], tableau[:-1, pivot_col], where=(tableau[:-1, pivot_col] > 0))\n",
        "        valid_ratios = ratios[tableau[:-1, pivot_col] > 0]\n",
        "\n",
        "        # Check if there's no valid ratio which means unbounded\n",
        "        if len(valid_ratios) == 0:\n",
        "            raise ValueError(\"The problem is unbounded.\")\n",
        "\n",
        "        pivot_row = np.where(ratios == valid_ratios.min())[0][0]\n",
        "\n",
        "        # Pivot element\n",
        "        pivot_element = tableau[pivot_row, pivot_col]\n",
        "\n",
        "        # Update the pivot row\n",
        "        tableau[pivot_row] /= pivot_element\n",
        "\n",
        "        # Update the other rows\n",
        "        for i in range(m + 1):\n",
        "            if i != pivot_row:\n",
        "                tableau[i] -= tableau[i, pivot_col] * tableau[pivot_row]\n",
        "\n",
        "    # Extract solution\n",
        "    solution = np.zeros(n)\n",
        "    for i in range(n):\n",
        "        col = tableau[:-1, i]\n",
        "        if np.sum(col == 1) == 1 and np.sum(col == 0) == m - 1:\n",
        "            solution[i] = tableau[np.where(col == 1)[0][0], -1]\n",
        "\n",
        "    # Optimal value\n",
        "    optimal_value = -tableau[-1, -1]\n",
        "\n",
        "    return solution, optimal_value\n",
        "\n",
        "# Example Usage\n",
        "c = np.array([3, 4])\n",
        "A = np.array([[-3, -1], [-1, -2]])\n",
        "b = np.array([-4, -4])\n",
        "\n",
        "try:\n",
        "    solution, optimal_value = simplex(c, A, b)\n",
        "    print(\"Optimal solution:\", solution)\n",
        "    print(\"Optimal value:\", optimal_value)\n",
        "except ValueError as e:\n",
        "    print(e)\n"
      ],
      "metadata": {
        "colab": {
          "base_uri": "https://localhost:8080/"
        },
        "id": "SYBumdGNSa44",
        "outputId": "67cc818d-3eb4-4c8f-a072-0733176399e8"
      },
      "execution_count": 31,
      "outputs": [
        {
          "output_type": "stream",
          "name": "stdout",
          "text": [
            "The problem is unbounded.\n"
          ]
        }
      ]
    },
    {
      "cell_type": "code",
      "source": [
        "def simplex(c, A, b):\n",
        "    # Number of variables\n",
        "    n = len(c)\n",
        "    # Number of constraints\n",
        "    m = len(b)\n",
        "\n",
        "    # Create the initial tableau\n",
        "    tableau = np.zeros((m + 1, n + 1))\n",
        "\n",
        "    # Fill the tableau with coefficients\n",
        "    tableau[1:, :-1] = A\n",
        "    tableau[1:, -1] = b\n",
        "    tableau[0, :-1] = -c\n",
        "\n",
        "    while True:\n",
        "        # Check if we have an optimal solution (all entries in the objective row are negative)\n",
        "\n",
        "        if np.all(tableau[0, :-1] <= 0):\n",
        "            break\n",
        "        # Pivot column (most negative entry in the objective row)\n",
        "        pivot_col = np.argmax(tableau[0, :-1])\n",
        "\n",
        "\n",
        "\n",
        "        # Pivot row\n",
        "        ratios = np.divide(tableau[1:, -1], tableau[1:, pivot_col])\n",
        "\n",
        "        valid_ratios = ratios[tableau[1:, pivot_col] > 0]\n",
        "\n",
        "        # Check if there's no valid ratio which means unbounded\n",
        "        if len(valid_ratios) == 0:\n",
        "            raise ValueError(\"The problem is unbounded.\")\n",
        "\n",
        "\n",
        "        ########could be written better################\n",
        "        pivot_row = np.where(ratios == valid_ratios.min())[0][0] +1\n",
        "\n",
        "        # Pivot element\n",
        "        pivot_element = tableau[pivot_row, pivot_col]\n",
        "\n",
        "        # Update the pivot row\n",
        "        tableau[pivot_row] /= pivot_element\n",
        "        # Update the other rows\n",
        "        for i in range(m + 1):\n",
        "            if i != pivot_row:\n",
        "                tableau[i] -= tableau[i, pivot_col] * tableau[pivot_row]\n",
        "        print(np.round(tableau, 4))\n",
        "    return tableau\n"
      ],
      "metadata": {
        "id": "OiHySYdaTE2I"
      },
      "execution_count": 61,
      "outputs": []
    },
    {
      "cell_type": "code",
      "source": [
        "A = np.array([\n",
        "    [-1, 1, 1, 0, 0],\n",
        "    [-1, 4, 0, 1, 0],\n",
        "    [ 3, 1, 0, 0, 1]\n",
        "])\n",
        "b = np.array([1, 7,18])\n",
        "c = np.array([1, -4, 0, 0, 0])\n",
        "np.round(simplex(c, A, b), 4)"
      ],
      "metadata": {
        "colab": {
          "base_uri": "https://localhost:8080/"
        },
        "id": "86F_e2rjdtNf",
        "outputId": "c922e695-5195-4ce4-f191-1598d4b0bb63"
      },
      "execution_count": 62,
      "outputs": [
        {
          "output_type": "stream",
          "name": "stdout",
          "text": [
            "[[ 3.  0. -4.  0.  0. -4.]\n",
            " [-1.  1.  1.  0.  0.  1.]\n",
            " [ 3.  0. -4.  1.  0.  3.]\n",
            " [ 4.  0. -1.  0.  1. 17.]]\n",
            "[[ 0.      0.      0.     -1.      0.     -7.    ]\n",
            " [ 0.      1.     -0.3333  0.3333  0.      2.    ]\n",
            " [ 1.      0.     -1.3333  0.3333  0.      1.    ]\n",
            " [ 0.      0.      4.3333 -1.3333  1.     13.    ]]\n"
          ]
        },
        {
          "output_type": "execute_result",
          "data": {
            "text/plain": [
              "array([[ 0.    ,  0.    ,  0.    , -1.    ,  0.    , -7.    ],\n",
              "       [ 0.    ,  1.    , -0.3333,  0.3333,  0.    ,  2.    ],\n",
              "       [ 1.    ,  0.    , -1.3333,  0.3333,  0.    ,  1.    ],\n",
              "       [ 0.    ,  0.    ,  4.3333, -1.3333,  1.    , 13.    ]])"
            ]
          },
          "metadata": {},
          "execution_count": 62
        }
      ]
    },
    {
      "cell_type": "code",
      "source": [
        "A = np.array([[-3, -1, 6], [-1, -2, 5], [2, 4, 5]])\n",
        "A[A>0]"
      ],
      "metadata": {
        "colab": {
          "base_uri": "https://localhost:8080/"
        },
        "id": "ZBjHbagNb_K3",
        "outputId": "8e72f446-a60f-4a0f-fbf2-be564f0ffae9"
      },
      "execution_count": null,
      "outputs": [
        {
          "output_type": "execute_result",
          "data": {
            "text/plain": [
              "array([6, 5, 2, 4, 5])"
            ]
          },
          "metadata": {},
          "execution_count": 27
        }
      ]
    },
    {
      "cell_type": "code",
      "source": [
        "A[0, :-1]"
      ],
      "metadata": {
        "colab": {
          "base_uri": "https://localhost:8080/"
        },
        "id": "KVTCaJjAcGhW",
        "outputId": "84203438-5a5e-405e-9a53-68f8a2c9c491"
      },
      "execution_count": null,
      "outputs": [
        {
          "output_type": "execute_result",
          "data": {
            "text/plain": [
              "array([-3, -1])"
            ]
          },
          "metadata": {},
          "execution_count": 18
        }
      ]
    },
    {
      "cell_type": "code",
      "source": [],
      "metadata": {
        "id": "DbGQrvgDcKv7"
      },
      "execution_count": null,
      "outputs": []
    }
  ]
}