{
  "cells": [
    {
      "cell_type": "markdown",
      "metadata": {
        "id": "view-in-github",
        "colab_type": "text"
      },
      "source": [
        "<a href=\"https://colab.research.google.com/github/garfield-gray/Optimization/blob/main/Convex/IntProg.ipynb\" target=\"_parent\"><img src=\"https://colab.research.google.com/assets/colab-badge.svg\" alt=\"Open In Colab\"/></a>"
      ]
    },
    {
      "cell_type": "markdown",
      "source": [
        "# The class"
      ],
      "metadata": {
        "id": "f9nYTYCPNC_d"
      }
    },
    {
      "cell_type": "code",
      "source": [
        "import numpy as np"
      ],
      "metadata": {
        "id": "wNG04JyBW9c5"
      },
      "execution_count": 9,
      "outputs": []
    },
    {
      "cell_type": "code",
      "source": [
        "# you may wanna do more tests\n",
        "# you could manuplate the pivot, standardize , ... to make it more memory efficient!\n",
        "# could be refactored! maybe!!"
      ],
      "metadata": {
        "id": "drkB5kls3W96"
      },
      "execution_count": null,
      "outputs": []
    },
    {
      "cell_type": "code",
      "source": [
        "import numpy as np\n",
        "\n",
        "class IntProg:\n",
        "    def __init__(self, c, A, b):\n",
        "        self.c = c\n",
        "        self.A = A\n",
        "        self.b = b\n",
        "        self.n = len(c)\n",
        "        self.m = len(b)\n",
        "        self.tableau = np.zeros((self.m + 1, self.n + 2))\n",
        "        self.basic_variables = np.zeros_like(b)\n",
        "        self.solution = np.zeros_like(b)\n",
        "        self.verbose = False\n",
        "        self.answer = None\n",
        "        self.message = None\n",
        "        self.error = None\n",
        "\n",
        "    def solve(self, intify = True, verbose = False):\n",
        "        self.verbose = verbose\n",
        "        if intify:\n",
        "            self.tableau = self.__integer_simplex()\n",
        "        else:\n",
        "            self.tableau = self.__simplex()\n",
        "        self.solution = self.tableau[1:self.m+1, -1]\n",
        "        self.basic_variables = self.tableau[1:, 0]\n",
        "        self.answer = self.tableau[0, -1]\n",
        "\n",
        "\n",
        "    def __pivot(self, tableau, row, col):\n",
        "        \"\"\" Pivots \"\"\"\n",
        "        basics = tableau[1:, 0].copy()\n",
        "        tableau = tableau.astype(float)\n",
        "\n",
        "        pivot_element = tableau[row, col]\n",
        "        tableau[row] /= pivot_element\n",
        "        for i in range(tableau.shape[0]):\n",
        "            if i != row:\n",
        "                tableau[i] -= tableau[i, col] * tableau[row]\n",
        "                tableau[i, 0] = tableau[row, 0]\n",
        "        basics[row-1] = col-1\n",
        "        tableau[1:, 0] = basics\n",
        "        tableau[0, 0] = 1\n",
        "        return tableau\n",
        "\n",
        "    def __standardize(self, tableau):\n",
        "        \"\"\" __standardize (the basic variables must have 0 coeficient in the 0th row huh?) \"\"\"\n",
        "        m, n = tableau.shape\n",
        "        m -= 1\n",
        "        n -= 2\n",
        "\n",
        "        for i in range(m):\n",
        "            tableau[0] -= tableau[0, int(tableau[i+1, 0] + 1)] * tableau[i+1]\n",
        "\n",
        "        tableau[0, 0] = 1\n",
        "        return tableau\n",
        "\n",
        "\n",
        "    def __core_simplex(self, tableau):\n",
        "        \"\"\" Core Simplex: findes what to pivot and does it:) \"\"\"\n",
        "        basics = tableau[1:, 0].copy()\n",
        "        m, n = tableau.shape\n",
        "        m -= 1\n",
        "        n -= 2\n",
        "\n",
        "        while True:\n",
        "            if np.all(tableau[0, 1:-1] <= 0):\n",
        "                break\n",
        "            pivot_col = np.argmax(tableau[0, 1:-1]) + 1\n",
        "            ratios = np.divide(tableau[1:, -1], tableau[1:, pivot_col])\n",
        "\n",
        "            valid_ratios = ratios[tableau[1:, pivot_col] > 0]\n",
        "            if len(valid_ratios) == 0:\n",
        "                raise ValueError(\"The problem is unbounded.\")\n",
        "            pivot_row = np.where(ratios == valid_ratios.min())[0][0] + 1\n",
        "            tableau = self.__pivot(tableau, pivot_row, pivot_col)\n",
        "            basics = tableau[1:, 0]\n",
        "\n",
        "        tableau[1:, 0] = basics\n",
        "        tableau[0, 0] = 1\n",
        "        return tableau\n",
        "\n",
        "    def __phase1(self, tableau):\n",
        "        \"\"\"\n",
        "        Takes the tableau with no feasible solution and outputs with BFS (not standardized).\n",
        "        \"\"\"\n",
        "        # Copy basic variables from the tableau\n",
        "        basics = tableau[1:, 0].copy()\n",
        "\n",
        "        # Determine the dimensions of the tableau\n",
        "        m, n = tableau.shape\n",
        "        m -= 1  # Number of constraints\n",
        "        n -= 2  # Number of variables\n",
        "\n",
        "        # Extract the right-hand side (b vector)\n",
        "        b = tableau[1:, -1]\n",
        "\n",
        "        # Create the transformation matrix P\n",
        "        p = np.eye(m + 1)\n",
        "        p[np.where(b < 0) + np.ones_like(np.where(b < 0))] *= -1\n",
        "\n",
        "        # Transform the tableau using P\n",
        "        Rtableau = p @ tableau\n",
        "\n",
        "        # Insert additional columns for artificial variables and constraints\n",
        "        Rtableau = np.insert(Rtableau, -1, np.vstack((-np.ones(m), np.eye(m))).T, axis=1)\n",
        "        Rtableau[0, 0] = 1\n",
        "        Rtableau[0, -1] = 0\n",
        "\n",
        "        # Fix the basic variables and adjust the objective row\n",
        "        Rtableau[1:, 0] = np.arange(n, n + m)\n",
        "        Rtableau[0, 1:n + 1] = np.zeros(n)\n",
        "\n",
        "        # __standardize the tableau\n",
        "        Rtableau = self.__standardize(Rtableau)\n",
        "\n",
        "        # Perform the core simplex algorithm\n",
        "        Rtableau = self.__core_simplex(Rtableau)\n",
        "\n",
        "        # Check if the problem is unbounded\n",
        "        if not np.isclose(Rtableau[0, -1], 0):\n",
        "            raise ValueError(\"The problem is unbounded.\")\n",
        "\n",
        "        # Check if all variables in the base aren't artificial\n",
        "        if np.all(Rtableau[1:, 0] < n):\n",
        "            return np.delete(Rtableau, np.s_[n + 1:n + m + 1], axis=1)\n",
        "\n",
        "        # exception 1 (in case the the problem is feasible but the artificial variables are still in the base)\n",
        "        # Artificials in the base:\n",
        "        RinBs = np.where(Rtableau[1:, 0] >= n)[0]+1\n",
        "        for i in RinBs:\n",
        "            # cc is the column to be pivoted\n",
        "            cc = np.where(~np.isclose(Rtableau[i, 1:-1], 0))[0][0]\n",
        "            # it would be exception 2 (haven't been tested)\n",
        "            if cc >=n :\n",
        "                Rtableau = np.delete(Rtableau, np.s_[i], axis=0)\n",
        "            Rtableau = Pivot(Rtableau, i, cc+1)\n",
        "            # print(np.round(Rtableau, 2))\n",
        "\n",
        "\n",
        "        return np.delete(Rtableau, np.s_[n + 1:n + m + 1], axis=1)\n",
        "\n",
        "\n",
        "    def __simplex(self):\n",
        "\n",
        "        # creation of bfs (Basic feasible solution through Artificial variables)\n",
        "\n",
        "        self.tableau[1:, 1:-1] = self.A\n",
        "        self.tableau[1:, -1] = self.b\n",
        "        self.tableau = self.__phase1(self.tableau)\n",
        "        self.tableau[0, 1:-1] = -self.c\n",
        "        self.tableau = self.__standardize(self.tableau)\n",
        "        self.tableau = self.__core_simplex(self.tableau)\n",
        "\n",
        "        return self.tableau\n",
        "\n",
        "    def __integer_simplex(self):\n",
        "        n = self.n\n",
        "        m = self.m\n",
        "        # Initialize the simplex tableau\n",
        "        # (this tableu gets augmented over time and is different with the original tableau )\n",
        "        self.tableau = self.__simplex()\n",
        "        while True:\n",
        "            # Check if we have an optimal solution (all entries in the objective row are negative)\n",
        "            if np.allclose(np.round(self.tableau[1:, -1]), self.tableau[1:, -1], atol=1e-6):\n",
        "                break\n",
        "\n",
        "            # Find the index of the first fractional variable in the solution\n",
        "            frac_index = (np.where(np.modf(self.tableau[1:, -1])[0] != 0)[0] + 1)[0]\n",
        "            gomory_cut = -(self.tableau[frac_index] - np.floor(self.tableau[frac_index]))\n",
        "\n",
        "            # Apply the Gomory cut\n",
        "            if self.verbose:\n",
        "                print(f\"Applying Gomory cut: {np.round(gomory_cut, 2)}\")\n",
        "            self.tableau = np.vstack((self.tableau, gomory_cut))\n",
        "\n",
        "            # Add a new variable to the tableau\n",
        "            newVar = np.zeros(self.tableau.shape[0])\n",
        "            newVar[-1] = 1\n",
        "            self.tableau = np.insert(self.tableau, -1, newVar, axis=1)\n",
        "\n",
        "\n",
        "            # Print the updated tableau\n",
        "            if self.verbose:\n",
        "                print(np.round(self.tableau, 2))\n",
        "\n",
        "            # Perform phase 1 of the simplex method\n",
        "            self.tableau = self.__phase1(self.tableau)\n",
        "\n",
        "            # Reset the objective row\n",
        "            self.tableau[0] = 0\n",
        "            self.tableau[0, 1:1 + n] = -c\n",
        "\n",
        "            # __standardize the tableau\n",
        "            self.tableau = self.__standardize(self.tableau)\n",
        "\n",
        "            # Perform the core simplex algorithm\n",
        "            self.tableau = self.__core_simplex(self.tableau)\n",
        "\n",
        "        return self.tableau\n",
        "\n",
        "    def print_tableau(self):\n",
        "        pass"
      ],
      "metadata": {
        "id": "qsong166NIg8"
      },
      "execution_count": 68,
      "outputs": []
    },
    {
      "cell_type": "code",
      "source": [
        "A = np.array([\n",
        "    [3, 1,-1, 0],\n",
        "    [1, 2, 0,-1],\n",
        "\n",
        "])\n",
        "b = np.array([4, 4])\n",
        "c = np.array([3, 4, 0, 0])\n",
        "\n",
        "sample = IntProg(c, A, b)\n",
        "sample.solve(verbose=True)"
      ],
      "metadata": {
        "colab": {
          "base_uri": "https://localhost:8080/"
        },
        "id": "yHC8OEw4Qd5q",
        "outputId": "737178da-4a41-4cd8-d519-2f96934fb63a"
      },
      "execution_count": 71,
      "outputs": [
        {
          "output_type": "stream",
          "name": "stdout",
          "text": [
            "Applying Gomory cut: [-0.  -0.  -0.  -0.6 -0.2 -0.8]\n",
            "[[ 1.   0.   0.  -0.4 -1.8  0.   8.8]\n",
            " [ 0.   1.   0.  -0.4  0.2  0.   0.8]\n",
            " [ 1.   0.   1.   0.2 -0.6  0.   1.6]\n",
            " [-0.  -0.  -0.  -0.6 -0.2  1.  -0.8]]\n",
            "Applying Gomory cut: [-0.   -0.   -0.   -0.   -0.33 -0.33 -0.33]\n",
            "[[ 1.    0.    0.    0.   -1.67 -0.67  0.    9.33]\n",
            " [ 0.    1.    0.    0.    0.33 -0.67  0.    1.33]\n",
            " [ 1.    0.    1.    0.   -0.67  0.33  0.    1.33]\n",
            " [ 2.    0.    0.    1.    0.33 -1.67  0.    1.33]\n",
            " [-0.   -0.   -0.   -0.   -0.33 -0.33  1.   -0.33]]\n"
          ]
        },
        {
          "output_type": "stream",
          "name": "stderr",
          "text": [
            "<ipython-input-68-8d309c82e42a>:69: RuntimeWarning: divide by zero encountered in divide\n",
            "  ratios = np.divide(tableau[1:, -1], tableau[1:, pivot_col])\n"
          ]
        }
      ]
    },
    {
      "cell_type": "code",
      "source": [
        "sample.solution"
      ],
      "metadata": {
        "colab": {
          "base_uri": "https://localhost:8080/"
        },
        "id": "LMBfbLk2041r",
        "outputId": "0a0b975c-d00e-4379-ffe4-b09ec52a2272"
      },
      "execution_count": 70,
      "outputs": [
        {
          "output_type": "execute_result",
          "data": {
            "text/plain": [
              "array([2., 1.])"
            ]
          },
          "metadata": {},
          "execution_count": 70
        }
      ]
    },
    {
      "cell_type": "code",
      "source": [],
      "metadata": {
        "id": "EY5qrh5vOgen"
      },
      "execution_count": 13,
      "outputs": []
    },
    {
      "cell_type": "markdown",
      "metadata": {
        "id": "rjK999_BQjt6"
      },
      "source": [
        "# Requirements"
      ]
    },
    {
      "cell_type": "code",
      "execution_count": 14,
      "metadata": {
        "id": "v5W2GFHu-6Eu"
      },
      "outputs": [],
      "source": [
        "from scipy.optimize import LinearConstraint, milp\n",
        "import numpy as np\n",
        "from scipy.optimize import linprog\n",
        "import matplotlib.pyplot as plt\n"
      ]
    },
    {
      "cell_type": "code",
      "execution_count": 15,
      "metadata": {
        "id": "2XPm4hX0ce2W"
      },
      "outputs": [],
      "source": [
        "# # Pivot\n",
        "# \"\"\"\n",
        "#     Perform pivot operation on the tableau at the specified row and column.\n",
        "\n",
        "#     Parameters:\n",
        "#     tableau (ndarray): The current tableau.\n",
        "#     row (int): The row index of the pivot element.\n",
        "#     col (int): The column index of the pivot element.\n",
        "\n",
        "#     Returns:\n",
        "#     ndarray: The updated tableau after pivoting.\n",
        "#     \"\"\"\n",
        "# # Standardize\n",
        "# \"\"\"\n",
        "#     Standardize the tableau to prepare it for the simplex algorithm.\n",
        "\n",
        "#     Parameters:\n",
        "#     tableau (ndarray): The current tableau.\n",
        "\n",
        "#     Returns:\n",
        "#     ndarray: The standardized tableau.\n",
        "#     \"\"\"\n",
        "# # CoreSimplex\n",
        "#   \"\"\"\n",
        "#     Execute the core simplex algorithm on the tableau.\n",
        "\n",
        "#     Parameters:\n",
        "#     tableau (ndarray): The standardized tableau with a basic feasible solution.\n",
        "\n",
        "#     Returns:\n",
        "#     ndarray: The tableau after performing the simplex algorithm.\n",
        "#     \"\"\"\n",
        "\n",
        "# # phase 1 (handle the exceptions!!)\n",
        "# \"\"\"\n",
        "#     Perform Phase 1 of the simplex method to find a basic feasible solution.\n",
        "\n",
        "#     Parameters:\n",
        "#     tableau (ndarray): The initial tableau without a feasible solution.\n",
        "\n",
        "#     Returns:\n",
        "#     ndarray: The tableau with a basic feasible solution.\n",
        "#     \"\"\"\n",
        "\n",
        "# # simplex\n",
        "#  \"\"\"\n",
        "#     Perform the simplex algorithm on the given linear programming problem.\n",
        "\n",
        "#     Parameters:\n",
        "#     c (ndarray): The coefficients of the objective function.\n",
        "#     A (ndarray): The constraint coefficients.\n",
        "#     b (ndarray): The right-hand side values of the constraints.\n",
        "\n",
        "#     Returns:\n",
        "#     ndarray: The final tableau after performing the simplex algorithm.\n",
        "#     \"\"\"\n",
        "# # integer_simplex"
      ]
    },
    {
      "cell_type": "markdown",
      "metadata": {
        "id": "EgChmwXcHGCm"
      },
      "source": [
        "# Integer Programming\n",
        "Checking the integer solution using scipy intprog module"
      ]
    },
    {
      "cell_type": "code",
      "execution_count": 16,
      "metadata": {
        "id": "gybtJcSpD-yd"
      },
      "outputs": [],
      "source": [
        "c = np.array([3, 4])\n",
        "A = np.array([[-3, -1], [-1, -2]])\n",
        "b_u = np.array([-4, -4])\n",
        "b_l = np.full_like(b_u, -np.inf, dtype=float)\n",
        "# b_l = np.full_like(b_u, 0, dtype=float)"
      ]
    },
    {
      "cell_type": "code",
      "execution_count": 17,
      "metadata": {
        "id": "vPO4hmASHA6r"
      },
      "outputs": [],
      "source": [
        "constraints = LinearConstraint(A, b_l, b_u)"
      ]
    },
    {
      "cell_type": "code",
      "execution_count": 18,
      "metadata": {
        "id": "SJQVStOfHBPu",
        "colab": {
          "base_uri": "https://localhost:8080/"
        },
        "outputId": "196d379b-1231-46f7-f4c8-59b4cbda4dc2"
      },
      "outputs": [
        {
          "output_type": "execute_result",
          "data": {
            "text/plain": [
              "array([2., 1.])"
            ]
          },
          "metadata": {},
          "execution_count": 18
        }
      ],
      "source": [
        "integrality = np.ones_like(c)\n",
        "res = milp(c=c, constraints=constraints, integrality=integrality)\n",
        "res.x"
      ]
    },
    {
      "cell_type": "code",
      "execution_count": 19,
      "metadata": {
        "id": "8sfpu3moHBby",
        "colab": {
          "base_uri": "https://localhost:8080/"
        },
        "outputId": "7e5687ed-d037-44c5-a602-14196cb3401d"
      },
      "outputs": [
        {
          "output_type": "execute_result",
          "data": {
            "text/plain": [
              "array([0.8, 1.6])"
            ]
          },
          "metadata": {},
          "execution_count": 19
        }
      ],
      "source": [
        "res = milp(c=c, constraints=constraints)  # OR:\n",
        "# from scipy.optimize import linprog; res = linprog(c, A, b_u)\n",
        "res.x"
      ]
    },
    {
      "cell_type": "code",
      "execution_count": 19,
      "metadata": {
        "id": "W2sNtAb1HMh3"
      },
      "outputs": [],
      "source": []
    },
    {
      "cell_type": "markdown",
      "metadata": {
        "id": "n0P-X8wpHNV4"
      },
      "source": [
        "# Linear Programming\n",
        "Checking the optimal solution using scipy linprog module"
      ]
    },
    {
      "cell_type": "code",
      "execution_count": 20,
      "metadata": {
        "id": "adYTrMv3FrO-",
        "colab": {
          "base_uri": "https://localhost:8080/"
        },
        "outputId": "7c776694-a48d-4c4d-8ad6-ff425f289a99"
      },
      "outputs": [
        {
          "output_type": "execute_result",
          "data": {
            "text/plain": [
              "8.8"
            ]
          },
          "metadata": {},
          "execution_count": 20
        }
      ],
      "source": [
        "c = [3, 4]\n",
        "A = [[-3, -1], [-1, -2]]\n",
        "b = [-4, -4]\n",
        "x0_bounds = (0, None)\n",
        "x1_bounds = (0, None)\n",
        "res = linprog(c, A_ub=A, b_ub=b, bounds=[x0_bounds, x1_bounds])\n",
        "res.fun\n"
      ]
    },
    {
      "cell_type": "code",
      "execution_count": 21,
      "metadata": {
        "id": "meUyrjwBGNwU",
        "colab": {
          "base_uri": "https://localhost:8080/"
        },
        "outputId": "1f02661f-4094-469a-b20f-5eecc9126f98"
      },
      "outputs": [
        {
          "output_type": "execute_result",
          "data": {
            "text/plain": [
              "array([0.8, 1.6])"
            ]
          },
          "metadata": {},
          "execution_count": 21
        }
      ],
      "source": [
        "res.x"
      ]
    },
    {
      "cell_type": "code",
      "execution_count": 22,
      "metadata": {
        "colab": {
          "base_uri": "https://localhost:8080/",
          "height": 0
        },
        "id": "3zpqfDOQGRQd",
        "outputId": "94123ebb-e70e-4782-ff86-d3d1885bfbec"
      },
      "outputs": [
        {
          "output_type": "execute_result",
          "data": {
            "text/plain": [
              "'Optimization terminated successfully. (HiGHS Status 7: Optimal)'"
            ],
            "application/vnd.google.colaboratory.intrinsic+json": {
              "type": "string"
            }
          },
          "metadata": {},
          "execution_count": 22
        }
      ],
      "source": [
        "res.message"
      ]
    },
    {
      "cell_type": "code",
      "execution_count": 22,
      "metadata": {
        "id": "EePWfztcGVJE"
      },
      "outputs": [],
      "source": []
    },
    {
      "cell_type": "markdown",
      "metadata": {
        "id": "9w7Bt2szRvUy"
      },
      "source": [
        "# Cutting Plane Algorithm"
      ]
    },
    {
      "cell_type": "code",
      "execution_count": 23,
      "metadata": {
        "id": "vEkc0jJXnU4M"
      },
      "outputs": [],
      "source": [
        "def Pivot(tableau, row, col):\n",
        "    basics = tableau[1:, 0].copy()\n",
        "    tableau = tableau.astype(float)\n",
        "\n",
        "    pivot_element = tableau[row, col]\n",
        "    tableau[row] /= pivot_element\n",
        "    for i in range(tableau.shape[0]):\n",
        "        if i != row:\n",
        "            tableau[i] -= tableau[i, col] * tableau[row]\n",
        "            tableau[i, 0] = tableau[row, 0]\n",
        "    basics[row-1] = col-1\n",
        "    tableau[1:, 0] = basics\n",
        "    tableau[0, 0] = 1\n",
        "    return tableau\n"
      ]
    },
    {
      "cell_type": "markdown",
      "metadata": {
        "id": "g0nU3jDZRcDn"
      },
      "source": [
        "Example for test"
      ]
    },
    {
      "cell_type": "code",
      "execution_count": 24,
      "metadata": {
        "colab": {
          "base_uri": "https://localhost:8080/"
        },
        "id": "ej-3wyGsngKv",
        "outputId": "86179629-aff6-404f-8f9f-c7ba1b78abb0"
      },
      "outputs": [
        {
          "output_type": "execute_result",
          "data": {
            "text/plain": [
              "array([[  1.,   0.,   3.,  -1.,   0.,  10.,   0.,  -1.,  -1.,   1.],\n",
              "       [  0.,   1.,  -1.,  -1.,   0.,   4.,   1.,   0.,   0.,   1.],\n",
              "       [  6.,   0.,   3.,  -1.,   1.,   4.,   1.,   1.,   0.,   8.],\n",
              "       [  7.,   0.,   4.,   3.,   0., -11.,  -3.,   0.,   1.,  15.]])"
            ]
          },
          "metadata": {},
          "execution_count": 24
        }
      ],
      "source": [
        "t = np.array([\n",
        "    [ 1, -1,  4,  0,  0,  6, -1, -1, -1,  0],\n",
        "    [ 5,  1, -1, -1,  0,  4,  1,  0,  0,  1],\n",
        "    [ 6, -1,  4,  0,  1,  0,  0,  1,  0,  7],\n",
        "    [ 7,  3,  1,  0,  0,  1,  0,  0,  1, 18]\n",
        "])\n",
        "np.round(Pivot(t, 1, 1),1)"
      ]
    },
    {
      "cell_type": "code",
      "execution_count": 25,
      "metadata": {
        "colab": {
          "base_uri": "https://localhost:8080/"
        },
        "id": "15ZjOs8tf9S6",
        "outputId": "0fcbab1c-e70a-40ff-a55e-8f23b277c11b"
      },
      "outputs": [
        {
          "output_type": "execute_result",
          "data": {
            "text/plain": [
              "array([[ 1,  2,  8, -1,  1,  1,  0,  0,  0, 26],\n",
              "       [ 5,  1, -1, -1,  0,  0,  1,  0,  0,  1],\n",
              "       [ 6, -1,  4,  0,  1,  0,  0,  1,  0,  7],\n",
              "       [ 7,  3,  1,  0,  0,  1,  0,  0,  1, 18]])"
            ]
          },
          "metadata": {},
          "execution_count": 25
        }
      ],
      "source": [
        "\n",
        "def Standardize(tableau):\n",
        "    m, n = tableau.shape\n",
        "    m -= 1\n",
        "    n -= 2\n",
        "\n",
        "    for i in range(m):\n",
        "        tableau[0] -= tableau[0, int(tableau[i+1, 0] + 1)] * tableau[i+1]\n",
        "\n",
        "    tableau[0, 0] = 1\n",
        "    return tableau\n",
        "\n",
        "t = np.array([[ 1, -1,  4,  0,  0,  0, -1, -1, -1,  0],\n",
        "              [ 5,  1, -1, -1,  0,  0,  1,  0,  0,  1],\n",
        "              [ 6, -1,  4,  0,  1,  0,  0,  1,  0,  7],\n",
        "              [ 7,  3,  1,  0,  0,  1,  0,  0,  1, 18]])\n",
        "Standardize(t)"
      ]
    },
    {
      "cell_type": "markdown",
      "metadata": {
        "id": "RshqPpPgRj7W"
      },
      "source": [
        "Example for test"
      ]
    },
    {
      "cell_type": "code",
      "execution_count": 26,
      "metadata": {
        "colab": {
          "base_uri": "https://localhost:8080/"
        },
        "id": "9dftF-Ff2zKE",
        "outputId": "1ca73551-907f-4227-f74e-e4dd7312a43c"
      },
      "outputs": [
        {
          "output_type": "execute_result",
          "data": {
            "text/plain": [
              "array([[ 1,  2,  8, -1,  1,  1,  0,  0,  0, 26],\n",
              "       [ 5,  1, -1, -1,  0,  0,  1,  0,  0,  1],\n",
              "       [ 6, -1,  4,  0,  1,  0,  0,  1,  0,  7],\n",
              "       [ 7,  3,  1,  0,  0,  1,  0,  0,  1, 18]])"
            ]
          },
          "metadata": {},
          "execution_count": 26
        }
      ],
      "source": [
        "t = np.array([[ 1, -1,  4,  0,  0,  0, -1, -1, -1,  0],\n",
        "              [ 5,  1, -1, -1,  0,  0,  1,  0,  0,  1],\n",
        "              [ 6, -1,  4,  0,  1,  0,  0,  1,  0,  7],\n",
        "              [ 7,  3,  1,  0,  0,  1,  0,  0,  1, 18]])\n",
        "Standardize(t)"
      ]
    },
    {
      "cell_type": "code",
      "execution_count": 27,
      "metadata": {
        "id": "nNDa1BO_VNVC"
      },
      "outputs": [],
      "source": [
        "def CoreSimplex(tableau):\n",
        "    basics = tableau[1:, 0].copy()\n",
        "    m, n = tableau.shape\n",
        "    m -= 1\n",
        "    n -= 2\n",
        "    while True:\n",
        "        if np.all(tableau[0, 1:-1] <= 0):\n",
        "            break\n",
        "        pivot_col = np.argmax(tableau[0, 1:-1]) + 1\n",
        "        ratios = np.divide(tableau[1:, -1], tableau[1:, pivot_col])\n",
        "        valid_ratios = ratios[tableau[1:, pivot_col] > 0]\n",
        "        if len(valid_ratios) == 0:\n",
        "            raise ValueError(\"The problem is unbounded.\")\n",
        "        pivot_row = np.where(ratios == valid_ratios.min())[0][0] + 1\n",
        "        tableau = Pivot(tableau, pivot_row, pivot_col)\n",
        "        basics = tableau[1:, 0]\n",
        "\n",
        "    tableau[1:, 0] = basics\n",
        "    tableau[0, 0] = 1\n",
        "    return tableau\n"
      ]
    },
    {
      "cell_type": "markdown",
      "metadata": {
        "id": "r6-k2MINRlrD"
      },
      "source": [
        "Example for test"
      ]
    },
    {
      "cell_type": "code",
      "execution_count": 28,
      "metadata": {
        "colab": {
          "base_uri": "https://localhost:8080/"
        },
        "id": "QgXOE2eX1Q0V",
        "outputId": "0f5a7388-8e0a-4636-8dbe-dba819591e57"
      },
      "outputs": [
        {
          "output_type": "stream",
          "name": "stdout",
          "text": [
            "[[ 1.      0.      0.      0.     -1.      0.     -7.    ]\n",
            " [ 1.      0.      1.     -0.3333  0.3333  0.      2.    ]\n",
            " [ 0.      1.      0.     -1.3333  0.3333  0.      1.    ]\n",
            " [ 4.      0.      0.      4.3333 -1.3333  1.     13.    ]]\n"
          ]
        }
      ],
      "source": [
        "t = np.array(\n",
        "    [[ 1, -1,  4,  0,  0,  0,  0],\n",
        "     [ 2, -1,  1,  1,  0,  0,  1],\n",
        "     [ 3, -1,  4,  0,  1,  0,  7],\n",
        "     [ 4,  3,  1,  0,  0,  1, 18]])\n",
        "print(np.round(CoreSimplex(t), 4))"
      ]
    },
    {
      "cell_type": "code",
      "execution_count": 29,
      "metadata": {
        "id": "a9n794rxz4uJ"
      },
      "outputs": [],
      "source": [
        "def Phase1(tableau):\n",
        "    \"\"\"\n",
        "    Takes the tableau with no feasible solution and outputs with BFS (not standardized).\n",
        "    \"\"\"\n",
        "    # Copy basic variables from the tableau\n",
        "    basics = tableau[1:, 0].copy()\n",
        "\n",
        "    # Determine the dimensions of the tableau\n",
        "    m, n = tableau.shape\n",
        "    m -= 1  # Number of constraints\n",
        "    n -= 2  # Number of variables\n",
        "\n",
        "    # Extract the right-hand side (b vector)\n",
        "    b = tableau[1:, -1]\n",
        "\n",
        "    # Create the transformation matrix P\n",
        "    p = np.eye(m + 1)\n",
        "    p[np.where(b < 0) + np.ones_like(np.where(b < 0))] *= -1\n",
        "\n",
        "    # Transform the tableau using P\n",
        "    Rtableau = p @ tableau\n",
        "\n",
        "    # Insert additional columns for artificial variables and constraints\n",
        "    Rtableau = np.insert(Rtableau, -1, np.vstack((-np.ones(m), np.eye(m))).T, axis=1)\n",
        "    Rtableau[0, 0] = 1\n",
        "    Rtableau[0, -1] = 0\n",
        "\n",
        "    # Fix the basic variables and adjust the objective row\n",
        "    Rtableau[1:, 0] = np.arange(n, n + m)\n",
        "    Rtableau[0, 1:n + 1] = np.zeros(n)\n",
        "\n",
        "    # Standardize the tableau\n",
        "    Rtableau = Standardize(Rtableau)\n",
        "\n",
        "    # Perform the core simplex algorithm\n",
        "    Rtableau = CoreSimplex(Rtableau)\n",
        "\n",
        "    # Check if the problem is unbounded\n",
        "    if not np.isclose(Rtableau[0, -1], 0):\n",
        "        raise ValueError(\"The problem is unbounded.\")\n",
        "\n",
        "    # Check if all variables in the base aren't artificial\n",
        "    if np.all(Rtableau[1:, 0] < n):\n",
        "        return np.delete(Rtableau, np.s_[n + 1:n + m + 1], axis=1)\n",
        "\n",
        "    # exception 1 (in case the the problem is feasible but the artificial variables are still in the base)\n",
        "    # Artificials in the base:\n",
        "    RinBs = np.where(Rtableau[1:, 0] >= n)[0]+1\n",
        "    for i in RinBs:\n",
        "        # cc is the column to be pivoted\n",
        "        cc = np.where(~np.isclose(Rtableau[i, 1:-1], 0))[0][0]\n",
        "        # it would be exception 2 (haven't been tested)\n",
        "        if cc >=n :\n",
        "            Rtableau = np.delete(Rtableau, np.s_[i], axis=0)\n",
        "        Rtableau = Pivot(Rtableau, i, cc+1)\n",
        "    # print(np.round(Rtableau, 2))\n",
        "\n",
        "\n",
        "    return np.delete(Rtableau, np.s_[n + 1:n + m + 1], axis=1)\n",
        "\n"
      ]
    },
    {
      "cell_type": "markdown",
      "metadata": {
        "id": "C9t8iBI1iW3w"
      },
      "source": [
        "Example for test(the exception1)"
      ]
    },
    {
      "cell_type": "code",
      "execution_count": 30,
      "metadata": {
        "colab": {
          "base_uri": "https://localhost:8080/"
        },
        "id": "xZla_g55icc9",
        "outputId": "07431ac8-8d07-44ae-8bff-2a876d7ae4e4"
      },
      "outputs": [
        {
          "output_type": "execute_result",
          "data": {
            "text/plain": [
              "array([[ 1. ,  0. ,  0. ,  0. , -0. ,  0. ],\n",
              "       [ 0. ,  1. ,  0. ,  0. , -0.5,  1. ],\n",
              "       [ 2. ,  0. ,  0. ,  1. , -0.5,  0. ],\n",
              "       [ 1. , -0. ,  1. , -0. ,  1.5, -0. ]])"
            ]
          },
          "metadata": {},
          "execution_count": 30
        }
      ],
      "source": [
        "t = np.array([\n",
        "    [ 1, 2, 1, 0, 0, 0],\n",
        "    [ 0, 1, 0,-1, 0, 1],\n",
        "    [ 0, 2, 1, 1, 0, 2],\n",
        "    [ 0, 1,-1,-2,-1, 1]\n",
        "])\n",
        "np.round(Phase1(t), 4)"
      ]
    },
    {
      "cell_type": "markdown",
      "metadata": {
        "id": "L5fnKA67RqBN"
      },
      "source": [
        "Example for test"
      ]
    },
    {
      "cell_type": "code",
      "execution_count": 31,
      "metadata": {
        "colab": {
          "base_uri": "https://localhost:8080/"
        },
        "id": "prlfjNMNwsPI",
        "outputId": "ec8d8749-51c2-4957-caa0-a4ccd5ff03f0"
      },
      "outputs": [
        {
          "output_type": "execute_result",
          "data": {
            "text/plain": [
              "array([[ 1. ,  0. ,  0. ,  0. ,  0. ,  0. ],\n",
              "       [ 0. ,  1. ,  0. ,  0. , -0.2,  1.2],\n",
              "       [ 2. ,  0. ,  0. ,  1. , -0.2,  0.2],\n",
              "       [ 1. ,  0. ,  1. ,  0. , -0.8,  0.8]])"
            ]
          },
          "metadata": {},
          "execution_count": 31
        }
      ],
      "source": [
        "t = np.array(\n",
        "    [[ 1,  1,  1,  1,  0,  0],\n",
        "     [ 1,  1, -1,  3,  0,  1],\n",
        "     [ 1,  1,  1,  0, -1,  2],\n",
        "     [ 1,  1,  0, -1,  0,  1]])\n",
        "np.round(Phase1(t), 4)"
      ]
    },
    {
      "cell_type": "code",
      "execution_count": 31,
      "metadata": {
        "id": "wnu-FdnO1Yo8"
      },
      "outputs": [],
      "source": []
    },
    {
      "cell_type": "code",
      "execution_count": 31,
      "metadata": {
        "id": "eU29fpTw1YwE"
      },
      "outputs": [],
      "source": []
    },
    {
      "cell_type": "code",
      "execution_count": 31,
      "metadata": {
        "id": "4j5K5pBO1Y1-"
      },
      "outputs": [],
      "source": []
    },
    {
      "cell_type": "code",
      "execution_count": 32,
      "metadata": {
        "id": "OiHySYdaTE2I"
      },
      "outputs": [],
      "source": [
        "def simplex(c, A, b):\n",
        "    # Number of variables\n",
        "    n = len(c)\n",
        "\n",
        "    # Number of constraints\n",
        "    m = len(b)\n",
        "\n",
        "    # creation of bfs (Basic feasible solution through Artificial variables)\n",
        "    tableau = np.zeros((m + 1, n + 2))\n",
        "    tableau[1:, 1:-1] = A\n",
        "    tableau[1:, -1] = b\n",
        "    tableau = Phase1(tableau)\n",
        "    tableau[0, 1:-1] = -c\n",
        "    tableau = Standardize(tableau)\n",
        "    tableau = CoreSimplex(tableau)\n",
        "\n",
        "    return tableau\n",
        "\n",
        "def print_tableau(tableau, headers):\n",
        "    print(\"Tableau:\")\n",
        "    print(\" | \".join(headers))\n",
        "    print(\"-\" * (len(headers) * 8))\n",
        "    for row in tableau:\n",
        "        print(\" | \".join(f\"{x:>7.2f}\" for x in row))\n",
        "    print()\n",
        "\n"
      ]
    },
    {
      "cell_type": "markdown",
      "metadata": {
        "id": "blC2HT0URu13"
      },
      "source": [
        "Example **usage**"
      ]
    },
    {
      "cell_type": "code",
      "execution_count": 33,
      "metadata": {
        "colab": {
          "base_uri": "https://localhost:8080/"
        },
        "id": "zsKejO7XaNjU",
        "outputId": "cf2f65c1-ea04-44c3-fd3e-5a9163a42a98"
      },
      "outputs": [
        {
          "output_type": "stream",
          "name": "stdout",
          "text": [
            "Simplex Solution:\n",
            "Tableau:\n",
            "Basic | x1 | x2 | x3 | x4 | RHS\n",
            "------------------------------------------------\n",
            "   1.00 |    0.00 |    0.00 |   -0.40 |   -1.80 |    8.80\n",
            "   0.00 |    1.00 |    0.00 |   -0.40 |    0.20 |    0.80\n",
            "   1.00 |    0.00 |    1.00 |    0.20 |   -0.60 |    1.60\n",
            "\n"
          ]
        }
      ],
      "source": [
        "A = np.array([\n",
        "    [3, 1, -1, 0],\n",
        "    [1, 2, 0, -1],\n",
        "])\n",
        "b = np.array([4, 4])\n",
        "c = np.array([3, 4, 0, 0])\n",
        "\n",
        "headers = [\"Basic\"] + [f\"x{i+1}\" for i in range(len(c))] + [\"RHS\"]\n",
        "\n",
        "print(\"Simplex Solution:\")\n",
        "solution = np.round(simplex(c, A, b), 4)\n",
        "print_tableau(solution, headers)"
      ]
    },
    {
      "cell_type": "code",
      "execution_count": 34,
      "metadata": {
        "id": "w3E_vwXGXDB_"
      },
      "outputs": [],
      "source": [
        "def integer_simplex(c, A, b):\n",
        "    # Determine the number of variables and constraints\n",
        "    n = len(c)\n",
        "    m = len(b)\n",
        "\n",
        "    # Initialize the simplex tableau\n",
        "    tableau = simplex(c, A, b)\n",
        "\n",
        "    while True:\n",
        "        # Check if we have an optimal solution (all entries in the objective row are negative)\n",
        "        if np.allclose(np.round(tableau[1:, -1]), tableau[1:, -1], atol=1e-6):\n",
        "            break\n",
        "\n",
        "        # Find the index of the first fractional variable in the solution\n",
        "        frac_index = (np.where(np.modf(tableau[1:, -1])[0] != 0)[0] + 1)[0]\n",
        "        gomory_cut = -(tableau[frac_index] - np.floor(tableau[frac_index]))\n",
        "\n",
        "        # Apply the Gomory cut\n",
        "        print(f\"Applying Gomory cut: {gomory_cut}\")\n",
        "        tableau = np.vstack((tableau, gomory_cut))\n",
        "\n",
        "        # Add a new variable to the tableau\n",
        "        newVar = np.zeros(tableau.shape[0])\n",
        "        newVar[-1] = 1\n",
        "        tableau = np.insert(tableau, -1, newVar, axis=1)\n",
        "\n",
        "        # Print the updated tableau\n",
        "        print(np.round(tableau, 2))\n",
        "\n",
        "        # Perform phase 1 of the simplex method\n",
        "        tableau = Phase1(tableau)\n",
        "\n",
        "        # Reset the objective row\n",
        "        tableau[0] = 0\n",
        "        tableau[0, 1:1 + n] = -c\n",
        "\n",
        "        # Standardize the tableau\n",
        "        tableau = Standardize(tableau)\n",
        "\n",
        "        # Perform the core simplex algorithm\n",
        "        tableau = CoreSimplex(tableau)\n",
        "\n",
        "    return tableau\n"
      ]
    },
    {
      "cell_type": "markdown",
      "metadata": {
        "id": "SagxYyctR2kT"
      },
      "source": [
        "Example **usage 1** (from Bazaraa)"
      ]
    },
    {
      "cell_type": "code",
      "execution_count": 35,
      "metadata": {
        "colab": {
          "base_uri": "https://localhost:8080/"
        },
        "id": "ZBjHbagNb_K3",
        "outputId": "acf89b1c-607a-4ca5-f54c-9d7bfe22d5a6"
      },
      "outputs": [
        {
          "output_type": "stream",
          "name": "stdout",
          "text": [
            "Applying Gomory cut: [-0.  -0.  -0.  -0.6 -0.2 -0.8]\n",
            "[[ 1.   0.   0.  -0.4 -1.8  0.   8.8]\n",
            " [ 0.   1.   0.  -0.4  0.2  0.   0.8]\n",
            " [ 1.   0.   1.   0.2 -0.6  0.   1.6]\n",
            " [-0.  -0.  -0.  -0.6 -0.2  1.  -0.8]]\n",
            "Applying Gomory cut: [-0.         -0.         -0.         -0.         -0.33333333 -0.33333333\n",
            " -0.33333333]\n",
            "[[ 1.    0.    0.    0.   -1.67 -0.67  0.    9.33]\n",
            " [ 0.    1.    0.    0.    0.33 -0.67  0.    1.33]\n",
            " [ 1.    0.    1.    0.   -0.67  0.33  0.    1.33]\n",
            " [ 2.    0.    0.    1.    0.33 -1.67  0.    1.33]\n",
            " [-0.   -0.   -0.   -0.   -0.33 -0.33  1.   -0.33]]\n",
            "Integer Simplex Solution:\n",
            "[[ 1.  0.  0.  0. -1.  0. -2. 10.]\n",
            " [ 0.  1.  0.  0.  1.  0. -2.  2.]\n",
            " [ 1.  0.  1.  0. -1.  0.  1.  1.]\n",
            " [ 2.  0.  0.  1.  2.  0. -5.  3.]\n",
            " [ 4.  0.  0.  0.  1.  1. -3.  1.]]\n"
          ]
        },
        {
          "output_type": "stream",
          "name": "stderr",
          "text": [
            "<ipython-input-27-c1886c0eefb4>:10: RuntimeWarning: divide by zero encountered in divide\n",
            "  ratios = np.divide(tableau[1:, -1], tableau[1:, pivot_col])\n"
          ]
        }
      ],
      "source": [
        "A = np.array([\n",
        "    [3, 1,-1, 0],\n",
        "    [1, 2, 0,-1],\n",
        "\n",
        "])\n",
        "b = np.array([4, 4])\n",
        "c = np.array([3, 4, 0, 0])\n",
        "\n",
        "# Round the result to 4 decimal places\n",
        "result = integer_simplex(c, A, b)\n",
        "\n",
        "print(\"Integer Simplex Solution:\")\n",
        "print(np.round(result, 4))"
      ]
    },
    {
      "cell_type": "markdown",
      "metadata": {
        "id": "lGYxSIRvR-nx"
      },
      "source": [
        "Example **usage 2** (from Rao)"
      ]
    },
    {
      "cell_type": "code",
      "execution_count": 36,
      "metadata": {
        "colab": {
          "base_uri": "https://localhost:8080/"
        },
        "id": "RqPk8cU31DsB",
        "outputId": "a92639ad-1890-4663-ee4f-5b1a6f312743"
      },
      "outputs": [
        {
          "output_type": "stream",
          "name": "stdout",
          "text": [
            "Applying Gomory cut: [-0.         -0.         -0.         -0.30555556 -0.02777778 -0.5       ]\n",
            "[[ 1.00e+00  0.00e+00  0.00e+00 -5.80e-01 -4.20e-01  0.00e+00 -3.45e+01]\n",
            " [ 0.00e+00  1.00e+00  0.00e+00  3.10e-01  3.00e-02  0.00e+00  5.50e+00]\n",
            " [ 1.00e+00  0.00e+00  1.00e+00 -8.00e-02  8.00e-02  0.00e+00  4.50e+00]\n",
            " [-0.00e+00 -0.00e+00 -0.00e+00 -3.10e-01 -3.00e-02  1.00e+00 -5.00e-01]]\n",
            "Applying Gomory cut: [-0.         -0.         -0.         -0.         -0.09090909 -0.72727273\n",
            " -0.63636364]\n",
            "[[  1.     0.     0.     0.    -0.36  -1.91   0.   -33.55]\n",
            " [  0.     1.     0.     0.     0.     1.     0.     5.  ]\n",
            " [  1.     0.     1.     0.     0.09  -0.27   0.     4.64]\n",
            " [  2.     0.     0.     1.     0.09  -3.27   0.     1.64]\n",
            " [ -0.    -0.    -0.    -0.    -0.09  -0.73   1.    -0.64]]\n",
            "Applying Gomory cut: [-0.    -0.    -0.    -0.    -0.875 -0.    -0.375 -0.125]\n",
            "[[  1.     0.     0.     0.    -0.12   0.    -2.62   0.   -31.88]\n",
            " [  0.     1.     0.     0.    -0.12   0.     1.38   0.     4.12]\n",
            " [  1.     0.     1.     0.     0.12   0.    -0.38   0.     4.88]\n",
            " [  2.     0.     0.     1.     0.5    0.    -4.5    0.     4.5 ]\n",
            " [  4.     0.     0.     0.     0.12   1.    -1.38   0.     0.88]\n",
            " [ -0.    -0.    -0.    -0.    -0.88  -0.    -0.38   1.    -0.12]]\n",
            "Applying Gomory cut: [-0.         -0.         -0.         -0.         -0.         -0.\n",
            " -0.42857143 -0.85714286 -0.14285714]\n",
            "[[  1.     0.     0.     0.     0.     0.    -2.57  -0.14   0.   -31.86]\n",
            " [  0.     1.     0.     0.     0.     0.     1.43  -0.14   0.     4.14]\n",
            " [  1.     0.     1.     0.     0.     0.    -0.43   0.14   0.     4.86]\n",
            " [  2.     0.     0.     1.     0.     0.    -4.71   0.57   0.     4.43]\n",
            " [  4.     0.     0.     0.     0.     1.    -1.43   0.14   0.     0.86]\n",
            " [  3.     0.     0.     0.     1.     0.     0.43  -1.14   0.     0.14]\n",
            " [ -0.    -0.    -0.    -0.    -0.    -0.    -0.43  -0.86   1.    -0.14]]\n",
            "Applying Gomory cut: [-0.         -0.         -0.         -0.         -0.         -0.\n",
            " -0.5        -0.         -0.83333333 -0.16666667]\n",
            "[[  1.     0.     0.     0.     0.     0.    -2.5    0.    -0.17   0.\n",
            "  -31.83]\n",
            " [  0.     1.     0.     0.     0.     0.     1.5    0.    -0.17   0.\n",
            "    4.17]\n",
            " [  1.     0.     1.     0.     0.     0.    -0.5    0.     0.17   0.\n",
            "    4.83]\n",
            " [  2.     0.     0.     1.     0.     0.    -5.     0.     0.67   0.\n",
            "    4.33]\n",
            " [  4.     0.     0.     0.     0.     1.    -1.5    0.     0.17   0.\n",
            "    0.83]\n",
            " [  3.     0.     0.     0.     1.     0.     1.     0.    -1.33   0.\n",
            "    0.33]\n",
            " [  6.     0.     0.     0.     0.     0.     0.5    1.    -1.17   0.\n",
            "    0.17]\n",
            " [ -0.    -0.    -0.    -0.    -0.    -0.    -0.5   -0.    -0.83   1.\n",
            "   -0.17]]\n",
            "Applying Gomory cut: [-0.  -0.  -0.  -0.  -0.  -0.  -0.8 -0.  -0.  -0.4 -0.6]\n",
            "[[  1.    0.    0.    0.    0.    0.   -2.4   0.    0.   -0.2   0.  -31.8]\n",
            " [  3.    0.    0.    0.    1.    0.    1.8   0.    0.   -1.6   0.    0.6]\n",
            " [  1.    0.    1.    0.    0.    0.   -0.6   0.    0.    0.2   0.    4.8]\n",
            " [  2.    0.    0.    1.    0.    0.   -5.4   0.    0.    0.8   0.    4.2]\n",
            " [  4.    0.    0.    0.    0.    1.   -1.6   0.    0.    0.2   0.    0.8]\n",
            " [  7.    0.    0.    0.    0.    0.    0.6   0.    1.   -1.2   0.    0.2]\n",
            " [  6.    0.    0.    0.    0.    0.    1.2   1.    0.   -1.4   0.    0.4]\n",
            " [  0.    1.    0.    0.    0.    0.    1.6   0.    0.   -0.2   0.    4.2]\n",
            " [ -0.   -0.   -0.   -0.   -0.   -0.   -0.8  -0.   -0.   -0.4   1.   -0.6]]\n",
            "Applying Gomory cut: [-0.  -0.  -0.  -0.  -0.  -0.  -1.  -0.  -0.  -0.  -0.5 -0.5]\n",
            "[[  1.    0.    0.    0.    0.    0.   -2.    0.    0.    0.   -0.5   0.\n",
            "  -31.5]\n",
            " [  8.    0.    0.    0.    0.    0.    2.    0.    0.    1.   -2.5   0.\n",
            "    1.5]\n",
            " [  4.    0.    0.    0.    0.    1.   -2.    0.    0.    0.    0.5   0.\n",
            "    0.5]\n",
            " [  3.    0.    0.    0.    1.    0.    5.    0.    0.    0.   -4.    0.\n",
            "    3. ]\n",
            " [  0.    1.    0.    0.    0.    0.    2.    0.    0.    0.   -0.5   0.\n",
            "    4.5]\n",
            " [  1.    0.    1.    0.    0.    0.   -1.    0.    0.    0.    0.5   0.\n",
            "    4.5]\n",
            " [  6.    0.    0.    0.    0.    0.    4.    1.    0.    0.   -3.5   0.\n",
            "    2.5]\n",
            " [  2.    0.    0.    1.    0.    0.   -7.    0.    0.    0.    2.    0.\n",
            "    3. ]\n",
            " [  7.    0.    0.    0.    0.    0.    3.    0.    1.    0.   -3.    0.\n",
            "    2. ]\n",
            " [ -0.   -0.   -0.   -0.   -0.   -0.   -1.   -0.   -0.   -0.   -0.5   1.\n",
            "   -0.5]]\n",
            "Integer Simplex Solution:\n",
            "[[  1.   0.   0.   0.   0.   0.  -1.   0.   0.   0.   0.  -1. -31.]\n",
            " [  8.   0.   0.   0.   0.   0.   7.   0.   0.   1.   0.  -5.   4.]\n",
            " [  4.   0.   0.   0.   0.   1.  -3.   0.   0.   0.   0.   1.   0.]\n",
            " [  3.   0.   0.   0.   1.   0.  13.   0.   0.   0.   0.  -8.   7.]\n",
            " [  0.   1.   0.   0.   0.   0.   3.   0.   0.   0.   0.  -1.   5.]\n",
            " [  1.   0.   1.   0.   0.   0.  -2.   0.   0.   0.   0.   1.   4.]\n",
            " [  6.   0.   0.   0.   0.   0.  11.   1.   0.   0.   0.  -7.   6.]\n",
            " [  2.   0.   0.   1.   0.   0. -11.   0.   0.   0.   0.   4.   1.]\n",
            " [  7.   0.   0.   0.   0.   0.   9.   0.   1.   0.   0.  -6.   5.]\n",
            " [  9.   0.   0.   0.   0.   0.   2.   0.   0.   0.   1.  -2.   1.]]\n"
          ]
        },
        {
          "output_type": "stream",
          "name": "stderr",
          "text": [
            "<ipython-input-27-c1886c0eefb4>:10: RuntimeWarning: divide by zero encountered in divide\n",
            "  ratios = np.divide(tableau[1:, -1], tableau[1:, pivot_col])\n"
          ]
        }
      ],
      "source": [
        "A = np.array([\n",
        "    [3, -1, 1, 0],\n",
        "    [3, 11, 0, 1]\n",
        "])\n",
        "b = np.array([12, 66])\n",
        "c = np.array([-3, -4, 0, 0])\n",
        "\n",
        "# Round the result to 4 decimal places\n",
        "result = integer_simplex(c, A, b)\n",
        "print(\"Integer Simplex Solution:\")\n",
        "print(np.round(result, 4))"
      ]
    },
    {
      "cell_type": "code",
      "execution_count": 37,
      "metadata": {
        "id": "_iLyBnaGVVx_"
      },
      "outputs": [],
      "source": [
        "def plot_feasible_set_and_cuts(c, A, b, solutions):\n",
        "    # Determine the number of original variables (non-slack variables)\n",
        "    num_original_vars = len(c) - np.sum(c == 0)\n",
        "    if num_original_vars != 2:\n",
        "        raise ValueError(\"This function only supports 2-variable problems for plotting.\")\n",
        "\n",
        "    fig, ax = plt.subplots()\n",
        "\n",
        "    # Generate a grid for plotting\n",
        "    x = np.linspace(-1, 20, 400)\n",
        "    y = np.linspace(-1, 20, 400)\n",
        "    X, Y = np.meshgrid(x, y)\n",
        "\n",
        "    # Plot the feasible region\n",
        "    for i in range(A.shape[0]):\n",
        "        plt.contourf(X, Y, A[i, 0] * X + A[i, 1] * Y - b[i], levels=[0, 1e6], alpha=0.5, colors=['lightblue'])\n",
        "\n",
        "    # Plot integer points\n",
        "    x_int = np.arange(-1, 21, 1)\n",
        "    y_int = np.arange(-1, 21, 1)\n",
        "    X_int, Y_int = np.meshgrid(x_int, y_int)\n",
        "    int_points = np.c_[X_int.ravel(), Y_int.ravel()]\n",
        "\n",
        "    feasible_int_points = []\n",
        "    for point in int_points:\n",
        "        if np.all(np.dot(A[:, :2], point) >= b):\n",
        "            feasible_int_points.append(point)\n",
        "\n",
        "    feasible_int_points = np.array(feasible_int_points)\n",
        "    plt.scatter(feasible_int_points[:, 0], feasible_int_points[:, 1], color='grey', marker='.', label='Integer Points')\n",
        "\n",
        "    # Labels and legend\n",
        "    plt.xlabel('x1')\n",
        "    plt.ylabel('x2')\n",
        "    plt.title('Feasible Set and Gomory Cuts')\n",
        "    plt.legend()\n",
        "    plt.xlim(-1, 10)\n",
        "    plt.ylim(-1, 10)\n",
        "\n",
        "    # Plot the cuts\n",
        "    plot_cuts(ax, solutions)\n",
        "\n",
        "    plt.show()\n",
        "\n",
        "def plot_cuts(ax, cuts):\n",
        "    x = np.linspace(-1, 20, 400)\n",
        "    for idx, cut in enumerate(cuts):\n",
        "        A_cut, b_cut = cut[:-1], cut[-1]\n",
        "        if A_cut[1] != 0:  # Avoid division by zero\n",
        "            y = (b_cut - A_cut[0] * x) / A_cut[1]\n",
        "            ax.plot(x, y, label=f'Gomory Cut {idx + 1}: {A_cut[0]}*x1 + {A_cut[1]}*x2 = {b_cut}', linestyle='-', linewidth=0.5, color=\"red\")\n",
        "            # Add annotation for clarity\n",
        "            ax.annotate(f'Cut {idx + 1}', xy=(x[200], y[200]), xytext=(x[200] + 1, y[200] + 1),\n",
        "                        arrowprops=dict(facecolor='black', shrink=0.0005))\n",
        "\n",
        "    # Move legend outside the plot\n",
        "    ax.legend(loc='upper right', bbox_to_anchor=(1, 1))\n",
        "\n",
        "    # Calculate Gomory cuts\n",
        "    tableau = simplex(c, A, b)\n",
        "    frac_index = (np.where(np.modf(tableau[1:, -1])[0] != 0)[0] + 1)[0]\n",
        "    gomory_cut = -(tableau[frac_index] - np.floor(tableau[frac_index]))\n",
        "\n",
        "    return [gomory_cut]\n",
        "\n"
      ]
    },
    {
      "cell_type": "code",
      "execution_count": 38,
      "metadata": {
        "colab": {
          "base_uri": "https://localhost:8080/",
          "height": 819
        },
        "id": "b7mJUgfQVn1t",
        "outputId": "76929f2d-64c5-4269-d77c-2ddc031f12d9"
      },
      "outputs": [
        {
          "output_type": "stream",
          "name": "stdout",
          "text": [
            "Applying Gomory cut: [-0.  -0.  -0.  -0.6 -0.2 -0.8]\n",
            "[[ 1.   0.   0.  -0.4 -1.8  0.   8.8]\n",
            " [ 0.   1.   0.  -0.4  0.2  0.   0.8]\n",
            " [ 1.   0.   1.   0.2 -0.6  0.   1.6]\n",
            " [-0.  -0.  -0.  -0.6 -0.2  1.  -0.8]]\n",
            "Applying Gomory cut: [-0.         -0.         -0.         -0.         -0.33333333 -0.33333333\n",
            " -0.33333333]\n",
            "[[ 1.    0.    0.    0.   -1.67 -0.67  0.    9.33]\n",
            " [ 0.    1.    0.    0.    0.33 -0.67  0.    1.33]\n",
            " [ 1.    0.    1.    0.   -0.67  0.33  0.    1.33]\n",
            " [ 2.    0.    0.    1.    0.33 -1.67  0.    1.33]\n",
            " [-0.   -0.   -0.   -0.   -0.33 -0.33  1.   -0.33]]\n",
            "Integer Simplex Solution:\n",
            "[[ 1.  0.  0.  0. -1.  0. -2. 10.]\n",
            " [ 0.  1.  0.  0.  1.  0. -2.  2.]\n",
            " [ 1.  0.  1.  0. -1.  0.  1.  1.]\n",
            " [ 2.  0.  0.  1.  2.  0. -5.  3.]\n",
            " [ 4.  0.  0.  0.  1.  1. -3.  1.]]\n"
          ]
        },
        {
          "output_type": "stream",
          "name": "stderr",
          "text": [
            "<ipython-input-27-c1886c0eefb4>:10: RuntimeWarning: divide by zero encountered in divide\n",
            "  ratios = np.divide(tableau[1:, -1], tableau[1:, pivot_col])\n"
          ]
        },
        {
          "output_type": "display_data",
          "data": {
            "text/plain": [
              "<Figure size 640x480 with 1 Axes>"
            ],
            "image/png": "[encoded data removed]"
          },
          "metadata": {}
        }
      ],
      "source": [
        "A = np.array([\n",
        "    [3, 1,-1, 0],\n",
        "    [1, 2, 0,-1],\n",
        "\n",
        "])\n",
        "b = np.array([4, 4])\n",
        "c = np.array([3, 4, 0, 0])\n",
        "\n",
        "# Round the result to 4 decimal places\n",
        "result = np.round(integer_simplex(c, A, b), 4)\n",
        "\n",
        "print(\"Integer Simplex Solution:\")\n",
        "print(np.round(result, 4))\n",
        "\n",
        "plot_feasible_set_and_cuts(c, A, b, result)\n"
      ]
    },
    {
      "cell_type": "code",
      "execution_count": 38,
      "metadata": {
        "id": "QI8t8UnIbtPa"
      },
      "outputs": [],
      "source": []
    },
    {
      "cell_type": "markdown",
      "metadata": {
        "id": "HVqdjT7Ede2h"
      },
      "source": [
        "# Latexify"
      ]
    },
    {
      "cell_type": "code",
      "execution_count": 40,
      "metadata": {
        "colab": {
          "base_uri": "https://localhost:8080/",
          "height": 211
        },
        "id": "75dEbYCdbtXU",
        "outputId": "a7314ecf-66d4-4463-b8b3-52cf304bc574"
      },
      "outputs": [
        {
          "output_type": "error",
          "ename": "NameError",
          "evalue": "name 'latexify' is not defined",
          "traceback": [
            "\u001b[0;31m---------------------------------------------------------------------------\u001b[0m",
            "\u001b[0;31mNameError\u001b[0m                                 Traceback (most recent call last)",
            "\u001b[0;32m<ipython-input-40-3e50dd6cef1a>\u001b[0m in \u001b[0;36m<cell line: 1>\u001b[0;34m()\u001b[0m\n\u001b[0;32m----> 1\u001b[0;31m \u001b[0;34m@\u001b[0m\u001b[0mlatexify\u001b[0m\u001b[0;34m.\u001b[0m\u001b[0mfunction\u001b[0m\u001b[0;34m\u001b[0m\u001b[0;34m\u001b[0m\u001b[0m\n\u001b[0m\u001b[1;32m      2\u001b[0m \u001b[0;32mdef\u001b[0m \u001b[0msolve\u001b[0m\u001b[0;34m(\u001b[0m\u001b[0ma\u001b[0m\u001b[0;34m,\u001b[0m \u001b[0mb\u001b[0m\u001b[0;34m,\u001b[0m \u001b[0mc\u001b[0m\u001b[0;34m)\u001b[0m\u001b[0;34m:\u001b[0m\u001b[0;34m\u001b[0m\u001b[0;34m\u001b[0m\u001b[0m\n\u001b[1;32m      3\u001b[0m   \u001b[0;32mreturn\u001b[0m \u001b[0;34m(\u001b[0m\u001b[0;34m-\u001b[0m\u001b[0mb\u001b[0m \u001b[0;34m+\u001b[0m \u001b[0mnp\u001b[0m\u001b[0;34m.\u001b[0m\u001b[0msqrt\u001b[0m\u001b[0;34m(\u001b[0m\u001b[0mb\u001b[0m\u001b[0;34m**\u001b[0m\u001b[0;36m2\u001b[0m \u001b[0;34m-\u001b[0m \u001b[0;36m4\u001b[0m\u001b[0;34m*\u001b[0m\u001b[0ma\u001b[0m\u001b[0;34m*\u001b[0m\u001b[0mc\u001b[0m\u001b[0;34m)\u001b[0m\u001b[0;34m)\u001b[0m \u001b[0;34m/\u001b[0m \u001b[0;34m(\u001b[0m\u001b[0;36m2\u001b[0m\u001b[0;34m*\u001b[0m\u001b[0ma\u001b[0m\u001b[0;34m)\u001b[0m\u001b[0;34m\u001b[0m\u001b[0;34m\u001b[0m\u001b[0m\n\u001b[1;32m      4\u001b[0m \u001b[0;34m\u001b[0m\u001b[0m\n\u001b[1;32m      5\u001b[0m \u001b[0mprint\u001b[0m\u001b[0;34m(\u001b[0m\u001b[0msolve\u001b[0m\u001b[0;34m(\u001b[0m\u001b[0;36m1\u001b[0m\u001b[0;34m,\u001b[0m \u001b[0;36m4\u001b[0m\u001b[0;34m,\u001b[0m \u001b[0;36m3\u001b[0m\u001b[0;34m)\u001b[0m\u001b[0;34m)\u001b[0m  \u001b[0;31m# Invoking the function works as expected.\u001b[0m\u001b[0;34m\u001b[0m\u001b[0;34m\u001b[0m\u001b[0m\n",
            "\u001b[0;31mNameError\u001b[0m: name 'latexify' is not defined"
          ]
        }
      ],
      "source": [
        "@latexify.function\n",
        "def solve(a, b, c):\n",
        "  return (-b + np.sqrt(b**2 - 4*a*c)) / (2*a)\n",
        "\n",
        "print(solve(1, 4, 3))  # Invoking the function works as expected.\n",
        "print(solve)  # Printing the function shows the underlying LaTeX source.\n",
        "solve  # Displays the expression.\n",
        "\n",
        "# Writes the underlying LaTeX source into a file.\n",
        "with open(\"compiled.tex\", \"w\") as fp:\n",
        "  print(solve, file=fp)\n"
      ]
    },
    {
      "cell_type": "code",
      "execution_count": 42,
      "metadata": {
        "colab": {
          "base_uri": "https://localhost:8080/",
          "height": 211
        },
        "id": "8MMP-6JFbtxl",
        "outputId": "6babe0cb-a06d-4375-ca8d-9a804a85e784"
      },
      "outputs": [
        {
          "output_type": "error",
          "ename": "NameError",
          "evalue": "name 'latexify' is not defined",
          "traceback": [
            "\u001b[0;31m---------------------------------------------------------------------------\u001b[0m",
            "\u001b[0;31mNameError\u001b[0m                                 Traceback (most recent call last)",
            "\u001b[0;32m<ipython-input-42-963dde362089>\u001b[0m in \u001b[0;36m<cell line: 1>\u001b[0;34m()\u001b[0m\n\u001b[0;32m----> 1\u001b[0;31m \u001b[0;34m@\u001b[0m\u001b[0mlatexify\u001b[0m\u001b[0;34m.\u001b[0m\u001b[0mexpression\u001b[0m\u001b[0;34m\u001b[0m\u001b[0;34m\u001b[0m\u001b[0m\n\u001b[0m\u001b[1;32m      2\u001b[0m \u001b[0;32mdef\u001b[0m \u001b[0msolve\u001b[0m\u001b[0;34m(\u001b[0m\u001b[0ma\u001b[0m\u001b[0;34m,\u001b[0m \u001b[0mb\u001b[0m\u001b[0;34m,\u001b[0m \u001b[0mc\u001b[0m\u001b[0;34m)\u001b[0m\u001b[0;34m:\u001b[0m\u001b[0;34m\u001b[0m\u001b[0;34m\u001b[0m\u001b[0m\n\u001b[1;32m      3\u001b[0m   \u001b[0;32mreturn\u001b[0m \u001b[0;34m(\u001b[0m\u001b[0;34m-\u001b[0m\u001b[0mb\u001b[0m \u001b[0;34m+\u001b[0m \u001b[0mnp\u001b[0m\u001b[0;34m.\u001b[0m\u001b[0msqrt\u001b[0m\u001b[0;34m(\u001b[0m\u001b[0mb\u001b[0m\u001b[0;34m**\u001b[0m\u001b[0;36m2\u001b[0m \u001b[0;34m-\u001b[0m \u001b[0;36m4\u001b[0m\u001b[0;34m*\u001b[0m\u001b[0ma\u001b[0m\u001b[0;34m*\u001b[0m\u001b[0mc\u001b[0m\u001b[0;34m)\u001b[0m\u001b[0;34m)\u001b[0m \u001b[0;34m/\u001b[0m \u001b[0;34m(\u001b[0m\u001b[0;36m2\u001b[0m\u001b[0;34m*\u001b[0m\u001b[0ma\u001b[0m\u001b[0;34m)\u001b[0m\u001b[0;34m\u001b[0m\u001b[0;34m\u001b[0m\u001b[0m\n\u001b[1;32m      4\u001b[0m \u001b[0;34m\u001b[0m\u001b[0m\n\u001b[1;32m      5\u001b[0m \u001b[0mprint\u001b[0m\u001b[0;34m(\u001b[0m\u001b[0msolve\u001b[0m\u001b[0;34m(\u001b[0m\u001b[0;36m1\u001b[0m\u001b[0;34m,\u001b[0m \u001b[0;36m4\u001b[0m\u001b[0;34m,\u001b[0m \u001b[0;36m3\u001b[0m\u001b[0;34m)\u001b[0m\u001b[0;34m)\u001b[0m  \u001b[0;31m# Invoking the function works as expected.\u001b[0m\u001b[0;34m\u001b[0m\u001b[0;34m\u001b[0m\u001b[0m\n",
            "\u001b[0;31mNameError\u001b[0m: name 'latexify' is not defined"
          ]
        }
      ],
      "source": [
        "@latexify.expression\n",
        "def solve(a, b, c):\n",
        "  return (-b + np.sqrt(b**2 - 4*a*c)) / (2*a)\n",
        "\n",
        "print(solve(1, 4, 3))  # Invoking the function works as expected.\n",
        "print(solve)  # Printing the function shows the underlying LaTeX source.\n",
        "solve  # Displays the expression.\n",
        "\n",
        "# Writes the underlying LaTeX source into a file.\n",
        "with open(\"compiled.tex\", \"w\") as fp:\n",
        "  print(solve, file=fp)\n"
      ]
    },
    {
      "cell_type": "code",
      "execution_count": 44,
      "metadata": {
        "colab": {
          "base_uri": "https://localhost:8080/",
          "height": 211
        },
        "id": "uB-kqtVqdDha",
        "outputId": "698c639c-3d81-407d-9e50-1455cf469747"
      },
      "outputs": [
        {
          "output_type": "error",
          "ename": "NameError",
          "evalue": "name 'latexify' is not defined",
          "traceback": [
            "\u001b[0;31m---------------------------------------------------------------------------\u001b[0m",
            "\u001b[0;31mNameError\u001b[0m                                 Traceback (most recent call last)",
            "\u001b[0;32m<ipython-input-44-dc6b49a80e97>\u001b[0m in \u001b[0;36m<cell line: 1>\u001b[0;34m()\u001b[0m\n\u001b[0;32m----> 1\u001b[0;31m \u001b[0;34m@\u001b[0m\u001b[0mlatexify\u001b[0m\u001b[0;34m.\u001b[0m\u001b[0malgorithmic\u001b[0m\u001b[0;34m\u001b[0m\u001b[0;34m\u001b[0m\u001b[0m\n\u001b[0m\u001b[1;32m      2\u001b[0m \u001b[0;32mdef\u001b[0m \u001b[0mfib\u001b[0m\u001b[0;34m(\u001b[0m\u001b[0mx\u001b[0m\u001b[0;34m)\u001b[0m\u001b[0;34m:\u001b[0m\u001b[0;34m\u001b[0m\u001b[0;34m\u001b[0m\u001b[0m\n\u001b[1;32m      3\u001b[0m   \u001b[0;32mif\u001b[0m \u001b[0mx\u001b[0m \u001b[0;34m==\u001b[0m \u001b[0;36m0\u001b[0m\u001b[0;34m:\u001b[0m\u001b[0;34m\u001b[0m\u001b[0;34m\u001b[0m\u001b[0m\n\u001b[1;32m      4\u001b[0m     \u001b[0;32mreturn\u001b[0m \u001b[0;36m0\u001b[0m\u001b[0;34m\u001b[0m\u001b[0;34m\u001b[0m\u001b[0m\n\u001b[1;32m      5\u001b[0m   \u001b[0;32melif\u001b[0m \u001b[0mx\u001b[0m \u001b[0;34m==\u001b[0m \u001b[0;36m1\u001b[0m\u001b[0;34m:\u001b[0m\u001b[0;34m\u001b[0m\u001b[0;34m\u001b[0m\u001b[0m\n",
            "\u001b[0;31mNameError\u001b[0m: name 'latexify' is not defined"
          ]
        }
      ],
      "source": [
        "@latexify.algorithmic\n",
        "def fib(x):\n",
        "  if x == 0:\n",
        "    return 0\n",
        "  elif x == 1:\n",
        "    return 1\n",
        "  else:\n",
        "    return fib(x-1) + fib(x-2)\n",
        "\n",
        "fib"
      ]
    },
    {
      "cell_type": "code",
      "execution_count": 54,
      "metadata": {
        "colab": {
          "base_uri": "https://localhost:8080/",
          "height": 211
        },
        "id": "lsAaC0kfdbtK",
        "outputId": "9f75f3d6-35ee-423e-c0be-dce21c311969"
      },
      "outputs": [
        {
          "output_type": "error",
          "ename": "NameError",
          "evalue": "name 'latexify' is not defined",
          "traceback": [
            "\u001b[0;31m---------------------------------------------------------------------------\u001b[0m",
            "\u001b[0;31mNameError\u001b[0m                                 Traceback (most recent call last)",
            "\u001b[0;32m<ipython-input-54-d7ac6aaafd17>\u001b[0m in \u001b[0;36m<cell line: 1>\u001b[0;34m()\u001b[0m\n\u001b[0;32m----> 1\u001b[0;31m \u001b[0;34m@\u001b[0m\u001b[0mlatexify\u001b[0m\u001b[0;34m.\u001b[0m\u001b[0mexpression\u001b[0m\u001b[0;34m\u001b[0m\u001b[0;34m\u001b[0m\u001b[0m\n\u001b[0m\u001b[1;32m      2\u001b[0m \u001b[0;32mdef\u001b[0m \u001b[0mPivot\u001b[0m\u001b[0;34m(\u001b[0m\u001b[0mtableau\u001b[0m\u001b[0;34m,\u001b[0m \u001b[0mrow\u001b[0m\u001b[0;34m,\u001b[0m \u001b[0mcol\u001b[0m\u001b[0;34m)\u001b[0m\u001b[0;34m:\u001b[0m\u001b[0;34m\u001b[0m\u001b[0;34m\u001b[0m\u001b[0m\n\u001b[1;32m      3\u001b[0m     \u001b[0mbasics\u001b[0m \u001b[0;34m=\u001b[0m \u001b[0mtableau\u001b[0m\u001b[0;34m[\u001b[0m\u001b[0;36m1\u001b[0m\u001b[0;34m:\u001b[0m\u001b[0;34m,\u001b[0m \u001b[0;36m0\u001b[0m\u001b[0;34m]\u001b[0m\u001b[0;34m.\u001b[0m\u001b[0mcopy\u001b[0m\u001b[0;34m(\u001b[0m\u001b[0;34m)\u001b[0m\u001b[0;34m\u001b[0m\u001b[0;34m\u001b[0m\u001b[0m\n\u001b[1;32m      4\u001b[0m     \u001b[0mtableau\u001b[0m \u001b[0;34m=\u001b[0m \u001b[0mtableau\u001b[0m\u001b[0;34m.\u001b[0m\u001b[0mastype\u001b[0m\u001b[0;34m(\u001b[0m\u001b[0mfloat\u001b[0m\u001b[0;34m)\u001b[0m\u001b[0;34m\u001b[0m\u001b[0;34m\u001b[0m\u001b[0m\n\u001b[1;32m      5\u001b[0m \u001b[0;34m\u001b[0m\u001b[0m\n",
            "\u001b[0;31mNameError\u001b[0m: name 'latexify' is not defined"
          ]
        }
      ],
      "source": [
        "@latexify.expression\n",
        "def Pivot(tableau, row, col):\n",
        "    basics = tableau[1:, 0].copy()\n",
        "    tableau = tableau.astype(float)\n",
        "\n",
        "    pivot_element = tableau[row, col]\n",
        "    tableau[row] /= pivot_element\n",
        "    for i in range(tableau.shape[0]):\n",
        "        if i != row:\n",
        "            tableau[i] -= tableau[i, col] * tableau[row]\n",
        "            tableau[i, 0] = tableau[row, 0]\n",
        "    basics[row-1] = col-1\n",
        "    tableau[1:, 0] = basics\n",
        "    tableau[0, 0] = 1\n",
        "    return tableau\n",
        "Pivot"
      ]
    },
    {
      "cell_type": "code",
      "execution_count": 55,
      "metadata": {
        "colab": {
          "base_uri": "https://localhost:8080/",
          "height": 211
        },
        "id": "aV5yQzjvdro0",
        "outputId": "812307ea-88fa-49fd-b563-252521c52e89"
      },
      "outputs": [
        {
          "output_type": "error",
          "ename": "NameError",
          "evalue": "name 'latexify' is not defined",
          "traceback": [
            "\u001b[0;31m---------------------------------------------------------------------------\u001b[0m",
            "\u001b[0;31mNameError\u001b[0m                                 Traceback (most recent call last)",
            "\u001b[0;32m<ipython-input-55-e8d6b28f59c0>\u001b[0m in \u001b[0;36m<cell line: 2>\u001b[0;34m()\u001b[0m\n\u001b[1;32m      1\u001b[0m \u001b[0;31m# Assignments can be reduced into one expression.\u001b[0m\u001b[0;34m\u001b[0m\u001b[0;34m\u001b[0m\u001b[0m\n\u001b[0;32m----> 2\u001b[0;31m \u001b[0;34m@\u001b[0m\u001b[0mlatexify\u001b[0m\u001b[0;34m.\u001b[0m\u001b[0mfunction\u001b[0m\u001b[0;34m(\u001b[0m\u001b[0mreduce_assignments\u001b[0m\u001b[0;34m=\u001b[0m\u001b[0;32mTrue\u001b[0m\u001b[0;34m)\u001b[0m\u001b[0;34m\u001b[0m\u001b[0;34m\u001b[0m\u001b[0m\n\u001b[0m\u001b[1;32m      3\u001b[0m \u001b[0;32mdef\u001b[0m \u001b[0mf\u001b[0m\u001b[0;34m(\u001b[0m\u001b[0ma\u001b[0m\u001b[0;34m,\u001b[0m \u001b[0mb\u001b[0m\u001b[0;34m,\u001b[0m \u001b[0mc\u001b[0m\u001b[0;34m)\u001b[0m\u001b[0;34m:\u001b[0m\u001b[0;34m\u001b[0m\u001b[0;34m\u001b[0m\u001b[0m\n\u001b[1;32m      4\u001b[0m     \u001b[0mdiscriminant\u001b[0m \u001b[0;34m=\u001b[0m \u001b[0mb\u001b[0m\u001b[0;34m**\u001b[0m\u001b[0;36m2\u001b[0m \u001b[0;34m-\u001b[0m \u001b[0;36m4\u001b[0m \u001b[0;34m*\u001b[0m \u001b[0ma\u001b[0m \u001b[0;34m*\u001b[0m \u001b[0mc\u001b[0m\u001b[0;34m\u001b[0m\u001b[0;34m\u001b[0m\u001b[0m\n\u001b[1;32m      5\u001b[0m     \u001b[0mnumerator\u001b[0m \u001b[0;34m=\u001b[0m \u001b[0;34m-\u001b[0m\u001b[0mb\u001b[0m \u001b[0;34m+\u001b[0m \u001b[0mmath\u001b[0m\u001b[0;34m.\u001b[0m\u001b[0msqrt\u001b[0m\u001b[0;34m(\u001b[0m\u001b[0mdiscriminant\u001b[0m\u001b[0;34m)\u001b[0m\u001b[0;34m\u001b[0m\u001b[0;34m\u001b[0m\u001b[0m\n",
            "\u001b[0;31mNameError\u001b[0m: name 'latexify' is not defined"
          ]
        }
      ],
      "source": [
        "# Assignments can be reduced into one expression.\n",
        "@latexify.function(reduce_assignments=True)\n",
        "def f(a, b, c):\n",
        "    discriminant = b**2 - 4 * a * c\n",
        "    numerator = -b + math.sqrt(discriminant)\n",
        "    denominator = 2 * a\n",
        "    return numerator / denominator\n",
        "\n",
        "f\n"
      ]
    },
    {
      "cell_type": "code",
      "execution_count": null,
      "metadata": {
        "id": "B8_183Lfe491"
      },
      "outputs": [],
      "source": []
    },
    {
      "cell_type": "markdown",
      "source": [
        "# more tests"
      ],
      "metadata": {
        "id": "I3eNOzEeFTBE"
      }
    },
    {
      "cell_type": "code",
      "source": [
        "c = np.array([7, 4])\n",
        "A = np.array([[-3, -1], [-1, -2]])\n",
        "b_u = np.array([-4, -2])\n",
        "b_l = np.full_like(b_u, -np.inf, dtype=float)\n",
        "# b_l = np.full_like(b_u, 0, dtype=float)\n",
        "constraints = LinearConstraint(A, b_l, b_u)\n",
        "integrality = np.ones_like(c)\n",
        "res = milp(c=c, constraints=constraints, integrality=integrality)\n",
        "res.x"
      ],
      "metadata": {
        "colab": {
          "base_uri": "https://localhost:8080/"
        },
        "id": "P-0D8XZHFVPy",
        "outputId": "70aa866b-1fad-41c1-ba01-3011ab7ce886"
      },
      "execution_count": 72,
      "outputs": [
        {
          "output_type": "execute_result",
          "data": {
            "text/plain": [
              "array([1., 1.])"
            ]
          },
          "metadata": {},
          "execution_count": 72
        }
      ]
    },
    {
      "cell_type": "code",
      "source": [],
      "metadata": {
        "id": "0mbdwj3L2q-k"
      },
      "execution_count": null,
      "outputs": []
    },
    {
      "cell_type": "code",
      "source": [
        "A = np.array([\n",
        "    [3, 1,-1, 0],\n",
        "    [1, 2, 0,-1],\n",
        "\n",
        "])\n",
        "b = np.array([4, 2])\n",
        "c = np.array([7, 4, 0, 0])\n",
        "\n",
        "# Round the result to 4 decimal places\n",
        "result = integer_simplex(c, A, b)\n",
        "\n",
        "result[:,[0,-1]]"
      ],
      "metadata": {
        "id": "GfoTfqpWFkZA"
      },
      "execution_count": null,
      "outputs": []
    },
    {
      "cell_type": "code",
      "source": [
        "2"
      ],
      "metadata": {
        "id": "-FPouyN6GZjr"
      },
      "execution_count": null,
      "outputs": []
    },
    {
      "cell_type": "code",
      "source": [],
      "metadata": {
        "id": "UvSJ44h_jUc-"
      },
      "execution_count": null,
      "outputs": []
    }
  ],
  "metadata": {
    "colab": {
      "collapsed_sections": [
        "rjK999_BQjt6",
        "EgChmwXcHGCm",
        "n0P-X8wpHNV4",
        "HVqdjT7Ede2h"
      ],
      "provenance": [],
      "include_colab_link": true
    },
    "kernelspec": {
      "display_name": "Python 3",
      "name": "python3"
    },
    "language_info": {
      "name": "python"
    }
  },
  "nbformat": 4,
  "nbformat_minor": 0
}